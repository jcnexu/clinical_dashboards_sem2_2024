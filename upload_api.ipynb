{
 "cells": [
  {
   "cell_type": "code",
   "execution_count": 13,
   "metadata": {},
   "outputs": [],
   "source": [
    "import time\n",
    "import warnings\n",
    "import requests\n",
    "import pandas as pd\n",
    "from IPython.display import clear_output\n",
    "\n",
    "warnings.filterwarnings(\"ignore\")"
   ]
  },
  {
   "cell_type": "code",
   "execution_count": 14,
   "metadata": {},
   "outputs": [],
   "source": [
    "def import_data_to_redcap(api_token,path_to_csv):\n",
    "    '''\n",
    "    api_token: token used for secure authentifocation in redcap database,\n",
    "    path_to_csv: csv_file stored data that in correct csv format can be imported to oue defined redcap database\n",
    "    '''\n",
    "    \n",
    "    myFile = open(path_to_csv, encoding='utf-8')\n",
    "    total_records = pd.read_csv(path_to_csv).shape[0]\n",
    "    text = myFile.readline()\n",
    "    header = text\n",
    "    insert_content_str = header\n",
    "    # chunk size is the number of records to import in one http post request\n",
    "    chunk_size = 10000\n",
    "    row_index = 0\n",
    "    total_time = 0\n",
    "    while text != \"\":\n",
    "        text = myFile.readline()\n",
    "        insert_content_str += text\n",
    "        row_index +=1\n",
    "        if(row_index%chunk_size==0):\n",
    "            start_time = time.time()\n",
    "            data = {\n",
    "                    'token': api_token,\n",
    "                    'content': 'record',\n",
    "                    'action': 'import',\n",
    "                    'format': 'csv',\n",
    "                    'type': 'flat',\n",
    "                    'overwriteBehavior': 'normal',\n",
    "                    'forceAutoNumber': 'false',\n",
    "                    'data': insert_content_str,\n",
    "                    'returnContent': 'count',\n",
    "                    'returnFormat': 'json'\n",
    "                    }\n",
    "            r = requests.post('https://redcap.wehi.edu.au/api/',data=data)\n",
    "            end_time = time.time()\n",
    "            total_time += end_time-start_time\n",
    "         \n",
    "            if(str(r.status_code) != '200'):\n",
    "                print(\"Error occur at row {}. Response status code: {}. Response content: {}\".format(row_index, r.status_code, r.content.decode('utf-8')))\n",
    "            else:\n",
    "                clear_output(wait = True)\n",
    "                print(\"Already {}/{} records upload successful\".format(row_index,total_records))\n",
    "            insert_content_str = header\n",
    "        \n",
    "    \n",
    "\n",
    "    # dont forget the last part of records\n",
    "    start_time = time.time()\n",
    "    data = {\n",
    "                    'token': '27141BE34CC0C727A7E39F370E5CD701',\n",
    "                    'content': 'record',\n",
    "                    'action': 'import',\n",
    "                    'format': 'csv',\n",
    "                    'type': 'flat',\n",
    "                    'overwriteBehavior': 'normal',\n",
    "                    'forceAutoNumber': 'false',\n",
    "                    'data': insert_content_str,\n",
    "                    'returnContent': 'count',\n",
    "                    'returnFormat': 'json'\n",
    "                    }\n",
    "    r = requests.post('https://redcap.wehi.edu.au/api/',data=data)\n",
    "    end_time = time.time()\n",
    "    total_time += end_time-start_time\n",
    "    if r.status_code != 200:\n",
    "        print(\"Error occur at row {}. Response status code: {}. Response content: {}\".format(row_index, r.status_code, r.content.decode('utf-8')))\n",
    "    else:\n",
    "        clear_output(wait = True)\n",
    "        print(\"{}/{} records have been uploaded successfully!\".format(row_index-1,total_records))\n",
    "\n",
    "\n",
    "    myFile.close()\n",
    "    print(\"{} records have been uploaded to the REDCap database! Time taken: {} hours\".format(row_index-1,round(total_time/3600,3)))  \n",
    "    \n",
    "    return "
   ]
  },
  {
   "cell_type": "code",
   "execution_count": 16,
   "metadata": {},
   "outputs": [
    {
     "name": "stdout",
     "output_type": "stream",
     "text": [
      "100/100 records uploaded successfully\n",
      "100 records have been uploaded to the redcap database. Time taken: 0.0 hours\n"
     ]
    }
   ],
   "source": [
    "# Change the API token & path_to_csv to your own\n",
    "api_token = '27141BE34CC0C727A7E39F370E5CD701'\n",
    "path_to_csv = 'sep/av_patient.csv'\n",
    "import_data_to_redcap(api_token,path_to_csv)"
   ]
  }
 ],
 "metadata": {
  "kernelspec": {
   "display_name": "base",
   "language": "python",
   "name": "python3"
  },
  "language_info": {
   "codemirror_mode": {
    "name": "ipython",
    "version": 3
   },
   "file_extension": ".py",
   "mimetype": "text/x-python",
   "name": "python",
   "nbconvert_exporter": "python",
   "pygments_lexer": "ipython3",
   "version": "3.11.7"
  },
  "orig_nbformat": 4
 },
 "nbformat": 4,
 "nbformat_minor": 2
}
