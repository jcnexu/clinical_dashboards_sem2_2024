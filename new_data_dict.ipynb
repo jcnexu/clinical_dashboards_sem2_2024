{
 "cells": [
  {
   "cell_type": "code",
   "execution_count": 13,
   "metadata": {},
   "outputs": [],
   "source": [
    "# Using Simulacrum V2 instead\n",
    "import os\n",
    "import pandas as pd\n",
    "import warnings "
   ]
  },
  {
   "attachments": {},
   "cell_type": "markdown",
   "metadata": {},
   "source": [
    "### 1. Read the datasets with utf-8 encoding and make all column names lower case"
   ]
  },
  {
   "cell_type": "code",
   "execution_count": 14,
   "metadata": {},
   "outputs": [],
   "source": [
    "def read_file_with_encoding(file_path):\n",
    "    encodings = ['utf-8', 'latin1', 'ISO-8859-1', 'cp1252']\n",
    "    \n",
    "    for encoding in encodings:\n",
    "        try:\n",
    "            df = pd.read_csv(file_path, encoding=encoding)\n",
    "            return df\n",
    "        except UnicodeDecodeError:\n",
    "            continue\n",
    "    \n",
    "    raise ValueError(f\"Failed to decode {file_path} with available encodings.\")"
   ]
  },
  {
   "cell_type": "code",
   "execution_count": 15,
   "metadata": {},
   "outputs": [],
   "source": [
    "def read_file_utf8(file_path):\n",
    "    try:\n",
    "        with warnings.catch_warnings(record=True) as w:\n",
    "            warnings.simplefilter(\"always\", pd.errors.DtypeWarning)\n",
    "            df = pd.read_csv(file_path, encoding='utf-8', low_memory=False)\n",
    "            \n",
    "            # Check if any warnings were triggered\n",
    "            if any(issubclass(warn.category, pd.errors.DtypeWarning) for warn in w):\n",
    "                print(f\"DtypeWarning encountered in file: {file_path}\")\n",
    "            \n",
    "        return df\n",
    "    \n",
    "    except UnicodeDecodeError:\n",
    "        raise ValueError(f\"Failed to decode {file_path} with UTF-8 encoding.\")"
   ]
  },
  {
   "cell_type": "code",
   "execution_count": 16,
   "metadata": {},
   "outputs": [
    {
     "name": "stderr",
     "output_type": "stream",
     "text": [
      "/var/folders/2y/gptxvrsx6892_93b71lw3qq00000gn/T/ipykernel_4968/3401075425.py:6: DtypeWarning: Columns (1,6) have mixed types. Specify dtype option on import or set low_memory=False.\n",
      "  df = pd.read_csv(file_path, encoding=encoding)\n"
     ]
    },
    {
     "name": "stdout",
     "output_type": "stream",
     "text": [
      "Successfully processed and saved: sim_rtds_exposure.csv\n"
     ]
    },
    {
     "name": "stderr",
     "output_type": "stream",
     "text": [
      "/var/folders/2y/gptxvrsx6892_93b71lw3qq00000gn/T/ipykernel_4968/3401075425.py:6: DtypeWarning: Columns (11) have mixed types. Specify dtype option on import or set low_memory=False.\n",
      "  df = pd.read_csv(file_path, encoding=encoding)\n"
     ]
    },
    {
     "name": "stdout",
     "output_type": "stream",
     "text": [
      "Successfully processed and saved: sim_rtds_prescription.csv\n",
      "Successfully processed and saved: sim_av_patient.csv\n",
      "Successfully processed and saved: sim_sact_outcome.csv\n",
      "Successfully processed and saved: sim_sact_drug_detail.csv\n"
     ]
    },
    {
     "name": "stderr",
     "output_type": "stream",
     "text": [
      "/var/folders/2y/gptxvrsx6892_93b71lw3qq00000gn/T/ipykernel_4968/3401075425.py:6: DtypeWarning: Columns (14,15,16,17,23,24,25,26) have mixed types. Specify dtype option on import or set low_memory=False.\n",
      "  df = pd.read_csv(file_path, encoding=encoding)\n"
     ]
    },
    {
     "name": "stdout",
     "output_type": "stream",
     "text": [
      "Successfully processed and saved: sim_av_tumour.csv\n",
      "Successfully processed and saved: sim_sact_regimen_new.csv\n",
      "Successfully processed and saved: sim_av_gene.csv\n"
     ]
    },
    {
     "name": "stderr",
     "output_type": "stream",
     "text": [
      "/var/folders/2y/gptxvrsx6892_93b71lw3qq00000gn/T/ipykernel_4968/3401075425.py:6: DtypeWarning: Columns (2) have mixed types. Specify dtype option on import or set low_memory=False.\n",
      "  df = pd.read_csv(file_path, encoding=encoding)\n"
     ]
    },
    {
     "name": "stdout",
     "output_type": "stream",
     "text": [
      "Successfully processed and saved: sim_rtds_episode.csv\n"
     ]
    },
    {
     "name": "stderr",
     "output_type": "stream",
     "text": [
      "/var/folders/2y/gptxvrsx6892_93b71lw3qq00000gn/T/ipykernel_4968/3401075425.py:6: DtypeWarning: Columns (5) have mixed types. Specify dtype option on import or set low_memory=False.\n",
      "  df = pd.read_csv(file_path, encoding=encoding)\n"
     ]
    },
    {
     "name": "stdout",
     "output_type": "stream",
     "text": [
      "Successfully processed and saved: sim_sact_cycle.csv\n",
      "Successfully processed and saved: sim_sact_regimen.csv\n"
     ]
    },
    {
     "name": "stderr",
     "output_type": "stream",
     "text": [
      "/var/folders/2y/gptxvrsx6892_93b71lw3qq00000gn/T/ipykernel_4968/3401075425.py:6: DtypeWarning: Columns (15,20) have mixed types. Specify dtype option on import or set low_memory=False.\n",
      "  df = pd.read_csv(file_path, encoding=encoding)\n"
     ]
    },
    {
     "name": "stdout",
     "output_type": "stream",
     "text": [
      "Successfully processed and saved: sim_rtds_combined.csv\n"
     ]
    }
   ],
   "source": [
    "#directory = \"../datasets/simulacrum_v2.1.0/Data\"\n",
    "directory = \"/Users/janexu/Documents/0. 2024 3rd Year/SCIE30002/simulacrum_v2.1.0/Data\"\n",
    "files = os.listdir(directory)\n",
    "\n",
    "for file_name in files:\n",
    "    file_path = os.path.join(directory, file_name)\n",
    "    \n",
    "    try:\n",
    "        # Read the file with encoding handling\n",
    "        df = read_file_with_encoding(file_path)\n",
    "        \n",
    "        # Convert column names to lowercase\n",
    "        df.columns = [col.lower() for col in df.columns]\n",
    "        \n",
    "        # Save the updated file\n",
    "        df.to_csv(file_path, index=False, encoding = 'utf-8')\n",
    "        \n",
    "        print(f\"Successfully processed and saved: {file_name}\")\n",
    "        \n",
    "    except Exception as e:\n",
    "        print(f\"Error processing {file_name}: {e}\")"
   ]
  },
  {
   "attachments": {},
   "cell_type": "markdown",
   "metadata": {},
   "source": [
    "### 2. Insert underscores in column names for REDCap upload"
   ]
  },
  {
   "attachments": {},
   "cell_type": "markdown",
   "metadata": {},
   "source": [
    "#### AV Files (Patient, Tumour, Gene)"
   ]
  },
  {
   "cell_type": "code",
   "execution_count": 17,
   "metadata": {},
   "outputs": [],
   "source": [
    "sim_av_patient = pd.read_csv(os.path.join(directory, 'sim_av_patient.csv'))\n",
    "\n",
    "new_field_names = {\n",
    "    'patientid': 'patient_id',\n",
    "    'gender': 'gender_patient',\n",
    "    'ethnicity': 'ethnicity_patient',\n",
    "    'deathcausecode_1a': 'death_cause_code_1a',\n",
    "    'deathcausecode_1b': 'death_cause_code_1b',\n",
    "    'deathcausecode_1c': 'death_cause_code_1c',\n",
    "    'deathcausecode_2': 'death_cause_code_2',\n",
    "    'deathcausecode_underlying': 'death_cause_code_underlying',\n",
    "    'deathlocationcode': 'death_location_code',\n",
    "    'vitalstatus': 'vital_status',\n",
    "    'vitalstatusdate': 'vital_status_date',\n",
    "    'linknumber': 'link_number'\n",
    "}\n",
    "\n",
    "sim_av_patient.rename(columns=new_field_names, inplace=True)\n",
    "sim_av_patient.to_csv(os.path.join(directory, 'sim_av_patient.csv'), index=False, encoding = 'utf-8')"
   ]
  },
  {
   "cell_type": "code",
   "execution_count": 18,
   "metadata": {},
   "outputs": [
    {
     "name": "stderr",
     "output_type": "stream",
     "text": [
      "/var/folders/2y/gptxvrsx6892_93b71lw3qq00000gn/T/ipykernel_4968/475758038.py:1: DtypeWarning: Columns (14,15,16,17,23,24,25,26) have mixed types. Specify dtype option on import or set low_memory=False.\n",
      "  sim_av_tumour = pd.read_csv(os.path.join(directory, 'sim_av_tumour.csv'))\n"
     ]
    }
   ],
   "source": [
    "sim_av_tumour = pd.read_csv(os.path.join(directory, 'sim_av_tumour.csv'))\n",
    "\n",
    "new_field_names = {\n",
    "    'tumourid': 'tumour_id',\n",
    "    'patientid': 'patient_id',\n",
    "    'gender': 'gender_patient', #unsure about this one\n",
    "    'diagnosisdatebest': 'diagonsis_date_best',\n",
    "    'site_icd10r4_o2_3char_from2013': 'site_icd10r4_o2_3char_from_2013',\n",
    "    'site_icd10r4_o2_from2013': 'site_icd10r4_o2_from_2013',\n",
    "    'site_icdo3rev2011': 'site_icdo3rev_2011',\n",
    "    'morph_icdo3rev2011': 'morph_icdo3rev_2011',\n",
    "    'behaviour_icdo3rev2011': 'behaviour_icdo3rev_2011',\n",
    "    'screeningstatusfull_code': 'screening_status_full_code',\n",
    "    'cancercareplanintent': 'cancer_care_plan_intent',\n",
    "    'performancestatus': 'performance_status'\n",
    "}\n",
    "\n",
    "sim_av_tumour.rename(columns=new_field_names, inplace=True)\n",
    "sim_av_tumour.to_csv(os.path.join(directory, 'sim_av_tumour.csv'), index=False, encoding = 'utf-8')"
   ]
  },
  {
   "cell_type": "code",
   "execution_count": 19,
   "metadata": {},
   "outputs": [],
   "source": [
    "sim_av_gene = pd.read_csv(os.path.join(directory, 'sim_av_gene.csv'))\n",
    "\n",
    "new_field_names = {\n",
    "    'geneid': 'gene_id',\n",
    "    'tumourid': 'tumour_id',\n",
    "    'patientid': 'patient_id',\n",
    "    'all_teststatuses': 'all_test_statuses'\n",
    "}\n",
    "\n",
    "sim_av_gene.rename(columns=new_field_names, inplace=True)\n",
    "sim_av_gene.to_csv(os.path.join(directory, 'sim_av_gene.csv'), index=False, encoding = 'utf-8')"
   ]
  },
  {
   "attachments": {},
   "cell_type": "markdown",
   "metadata": {},
   "source": [
    "#### RTDS Files (Episode, Exposure, Prescription, Combined)"
   ]
  },
  {
   "cell_type": "code",
   "execution_count": 20,
   "metadata": {},
   "outputs": [
    {
     "name": "stderr",
     "output_type": "stream",
     "text": [
      "/var/folders/2y/gptxvrsx6892_93b71lw3qq00000gn/T/ipykernel_4968/4051879955.py:1: DtypeWarning: Columns (2) have mixed types. Specify dtype option on import or set low_memory=False.\n",
      "  sim_rtds_episode = pd.read_csv(os.path.join(directory, 'sim_rtds_episode.csv'))\n"
     ]
    }
   ],
   "source": [
    "sim_rtds_episode = pd.read_csv(os.path.join(directory, 'sim_rtds_episode.csv'))\n",
    "\n",
    "new_field_names = {\n",
    "    'patientid': 'patient_id',\n",
    "    'radiotherapyepisodeid': 'radiotherapy_episode_id',\n",
    "    'attendid': 'attend_id',\n",
    "    'apptdate': 'appt_date',\n",
    "    'linkcode': 'link_code',\n",
    "    'decisiontotreatdate': 'decision_to_treat_date',\n",
    "    'earliestclinappropdate': 'earliest_clin_approp_date',\n",
    "    'radiotherapypriority': 'radiotherapy_priority',\n",
    "    'radiotherapyintent': 'radiotherapy_intent'\n",
    "}\n",
    "\n",
    "sim_rtds_episode.rename(columns=new_field_names, inplace=True)\n",
    "sim_rtds_episode.to_csv(os.path.join(directory, 'sim_rtds_episode.csv'), index=False, encoding = 'utf-8')"
   ]
  },
  {
   "cell_type": "code",
   "execution_count": 21,
   "metadata": {},
   "outputs": [
    {
     "name": "stderr",
     "output_type": "stream",
     "text": [
      "/var/folders/2y/gptxvrsx6892_93b71lw3qq00000gn/T/ipykernel_4968/3852684677.py:1: DtypeWarning: Columns (11) have mixed types. Specify dtype option on import or set low_memory=False.\n",
      "  sim_rtds_prescription = pd.read_csv(os.path.join(directory, 'sim_rtds_prescription.csv'))\n"
     ]
    }
   ],
   "source": [
    "sim_rtds_prescription = pd.read_csv(os.path.join(directory, 'sim_rtds_prescription.csv'))\n",
    "\n",
    "new_field_names = {\n",
    "    'patientid': 'patient_id',\n",
    "    'prescriptionid': 'prescription_id',\n",
    "    'rttreatmentmodality': 'rt_treatment_modality',\n",
    "    'rtprescribeddose': 'rt_prescribed_dose',\n",
    "    'rtprescribedfractions': 'rt_prescribed_fractions',\n",
    "    'rtactualdose': 'rt_actual_dose',\n",
    "    'rtactualfractions': 'rt_actual_fractions',\n",
    "    'rttreatmentregion': 'rt_treatment_region',\n",
    "    'rttreatmentanatomicalsite': 'rt_treatment_anatomical_site',\n",
    "    'radiotherapyepisodeid': 'radiotherapy_episode_id',\n",
    "    'linkcode': 'link_code',\n",
    "    'attendid': 'attend_id',\n",
    "    'apptdate': 'appt_date',\n",
    "}\n",
    "\n",
    "sim_rtds_prescription.rename(columns=new_field_names, inplace=True)\n",
    "sim_rtds_prescription.to_csv(os.path.join(directory, 'sim_rtds_prescription.csv'), index=False, encoding = 'utf-8')"
   ]
  },
  {
   "cell_type": "code",
   "execution_count": 22,
   "metadata": {},
   "outputs": [
    {
     "name": "stderr",
     "output_type": "stream",
     "text": [
      "/var/folders/2y/gptxvrsx6892_93b71lw3qq00000gn/T/ipykernel_4968/3258467019.py:1: DtypeWarning: Columns (1,6) have mixed types. Specify dtype option on import or set low_memory=False.\n",
      "  sim_rtds_exposure = pd.read_csv(os.path.join(directory, 'sim_rtds_exposure.csv'))\n"
     ]
    }
   ],
   "source": [
    "sim_rtds_exposure = pd.read_csv(os.path.join(directory, 'sim_rtds_exposure.csv'))\n",
    "\n",
    "new_field_names = {\n",
    "    'prescriptionid': 'prescription_id',\n",
    "    'radioisotope': 'radio_isotope',\n",
    "    'rtprescribeddose': 'rt_prescribed_dose',\n",
    "    'radiotherapybeamtype': 'radiotherapy_beam_type',\n",
    "    'radiotherapybeamenergy': 'radiotherapy_beam_energy',\n",
    "    'timeofexposure': 'time_of_exposure',\n",
    "    'apptdate': 'appt_date',\n",
    "    'attendid': 'attend_id',\n",
    "    'patientid': 'patient_id',\n",
    "    'radiotherapyepisodeid': 'radiotherapy_episode_id',\n",
    "    'linkcode': 'link_code',\n",
    "}\n",
    "\n",
    "sim_rtds_exposure.rename(columns=new_field_names, inplace=True)\n",
    "sim_rtds_exposure.to_csv(os.path.join(directory, 'sim_rtds_exposure.csv'), index=False, encoding = 'utf-8')"
   ]
  },
  {
   "cell_type": "code",
   "execution_count": 23,
   "metadata": {},
   "outputs": [
    {
     "name": "stderr",
     "output_type": "stream",
     "text": [
      "/var/folders/2y/gptxvrsx6892_93b71lw3qq00000gn/T/ipykernel_4968/2751768707.py:1: DtypeWarning: Columns (15,20) have mixed types. Specify dtype option on import or set low_memory=False.\n",
      "  sim_rtds_combined = pd.read_csv(os.path.join(directory, 'sim_rtds_combined.csv'))\n"
     ]
    },
    {
     "ename": "KeyboardInterrupt",
     "evalue": "",
     "output_type": "error",
     "traceback": [
      "\u001b[0;31m---------------------------------------------------------------------------\u001b[0m",
      "\u001b[0;31mKeyboardInterrupt\u001b[0m                         Traceback (most recent call last)",
      "Cell \u001b[0;32mIn[23], line 30\u001b[0m\n\u001b[1;32m      4\u001b[0m new_field_names \u001b[38;5;241m=\u001b[39m {\n\u001b[1;32m      5\u001b[0m     \u001b[38;5;124m'\u001b[39m\u001b[38;5;124mpatientid\u001b[39m\u001b[38;5;124m'\u001b[39m: \u001b[38;5;124m'\u001b[39m\u001b[38;5;124mpatient_id\u001b[39m\u001b[38;5;124m'\u001b[39m,\n\u001b[1;32m      6\u001b[0m     \u001b[38;5;124m'\u001b[39m\u001b[38;5;124mprescriptionid\u001b[39m\u001b[38;5;124m'\u001b[39m: \u001b[38;5;124m'\u001b[39m\u001b[38;5;124mprescription_id\u001b[39m\u001b[38;5;124m'\u001b[39m, \u001b[38;5;66;03m# from prescription\u001b[39;00m\n\u001b[0;32m   (...)\u001b[0m\n\u001b[1;32m     26\u001b[0m     \u001b[38;5;124m'\u001b[39m\u001b[38;5;124mpatientid\u001b[39m\u001b[38;5;124m'\u001b[39m: \u001b[38;5;124m'\u001b[39m\u001b[38;5;124mpatient_id\u001b[39m\u001b[38;5;124m'\u001b[39m,\n\u001b[1;32m     27\u001b[0m }\n\u001b[1;32m     29\u001b[0m sim_rtds_combined\u001b[38;5;241m.\u001b[39mrename(columns\u001b[38;5;241m=\u001b[39mnew_field_names, inplace\u001b[38;5;241m=\u001b[39m\u001b[38;5;28;01mTrue\u001b[39;00m)\n\u001b[0;32m---> 30\u001b[0m \u001b[43msim_rtds_combined\u001b[49m\u001b[38;5;241;43m.\u001b[39;49m\u001b[43mto_csv\u001b[49m\u001b[43m(\u001b[49m\u001b[43mos\u001b[49m\u001b[38;5;241;43m.\u001b[39;49m\u001b[43mpath\u001b[49m\u001b[38;5;241;43m.\u001b[39;49m\u001b[43mjoin\u001b[49m\u001b[43m(\u001b[49m\u001b[43mdirectory\u001b[49m\u001b[43m,\u001b[49m\u001b[43m \u001b[49m\u001b[38;5;124;43m'\u001b[39;49m\u001b[38;5;124;43msim_rtds_combined.csv\u001b[39;49m\u001b[38;5;124;43m'\u001b[39;49m\u001b[43m)\u001b[49m\u001b[43m,\u001b[49m\u001b[43m \u001b[49m\u001b[43mindex\u001b[49m\u001b[38;5;241;43m=\u001b[39;49m\u001b[38;5;28;43;01mFalse\u001b[39;49;00m\u001b[43m,\u001b[49m\u001b[43m \u001b[49m\u001b[43mencoding\u001b[49m\u001b[43m \u001b[49m\u001b[38;5;241;43m=\u001b[39;49m\u001b[43m \u001b[49m\u001b[38;5;124;43m'\u001b[39;49m\u001b[38;5;124;43mutf-8\u001b[39;49m\u001b[38;5;124;43m'\u001b[39;49m\u001b[43m)\u001b[49m\n",
      "File \u001b[0;32m/Library/Frameworks/Python.framework/Versions/3.12/lib/python3.12/site-packages/pandas/util/_decorators.py:333\u001b[0m, in \u001b[0;36mdeprecate_nonkeyword_arguments.<locals>.decorate.<locals>.wrapper\u001b[0;34m(*args, **kwargs)\u001b[0m\n\u001b[1;32m    327\u001b[0m \u001b[38;5;28;01mif\u001b[39;00m \u001b[38;5;28mlen\u001b[39m(args) \u001b[38;5;241m>\u001b[39m num_allow_args:\n\u001b[1;32m    328\u001b[0m     warnings\u001b[38;5;241m.\u001b[39mwarn(\n\u001b[1;32m    329\u001b[0m         msg\u001b[38;5;241m.\u001b[39mformat(arguments\u001b[38;5;241m=\u001b[39m_format_argument_list(allow_args)),\n\u001b[1;32m    330\u001b[0m         \u001b[38;5;167;01mFutureWarning\u001b[39;00m,\n\u001b[1;32m    331\u001b[0m         stacklevel\u001b[38;5;241m=\u001b[39mfind_stack_level(),\n\u001b[1;32m    332\u001b[0m     )\n\u001b[0;32m--> 333\u001b[0m \u001b[38;5;28;01mreturn\u001b[39;00m \u001b[43mfunc\u001b[49m\u001b[43m(\u001b[49m\u001b[38;5;241;43m*\u001b[39;49m\u001b[43margs\u001b[49m\u001b[43m,\u001b[49m\u001b[43m \u001b[49m\u001b[38;5;241;43m*\u001b[39;49m\u001b[38;5;241;43m*\u001b[39;49m\u001b[43mkwargs\u001b[49m\u001b[43m)\u001b[49m\n",
      "File \u001b[0;32m/Library/Frameworks/Python.framework/Versions/3.12/lib/python3.12/site-packages/pandas/core/generic.py:3967\u001b[0m, in \u001b[0;36mNDFrame.to_csv\u001b[0;34m(self, path_or_buf, sep, na_rep, float_format, columns, header, index, index_label, mode, encoding, compression, quoting, quotechar, lineterminator, chunksize, date_format, doublequote, escapechar, decimal, errors, storage_options)\u001b[0m\n\u001b[1;32m   3956\u001b[0m df \u001b[38;5;241m=\u001b[39m \u001b[38;5;28mself\u001b[39m \u001b[38;5;28;01mif\u001b[39;00m \u001b[38;5;28misinstance\u001b[39m(\u001b[38;5;28mself\u001b[39m, ABCDataFrame) \u001b[38;5;28;01melse\u001b[39;00m \u001b[38;5;28mself\u001b[39m\u001b[38;5;241m.\u001b[39mto_frame()\n\u001b[1;32m   3958\u001b[0m formatter \u001b[38;5;241m=\u001b[39m DataFrameFormatter(\n\u001b[1;32m   3959\u001b[0m     frame\u001b[38;5;241m=\u001b[39mdf,\n\u001b[1;32m   3960\u001b[0m     header\u001b[38;5;241m=\u001b[39mheader,\n\u001b[0;32m   (...)\u001b[0m\n\u001b[1;32m   3964\u001b[0m     decimal\u001b[38;5;241m=\u001b[39mdecimal,\n\u001b[1;32m   3965\u001b[0m )\n\u001b[0;32m-> 3967\u001b[0m \u001b[38;5;28;01mreturn\u001b[39;00m \u001b[43mDataFrameRenderer\u001b[49m\u001b[43m(\u001b[49m\u001b[43mformatter\u001b[49m\u001b[43m)\u001b[49m\u001b[38;5;241;43m.\u001b[39;49m\u001b[43mto_csv\u001b[49m\u001b[43m(\u001b[49m\n\u001b[1;32m   3968\u001b[0m \u001b[43m    \u001b[49m\u001b[43mpath_or_buf\u001b[49m\u001b[43m,\u001b[49m\n\u001b[1;32m   3969\u001b[0m \u001b[43m    \u001b[49m\u001b[43mlineterminator\u001b[49m\u001b[38;5;241;43m=\u001b[39;49m\u001b[43mlineterminator\u001b[49m\u001b[43m,\u001b[49m\n\u001b[1;32m   3970\u001b[0m \u001b[43m    \u001b[49m\u001b[43msep\u001b[49m\u001b[38;5;241;43m=\u001b[39;49m\u001b[43msep\u001b[49m\u001b[43m,\u001b[49m\n\u001b[1;32m   3971\u001b[0m \u001b[43m    \u001b[49m\u001b[43mencoding\u001b[49m\u001b[38;5;241;43m=\u001b[39;49m\u001b[43mencoding\u001b[49m\u001b[43m,\u001b[49m\n\u001b[1;32m   3972\u001b[0m \u001b[43m    \u001b[49m\u001b[43merrors\u001b[49m\u001b[38;5;241;43m=\u001b[39;49m\u001b[43merrors\u001b[49m\u001b[43m,\u001b[49m\n\u001b[1;32m   3973\u001b[0m \u001b[43m    \u001b[49m\u001b[43mcompression\u001b[49m\u001b[38;5;241;43m=\u001b[39;49m\u001b[43mcompression\u001b[49m\u001b[43m,\u001b[49m\n\u001b[1;32m   3974\u001b[0m \u001b[43m    \u001b[49m\u001b[43mquoting\u001b[49m\u001b[38;5;241;43m=\u001b[39;49m\u001b[43mquoting\u001b[49m\u001b[43m,\u001b[49m\n\u001b[1;32m   3975\u001b[0m \u001b[43m    \u001b[49m\u001b[43mcolumns\u001b[49m\u001b[38;5;241;43m=\u001b[39;49m\u001b[43mcolumns\u001b[49m\u001b[43m,\u001b[49m\n\u001b[1;32m   3976\u001b[0m \u001b[43m    \u001b[49m\u001b[43mindex_label\u001b[49m\u001b[38;5;241;43m=\u001b[39;49m\u001b[43mindex_label\u001b[49m\u001b[43m,\u001b[49m\n\u001b[1;32m   3977\u001b[0m \u001b[43m    \u001b[49m\u001b[43mmode\u001b[49m\u001b[38;5;241;43m=\u001b[39;49m\u001b[43mmode\u001b[49m\u001b[43m,\u001b[49m\n\u001b[1;32m   3978\u001b[0m \u001b[43m    \u001b[49m\u001b[43mchunksize\u001b[49m\u001b[38;5;241;43m=\u001b[39;49m\u001b[43mchunksize\u001b[49m\u001b[43m,\u001b[49m\n\u001b[1;32m   3979\u001b[0m \u001b[43m    \u001b[49m\u001b[43mquotechar\u001b[49m\u001b[38;5;241;43m=\u001b[39;49m\u001b[43mquotechar\u001b[49m\u001b[43m,\u001b[49m\n\u001b[1;32m   3980\u001b[0m \u001b[43m    \u001b[49m\u001b[43mdate_format\u001b[49m\u001b[38;5;241;43m=\u001b[39;49m\u001b[43mdate_format\u001b[49m\u001b[43m,\u001b[49m\n\u001b[1;32m   3981\u001b[0m \u001b[43m    \u001b[49m\u001b[43mdoublequote\u001b[49m\u001b[38;5;241;43m=\u001b[39;49m\u001b[43mdoublequote\u001b[49m\u001b[43m,\u001b[49m\n\u001b[1;32m   3982\u001b[0m \u001b[43m    \u001b[49m\u001b[43mescapechar\u001b[49m\u001b[38;5;241;43m=\u001b[39;49m\u001b[43mescapechar\u001b[49m\u001b[43m,\u001b[49m\n\u001b[1;32m   3983\u001b[0m \u001b[43m    \u001b[49m\u001b[43mstorage_options\u001b[49m\u001b[38;5;241;43m=\u001b[39;49m\u001b[43mstorage_options\u001b[49m\u001b[43m,\u001b[49m\n\u001b[1;32m   3984\u001b[0m \u001b[43m\u001b[49m\u001b[43m)\u001b[49m\n",
      "File \u001b[0;32m/Library/Frameworks/Python.framework/Versions/3.12/lib/python3.12/site-packages/pandas/io/formats/format.py:1014\u001b[0m, in \u001b[0;36mDataFrameRenderer.to_csv\u001b[0;34m(self, path_or_buf, encoding, sep, columns, index_label, mode, compression, quoting, quotechar, lineterminator, chunksize, date_format, doublequote, escapechar, errors, storage_options)\u001b[0m\n\u001b[1;32m    993\u001b[0m     created_buffer \u001b[38;5;241m=\u001b[39m \u001b[38;5;28;01mFalse\u001b[39;00m\n\u001b[1;32m    995\u001b[0m csv_formatter \u001b[38;5;241m=\u001b[39m CSVFormatter(\n\u001b[1;32m    996\u001b[0m     path_or_buf\u001b[38;5;241m=\u001b[39mpath_or_buf,\n\u001b[1;32m    997\u001b[0m     lineterminator\u001b[38;5;241m=\u001b[39mlineterminator,\n\u001b[0;32m   (...)\u001b[0m\n\u001b[1;32m   1012\u001b[0m     formatter\u001b[38;5;241m=\u001b[39m\u001b[38;5;28mself\u001b[39m\u001b[38;5;241m.\u001b[39mfmt,\n\u001b[1;32m   1013\u001b[0m )\n\u001b[0;32m-> 1014\u001b[0m \u001b[43mcsv_formatter\u001b[49m\u001b[38;5;241;43m.\u001b[39;49m\u001b[43msave\u001b[49m\u001b[43m(\u001b[49m\u001b[43m)\u001b[49m\n\u001b[1;32m   1016\u001b[0m \u001b[38;5;28;01mif\u001b[39;00m created_buffer:\n\u001b[1;32m   1017\u001b[0m     \u001b[38;5;28;01massert\u001b[39;00m \u001b[38;5;28misinstance\u001b[39m(path_or_buf, StringIO)\n",
      "File \u001b[0;32m/Library/Frameworks/Python.framework/Versions/3.12/lib/python3.12/site-packages/pandas/io/formats/csvs.py:270\u001b[0m, in \u001b[0;36mCSVFormatter.save\u001b[0;34m(self)\u001b[0m\n\u001b[1;32m    251\u001b[0m \u001b[38;5;28;01mwith\u001b[39;00m get_handle(\n\u001b[1;32m    252\u001b[0m     \u001b[38;5;28mself\u001b[39m\u001b[38;5;241m.\u001b[39mfilepath_or_buffer,\n\u001b[1;32m    253\u001b[0m     \u001b[38;5;28mself\u001b[39m\u001b[38;5;241m.\u001b[39mmode,\n\u001b[0;32m   (...)\u001b[0m\n\u001b[1;32m    258\u001b[0m ) \u001b[38;5;28;01mas\u001b[39;00m handles:\n\u001b[1;32m    259\u001b[0m     \u001b[38;5;66;03m# Note: self.encoding is irrelevant here\u001b[39;00m\n\u001b[1;32m    260\u001b[0m     \u001b[38;5;28mself\u001b[39m\u001b[38;5;241m.\u001b[39mwriter \u001b[38;5;241m=\u001b[39m csvlib\u001b[38;5;241m.\u001b[39mwriter(\n\u001b[1;32m    261\u001b[0m         handles\u001b[38;5;241m.\u001b[39mhandle,\n\u001b[1;32m    262\u001b[0m         lineterminator\u001b[38;5;241m=\u001b[39m\u001b[38;5;28mself\u001b[39m\u001b[38;5;241m.\u001b[39mlineterminator,\n\u001b[0;32m   (...)\u001b[0m\n\u001b[1;32m    267\u001b[0m         quotechar\u001b[38;5;241m=\u001b[39m\u001b[38;5;28mself\u001b[39m\u001b[38;5;241m.\u001b[39mquotechar,\n\u001b[1;32m    268\u001b[0m     )\n\u001b[0;32m--> 270\u001b[0m     \u001b[38;5;28;43mself\u001b[39;49m\u001b[38;5;241;43m.\u001b[39;49m\u001b[43m_save\u001b[49m\u001b[43m(\u001b[49m\u001b[43m)\u001b[49m\n",
      "File \u001b[0;32m/Library/Frameworks/Python.framework/Versions/3.12/lib/python3.12/site-packages/pandas/io/formats/csvs.py:275\u001b[0m, in \u001b[0;36mCSVFormatter._save\u001b[0;34m(self)\u001b[0m\n\u001b[1;32m    273\u001b[0m \u001b[38;5;28;01mif\u001b[39;00m \u001b[38;5;28mself\u001b[39m\u001b[38;5;241m.\u001b[39m_need_to_save_header:\n\u001b[1;32m    274\u001b[0m     \u001b[38;5;28mself\u001b[39m\u001b[38;5;241m.\u001b[39m_save_header()\n\u001b[0;32m--> 275\u001b[0m \u001b[38;5;28;43mself\u001b[39;49m\u001b[38;5;241;43m.\u001b[39;49m\u001b[43m_save_body\u001b[49m\u001b[43m(\u001b[49m\u001b[43m)\u001b[49m\n",
      "File \u001b[0;32m/Library/Frameworks/Python.framework/Versions/3.12/lib/python3.12/site-packages/pandas/io/formats/csvs.py:313\u001b[0m, in \u001b[0;36mCSVFormatter._save_body\u001b[0;34m(self)\u001b[0m\n\u001b[1;32m    311\u001b[0m \u001b[38;5;28;01mif\u001b[39;00m start_i \u001b[38;5;241m>\u001b[39m\u001b[38;5;241m=\u001b[39m end_i:\n\u001b[1;32m    312\u001b[0m     \u001b[38;5;28;01mbreak\u001b[39;00m\n\u001b[0;32m--> 313\u001b[0m \u001b[38;5;28;43mself\u001b[39;49m\u001b[38;5;241;43m.\u001b[39;49m\u001b[43m_save_chunk\u001b[49m\u001b[43m(\u001b[49m\u001b[43mstart_i\u001b[49m\u001b[43m,\u001b[49m\u001b[43m \u001b[49m\u001b[43mend_i\u001b[49m\u001b[43m)\u001b[49m\n",
      "File \u001b[0;32m/Library/Frameworks/Python.framework/Versions/3.12/lib/python3.12/site-packages/pandas/io/formats/csvs.py:324\u001b[0m, in \u001b[0;36mCSVFormatter._save_chunk\u001b[0;34m(self, start_i, end_i)\u001b[0m\n\u001b[1;32m    321\u001b[0m data \u001b[38;5;241m=\u001b[39m \u001b[38;5;28mlist\u001b[39m(res\u001b[38;5;241m.\u001b[39m_iter_column_arrays())\n\u001b[1;32m    323\u001b[0m ix \u001b[38;5;241m=\u001b[39m \u001b[38;5;28mself\u001b[39m\u001b[38;5;241m.\u001b[39mdata_index[slicer]\u001b[38;5;241m.\u001b[39m_get_values_for_csv(\u001b[38;5;241m*\u001b[39m\u001b[38;5;241m*\u001b[39m\u001b[38;5;28mself\u001b[39m\u001b[38;5;241m.\u001b[39m_number_format)\n\u001b[0;32m--> 324\u001b[0m \u001b[43mlibwriters\u001b[49m\u001b[38;5;241;43m.\u001b[39;49m\u001b[43mwrite_csv_rows\u001b[49m\u001b[43m(\u001b[49m\n\u001b[1;32m    325\u001b[0m \u001b[43m    \u001b[49m\u001b[43mdata\u001b[49m\u001b[43m,\u001b[49m\n\u001b[1;32m    326\u001b[0m \u001b[43m    \u001b[49m\u001b[43mix\u001b[49m\u001b[43m,\u001b[49m\n\u001b[1;32m    327\u001b[0m \u001b[43m    \u001b[49m\u001b[38;5;28;43mself\u001b[39;49m\u001b[38;5;241;43m.\u001b[39;49m\u001b[43mnlevels\u001b[49m\u001b[43m,\u001b[49m\n\u001b[1;32m    328\u001b[0m \u001b[43m    \u001b[49m\u001b[38;5;28;43mself\u001b[39;49m\u001b[38;5;241;43m.\u001b[39;49m\u001b[43mcols\u001b[49m\u001b[43m,\u001b[49m\n\u001b[1;32m    329\u001b[0m \u001b[43m    \u001b[49m\u001b[38;5;28;43mself\u001b[39;49m\u001b[38;5;241;43m.\u001b[39;49m\u001b[43mwriter\u001b[49m\u001b[43m,\u001b[49m\n\u001b[1;32m    330\u001b[0m \u001b[43m\u001b[49m\u001b[43m)\u001b[49m\n",
      "File \u001b[0;32mwriters.pyx:76\u001b[0m, in \u001b[0;36mpandas._libs.writers.write_csv_rows\u001b[0;34m()\u001b[0m\n",
      "\u001b[0;31mKeyboardInterrupt\u001b[0m: "
     ]
    }
   ],
   "source": [
    "sim_rtds_combined = pd.read_csv(os.path.join(directory, 'sim_rtds_combined.csv'))\n",
    "# a df combining prescription, episode and exposure (contains all their columns)\n",
    "\n",
    "new_field_names = {\n",
    "    'patientid': 'patient_id',\n",
    "    'prescriptionid': 'prescription_id', # from prescription\n",
    "    'rttreatmentmodality': 'rt_treatment_modality', # prescription\n",
    "    'radiotherapypriority': 'radiotherapy_priority', # episode\n",
    "    'radiotherapyintent': 'radiotherapy_intent', # episode\n",
    "    'rtprescribeddose': 'rt_prescribed_dose', # prescription\n",
    "    'rtprescribedfractions': 'rt_prescribed_fractions', # prescription\n",
    "    'rtactualdose': 'rt_actual_dose', # prescription\n",
    "    'rtactualfractions': 'rt_actual_fractions', # prescription\n",
    "    'rttreatmentregion': 'rt_treatment_region', # prescription\n",
    "    'rttreatmentanatomicalsite': 'rt_treatment_anatomical_site', # prescription\n",
    "    'decisiontotreatdate': 'decision_to_treat_date', # episode\n",
    "    'earliestclinappropdate': 'earliest_clin_approp_date', # episode\n",
    "    'radiotherapyepisodeid': 'radiotherapy_episode_id', # episode\n",
    "    'linkcode': 'link_code',\n",
    "    'radioisotope': 'radio_isotope', # exposure\n",
    "    'radiotherapybeamtype': 'radiotherapy_beam_type', # exposure\n",
    "    'radiotherapybeamenergy': 'radiotherapy_beam_energy', # exposure\n",
    "    'timeofexposure': 'time_of_exposure', # exposure\n",
    "    'apptdate': 'appt_date',\n",
    "    'attendid': 'attend_id',\n",
    "    'patientid': 'patient_id',\n",
    "}\n",
    "\n",
    "sim_rtds_combined.rename(columns=new_field_names, inplace=True)\n",
    "sim_rtds_combined.to_csv(os.path.join(directory, 'sim_rtds_combined.csv'), index=False, encoding = 'utf-8')"
   ]
  },
  {
   "attachments": {},
   "cell_type": "markdown",
   "metadata": {},
   "source": [
    "#### SACT Files (Regimen, Cycle, Drug Details, Outcome)\n",
    "\n",
    "Columns don't need renaming as they all already have proper underscores"
   ]
  },
  {
   "cell_type": "code",
   "execution_count": null,
   "metadata": {},
   "outputs": [
    {
     "name": "stderr",
     "output_type": "stream",
     "text": [
      "/var/folders/2y/gptxvrsx6892_93b71lw3qq00000gn/T/ipykernel_3870/2900529528.py:2: DtypeWarning: Columns (5) have mixed types. Specify dtype option on import or set low_memory=False.\n",
      "  sim_sact_cycle = pd.read_csv(os.path.join(directory, 'sim_sact_cycle.csv')) # shape: (2,741,674 x 6)\n"
     ]
    }
   ],
   "source": [
    "sim_sact_regimen = pd.read_csv(os.path.join(directory, 'sim_sact_regimen.csv')) # shape: (781,389 x 12)\n",
    "sim_sact_cycle = pd.read_csv(os.path.join(directory, 'sim_sact_cycle.csv')) # shape: (2,741,674 x 6)\n",
    "sim_sact_drug_detail = pd.read_csv(os.path.join(directory, 'sim_sact_drug_detail.csv')) # shape: (7,662,030 x 7)\n",
    "sim_sact_outcome = pd.read_csv(os.path.join(directory, 'sim_sact_outcome.csv')) # shape: (784,135 x 6)"
   ]
  },
  {
   "cell_type": "markdown",
   "metadata": {},
   "source": [
    "Dropping Irrelevant Fields"
   ]
  },
  {
   "cell_type": "code",
   "execution_count": null,
   "metadata": {},
   "outputs": [],
   "source": [
    "# Dropping start_date in sim_sact_regimen and just keeping sact_cycle as a more accurate starting date\n",
    "sim_sact_regimen.drop(['start_date_of_regimen', 'height_at_start_of_regimen', 'weight_at_start_of_regimen'], axis=1, inplace=True)\n",
    "sim_sact_regimen.to_csv(os.path.join(directory, 'sim_sact_regimen_new.csv'), index=False)\n"
   ]
  },
  {
   "attachments": {},
   "cell_type": "markdown",
   "metadata": {},
   "source": [
    "Looking to drop records where males have gynaecological cancer or females have prostrate cancer (assuming a patient's gender is their biological/assigned at birth sex). Can only do this by finding matching cancer tumour genes in av_gene. Unsure of accuracy due to lack of knowledge/background in biology. \n",
    "\n",
    "Gynaecological Cancer Tumour Genes (present in dataset):\n",
    "1. BRCA1 (code 7), BRCA2 (code 8)\n",
    "2. TP53 (code 79)\n",
    "3. CDH1 (code 794)\n",
    "4. STK11 (code 76)\n",
    "\n",
    "Prostrate Cancer Tumour Genes (present in dataset):\n",
    "1. ATM (code 794)\n",
    "2. BRCA1 (code 7), BRCA2 (code 8)\n",
    "\n",
    "BRCA1 and BCRA2 are both associated with F&M reproductive area cancers so may need to exclude this from filtering list.\n",
    "\n",
    "ALTERNATIVE:\n",
    "Use the 'site_icd_x' field variables to find relevant disease. \n",
    "1. Prostrate cancer: C61 [C60-63 are male genital organs]\n",
    "2. Gynaecological cancers: C51-52 (51: vulva & 52: vagina), C53 (cervix), C54-55 (54: corpus uteri, 55: unspecified part in uterus), C56 (ovary), C57-58 (57: other/unspecified female genital organs, 58: placenta) [C51-58 are female genital organs]\n",
    "\n",
    "Gender Codes:\n",
    "M: 1\n",
    "F: 1\n",
    "Indeterminate: 9\n"
   ]
  },
  {
   "attachments": {},
   "cell_type": "markdown",
   "metadata": {},
   "source": [
    "### Merging SACT Files into one"
   ]
  },
  {
   "attachments": {},
   "cell_type": "markdown",
   "metadata": {},
   "source": [
    "Unique Regimen ID count:\n",
    "- In sim_sact_outcome: 784,135\n",
    "- In sim_sact_regimen: 781,389\n",
    "- In sim_sact_cycle: 756,595 (24,794 less than regimen)\n",
    "- In final merged df: 751,911 (29,478 less than regimen)\n",
    "\n",
    "Unique Cycle ID count:\n",
    "- In sim_sact_cycle: 2,741,674\n",
    "- In sim_sact_drug_detail: 2,729,567 (12,107 less than cycle)\n",
    "\n",
    "Note: there are some discrepancies between the number of unique regimen ID's in the original regimen file and the final merged dataframe. This may be because some records don't have corresponding records in other tables (e.g. some regimens do not have corresponding cycles, and some cycles do not have drug details)"
   ]
  },
  {
   "cell_type": "code",
   "execution_count": null,
   "metadata": {},
   "outputs": [],
   "source": [
    "directory = \"../datasets/simulacrum_v2.1.0/Data\""
   ]
  },
  {
   "cell_type": "code",
   "execution_count": null,
   "metadata": {},
   "outputs": [],
   "source": [
    "# Drug + Cycle\n",
    "drug_cycle = pd.merge(sim_sact_drug_detail, sim_sact_cycle, on='merged_cycle_id', how='left') # shape: (7,662,030 x 12)\n",
    "\n",
    "# Drug + Cycle + Regimen\n",
    "drug_cycle_regimen = pd.merge(drug_cycle, sim_sact_regimen, on='merged_regimen_id', how='left') # shape: (7,662,030 x 23)\n",
    "\n",
    "# All SACT Files\n",
    "sact = pd.merge(drug_cycle_regimen, sim_sact_outcome, on='merged_regimen_id', how='left') # shape: (7,662,030 x 28)"
   ]
  },
  {
   "attachments": {},
   "cell_type": "markdown",
   "metadata": {},
   "source": [
    "### Merging AV Files into one"
   ]
  },
  {
   "cell_type": "code",
   "execution_count": null,
   "metadata": {},
   "outputs": [
    {
     "name": "stderr",
     "output_type": "stream",
     "text": [
      "/var/folders/wm/5g809ssj2tbbh5kq8m3h9v5m0000gn/T/ipykernel_18979/3806097431.py:2: DtypeWarning: Columns (14,15,16,17,23,24,25,26) have mixed types. Specify dtype option on import or set low_memory=False.\n",
      "  sim_av_tumour = pd.read_csv(os.path.join(directory, 'sim_av_tumour.csv')) # shape: (1,995,570 x 37)\n"
     ]
    }
   ],
   "source": [
    "sim_av_patient = pd.read_csv(os.path.join(directory, 'sim_av_patient.csv')) # shape: (1,871,605 x 12)\n",
    "sim_av_tumour = pd.read_csv(os.path.join(directory, 'sim_av_tumour.csv')) # shape: (1,995,570 x 37)\n",
    "sim_av_gene = pd.read_csv(os.path.join(directory, 'sim_av_gene.csv')) # shape: (255,728 x 29)"
   ]
  },
  {
   "cell_type": "code",
   "execution_count": null,
   "metadata": {},
   "outputs": [
    {
     "name": "stdout",
     "output_type": "stream",
     "text": [
      "Index(['tumour_id', 'gender_patient_x', 'patient_id_x', 'diagonsis_date_best',\n",
      "       'site_icd10_o2_3char', 'site_icd10_o2',\n",
      "       'site_icd10r4_o2_3char_from_2013', 'site_icd10r4_o2_from_2013',\n",
      "       'site_icdo3rev_2011', 'site_icdo3rev2011_3char', 'morph_icd10_o2',\n",
      "       'morph_icdo3rev_2011', 'behaviour_icd10_o2', 'behaviour_icdo3rev_2011',\n",
      "       't_best', 'n_best', 'm_best', 'stage_best', 'grade', 'age', 'creg_code',\n",
      "       'stage_best_system', 'laterality', 'screening_status_full_code',\n",
      "       'er_status', 'pr_status', 'her2_status', 'quintile_2019',\n",
      "       'date_first_surgery', 'cancer_care_plan_intent', 'performance_status',\n",
      "       'chrl_tot_27_03', 'comorbidities_27_03', 'gleason_primary',\n",
      "       'gleason_secondary', 'gleason_tertiary', 'gleason_combined',\n",
      "       'gender_patient_y', 'ethnicity_patient', 'death_cause_code_1a',\n",
      "       'death_cause_code_1b', 'death_cause_code_1c', 'death_cause_code_2',\n",
      "       'death_cause_code_underlying', 'death_location_code', 'vital_status',\n",
      "       'vital_status_date', 'link_number', 'gene_id', 'patient_id_y',\n",
      "       'gene_desc', 'gene', 'count_tests', 'count_results', 'count_date',\n",
      "       'all_test_statuses', 'overall_ts', 'no_of_ab_gats', 'dnaseq_gat',\n",
      "       'methyl_gat', 'exp_gat', 'copyno_gat', 'fus_trans_gat', 'abnormal_gat',\n",
      "       'no_of_seq_vars', 'all_seq_vars', 'seq_var', 'date_overall_ts',\n",
      "       'best_date_source_overall_ts', 'min_date', 'max_date', 'all_pro_imps',\n",
      "       'no_of_pro_imps', 'pro_imp', 'methods', 'lab_name'],\n",
      "      dtype='object')\n"
     ]
    }
   ],
   "source": [
    "tumour_patient = pd.merge(sim_av_tumour, sim_av_patient, on='patient_id', how='left') # shape: (1,995,570 x 48)\n",
    "\n",
    "# Note: not all tumours have corresponding gene records\n",
    "av = pd.merge(tumour_patient, sim_av_gene, on='tumour_id', how='left') # shape: (2,154,804 x 76)\n",
    "print(av.columns)"
   ]
  },
  {
   "cell_type": "markdown",
   "metadata": {},
   "source": [
    "Looking to drop records where males have gynaecological cancer or females have prostrate cancer (assuming a patient's gender is their biological/assigned at birth sex). Can only do this by finding matching cancer tumour genes in av_gene. Unsure of accuracy due to lack of knowledge/background in biology. \n",
    "\n",
    "Gynaecological Cancer Tumour Genes (present in dataset):\n",
    "1. BRCA1 (code 7), BRCA2 (code 8)\n",
    "2. TP53 (code 79)\n",
    "3. CDH1 (code 794)\n",
    "4. STK11 (code 76)\n",
    "\n",
    "Prostrate Cancer Tumour Genes (present in dataset):\n",
    "1. ATM (code 794)\n",
    "2. BRCA1 (code 7), BRCA2 (code 8)\n",
    "\n",
    "BRCA1 and BCRA2 are both associated with F&M reproductive area cancers so may need to exclude this from filtering list.\n",
    "\n",
    "ALTERNATIVE:\n",
    "Use the 'site_icd_x' field variables to find relevant disease. \n",
    "1. Prostrate cancer: C61\n",
    "2. Gynaecological cancers: C51-52 (51: vulva & 52: vagina), C53 (cervix), C54-55 (54: corpus uteri, 55: unspecified part in uterus), C56 (ovary), C57-58 (57: other/unspecified female genital organs, 58: placenta)\n",
    "\n",
    "Gender Codes:\n",
    "M: 1\n",
    "F: 1\n",
    "Indeterminate: 9\n",
    "\n",
    "Going to use site_icd10_o2_3char"
   ]
  },
  {
   "cell_type": "code",
   "execution_count": null,
   "metadata": {},
   "outputs": [
    {
     "ename": "NameError",
     "evalue": "name 'av' is not defined",
     "output_type": "error",
     "traceback": [
      "\u001b[0;31m---------------------------------------------------------------------------\u001b[0m",
      "\u001b[0;31mNameError\u001b[0m                                 Traceback (most recent call last)",
      "Cell \u001b[0;32mIn[12], line 2\u001b[0m\n\u001b[1;32m      1\u001b[0m \u001b[38;5;66;03m# Querying to see if gender values match across av_patient and av_tumour\u001b[39;00m\n\u001b[0;32m----> 2\u001b[0m matching \u001b[38;5;241m=\u001b[39m \u001b[43mav\u001b[49m[\u001b[38;5;124m'\u001b[39m\u001b[38;5;124mgender_patient_x\u001b[39m\u001b[38;5;124m'\u001b[39m] \u001b[38;5;241m==\u001b[39m av[\u001b[38;5;124m'\u001b[39m\u001b[38;5;124mgender_patient_y\u001b[39m\u001b[38;5;124m'\u001b[39m]\n\u001b[1;32m      3\u001b[0m all_match \u001b[38;5;241m=\u001b[39m matching\u001b[38;5;241m.\u001b[39mall()\n\u001b[1;32m      5\u001b[0m \u001b[38;5;28mprint\u001b[39m(all_match)\n",
      "\u001b[0;31mNameError\u001b[0m: name 'av' is not defined"
     ]
    }
   ],
   "source": [
    "# Querying to see if gender values match across av_patient and av_tumour\n",
    "matching = av['gender_patient_x'] == av['gender_patient_y']\n",
    "all_match = matching.all()\n",
    "\n",
    "print(all_match)"
   ]
  },
  {
   "cell_type": "code",
   "execution_count": null,
   "metadata": {},
   "outputs": [
    {
     "ename": "NameError",
     "evalue": "name 'av' is not defined",
     "output_type": "error",
     "traceback": [
      "\u001b[0;31m---------------------------------------------------------------------------\u001b[0m",
      "\u001b[0;31mNameError\u001b[0m                                 Traceback (most recent call last)",
      "Cell \u001b[0;32mIn[11], line 2\u001b[0m\n\u001b[1;32m      1\u001b[0m \u001b[38;5;66;03m# Trying to delete records where males have gynaecological cancer/females have prostrate cancer\u001b[39;00m\n\u001b[0;32m----> 2\u001b[0m prostrate_cancer_df \u001b[38;5;241m=\u001b[39m \u001b[43mav\u001b[49m[\u001b[38;5;124m'\u001b[39m\u001b[38;5;124msite_icd10_o2_3char\u001b[39m\u001b[38;5;124m'\u001b[39m \u001b[38;5;241m==\u001b[39m \u001b[38;5;124m'\u001b[39m\u001b[38;5;124mC61\u001b[39m\u001b[38;5;124m'\u001b[39m]\n\u001b[1;32m      3\u001b[0m \u001b[38;5;28mprint\u001b[39m(prostrate_cancer_df)\n",
      "\u001b[0;31mNameError\u001b[0m: name 'av' is not defined"
     ]
    }
   ],
   "source": [
    "# Trying to delete records where males have gynaecological cancer/females have prostrate cancer\n",
    "prostrate_cancer_df = av['site_icd10_o2_3char' == 'C61']\n",
    "print(prostrate_cancer_df)"
   ]
  },
  {
   "attachments": {},
   "cell_type": "markdown",
   "metadata": {},
   "source": [
    "### Playground"
   ]
  },
  {
   "cell_type": "code",
   "execution_count": null,
   "metadata": {},
   "outputs": [
    {
     "data": {
      "text/html": [
       "<div>\n",
       "<style scoped>\n",
       "    .dataframe tbody tr th:only-of-type {\n",
       "        vertical-align: middle;\n",
       "    }\n",
       "\n",
       "    .dataframe tbody tr th {\n",
       "        vertical-align: top;\n",
       "    }\n",
       "\n",
       "    .dataframe thead th {\n",
       "        text-align: right;\n",
       "    }\n",
       "</style>\n",
       "<table border=\"1\" class=\"dataframe\">\n",
       "  <thead>\n",
       "    <tr style=\"text-align: right;\">\n",
       "      <th></th>\n",
       "      <th>encore_patient_id</th>\n",
       "      <th>merged_regimen_id</th>\n",
       "      <th>height_at_start_of_regimen</th>\n",
       "      <th>weight_at_start_of_regimen</th>\n",
       "      <th>intent_of_treatment</th>\n",
       "      <th>date_decision_to_treat</th>\n",
       "      <th>start_date_of_regimen</th>\n",
       "      <th>mapped_regimen</th>\n",
       "      <th>clinical_trial</th>\n",
       "      <th>chemo_radiation</th>\n",
       "      <th>benchmark_group</th>\n",
       "      <th>link_number</th>\n",
       "    </tr>\n",
       "  </thead>\n",
       "  <tbody>\n",
       "    <tr>\n",
       "      <th>72</th>\n",
       "      <td>10405821</td>\n",
       "      <td>10030812</td>\n",
       "      <td>0.0</td>\n",
       "      <td>0.0</td>\n",
       "      <td>P</td>\n",
       "      <td>2019-09-25</td>\n",
       "      <td>2019-10-24</td>\n",
       "      <td>Hydroxycarbamide</td>\n",
       "      <td>02</td>\n",
       "      <td>N</td>\n",
       "      <td>HYDROXYCARBAMIDE</td>\n",
       "      <td>101836626</td>\n",
       "    </tr>\n",
       "    <tr>\n",
       "      <th>135</th>\n",
       "      <td>10407709</td>\n",
       "      <td>10030955</td>\n",
       "      <td>0.0</td>\n",
       "      <td>55.0</td>\n",
       "      <td>NaN</td>\n",
       "      <td>2019-12-09</td>\n",
       "      <td>2019-12-09</td>\n",
       "      <td>Hydroxycarbamide</td>\n",
       "      <td>NaN</td>\n",
       "      <td>NaN</td>\n",
       "      <td>HYDROXYCARBAMIDE</td>\n",
       "      <td>100912531</td>\n",
       "    </tr>\n",
       "    <tr>\n",
       "      <th>179</th>\n",
       "      <td>10409421</td>\n",
       "      <td>10031066</td>\n",
       "      <td>0.0</td>\n",
       "      <td>NaN</td>\n",
       "      <td>P</td>\n",
       "      <td>NaN</td>\n",
       "      <td>2019-12-01</td>\n",
       "      <td>NaN</td>\n",
       "      <td>02</td>\n",
       "      <td>N</td>\n",
       "      <td>ENZALUTAMIDE</td>\n",
       "      <td>100316506</td>\n",
       "    </tr>\n",
       "    <tr>\n",
       "      <th>188</th>\n",
       "      <td>10409813</td>\n",
       "      <td>10031091</td>\n",
       "      <td>0.0</td>\n",
       "      <td>NaN</td>\n",
       "      <td>NaN</td>\n",
       "      <td>NaN</td>\n",
       "      <td>2018-12-28</td>\n",
       "      <td>NaN</td>\n",
       "      <td>02</td>\n",
       "      <td>NaN</td>\n",
       "      <td>ENZALUTAMIDE</td>\n",
       "      <td>101470000</td>\n",
       "    </tr>\n",
       "    <tr>\n",
       "      <th>350</th>\n",
       "      <td>10415146</td>\n",
       "      <td>10031491</td>\n",
       "      <td>0.0</td>\n",
       "      <td>NaN</td>\n",
       "      <td>P</td>\n",
       "      <td>NaN</td>\n",
       "      <td>2021-04-21</td>\n",
       "      <td>NaN</td>\n",
       "      <td>02</td>\n",
       "      <td>NaN</td>\n",
       "      <td>HYDROXYCARBAMIDE</td>\n",
       "      <td>100617606</td>\n",
       "    </tr>\n",
       "  </tbody>\n",
       "</table>\n",
       "</div>"
      ],
      "text/plain": [
       "     encore_patient_id  merged_regimen_id  height_at_start_of_regimen  \\\n",
       "72            10405821           10030812                         0.0   \n",
       "135           10407709           10030955                         0.0   \n",
       "179           10409421           10031066                         0.0   \n",
       "188           10409813           10031091                         0.0   \n",
       "350           10415146           10031491                         0.0   \n",
       "\n",
       "     weight_at_start_of_regimen intent_of_treatment date_decision_to_treat  \\\n",
       "72                          0.0                   P             2019-09-25   \n",
       "135                        55.0                 NaN             2019-12-09   \n",
       "179                         NaN                   P                    NaN   \n",
       "188                         NaN                 NaN                    NaN   \n",
       "350                         NaN                   P                    NaN   \n",
       "\n",
       "    start_date_of_regimen    mapped_regimen clinical_trial chemo_radiation  \\\n",
       "72             2019-10-24  Hydroxycarbamide             02               N   \n",
       "135            2019-12-09  Hydroxycarbamide            NaN             NaN   \n",
       "179            2019-12-01               NaN             02               N   \n",
       "188            2018-12-28               NaN             02             NaN   \n",
       "350            2021-04-21               NaN             02             NaN   \n",
       "\n",
       "      benchmark_group  link_number  \n",
       "72   HYDROXYCARBAMIDE    101836626  \n",
       "135  HYDROXYCARBAMIDE    100912531  \n",
       "179      ENZALUTAMIDE    100316506  \n",
       "188      ENZALUTAMIDE    101470000  \n",
       "350  HYDROXYCARBAMIDE    100617606  "
      ]
     },
     "execution_count": 58,
     "metadata": {},
     "output_type": "execute_result"
    }
   ],
   "source": [
    "sact_regimen_ids = set(sact['merged_regimen_id'].unique())\n",
    "regimen_regimen_ids = set(sim_sact_regimen['merged_regimen_id'].unique())\n",
    "\n",
    "# Find regimen id's that aren't in the final merged df\n",
    "missing_regimen_ids = regimen_regimen_ids - sact_regimen_ids\n",
    "\n",
    "# Filter the sim_sact_regimen df for these missing regimen_id's\n",
    "missing_regimens = sim_sact_regimen[sim_sact_regimen['merged_regimen_id'].isin(missing_regimen_ids)]\n",
    "\n",
    "missing_regimens.head()"
   ]
  }
 ],
 "metadata": {
  "kernelspec": {
   "display_name": "Python 3",
   "language": "python",
   "name": "python3"
  },
  "language_info": {
   "codemirror_mode": {
    "name": "ipython",
    "version": 3
   },
   "file_extension": ".py",
   "mimetype": "text/x-python",
   "name": "python",
   "nbconvert_exporter": "python",
   "pygments_lexer": "ipython3",
   "version": "3.12.5"
  }
 },
 "nbformat": 4,
 "nbformat_minor": 2
}
