{
 "cells": [
  {
   "cell_type": "code",
   "execution_count": 1,
   "metadata": {},
   "outputs": [],
   "source": [
    "# Using Simulacrum V2 instead\n",
    "import os\n",
    "import pandas as pd\n",
    "import warnings "
   ]
  },
  {
   "attachments": {},
   "cell_type": "markdown",
   "metadata": {},
   "source": [
    "### 1. Read the datasets with utf-8 encoding and make all column names lower case"
   ]
  },
  {
   "cell_type": "code",
   "execution_count": 31,
   "metadata": {},
   "outputs": [],
   "source": [
    "def read_file_with_encoding(file_path):\n",
    "    encodings = ['utf-8', 'latin1', 'ISO-8859-1', 'cp1252']\n",
    "    \n",
    "    for encoding in encodings:\n",
    "        try:\n",
    "            df = pd.read_csv(file_path, encoding=encoding)\n",
    "            return df\n",
    "        except UnicodeDecodeError:\n",
    "            continue\n",
    "    \n",
    "    raise ValueError(f\"Failed to decode {file_path} with available encodings.\")"
   ]
  },
  {
   "cell_type": "code",
   "execution_count": 32,
   "metadata": {},
   "outputs": [],
   "source": [
    "def read_file_utf8(file_path):\n",
    "    try:\n",
    "        with warnings.catch_warnings(record=True) as w:\n",
    "            warnings.simplefilter(\"always\", pd.errors.DtypeWarning)\n",
    "            df = pd.read_csv(file_path, encoding='utf-8', low_memory=False)\n",
    "            \n",
    "            # Check if any warnings were triggered\n",
    "            if any(issubclass(warn.category, pd.errors.DtypeWarning) for warn in w):\n",
    "                print(f\"DtypeWarning encountered in file: {file_path}\")\n",
    "            \n",
    "        return df\n",
    "    \n",
    "    except UnicodeDecodeError:\n",
    "        raise ValueError(f\"Failed to decode {file_path} with UTF-8 encoding.\")"
   ]
  },
  {
   "cell_type": "code",
   "execution_count": null,
   "metadata": {},
   "outputs": [],
   "source": [
    "directory = \"../datasets/simulacrum_v2.1.0/Data\"\n",
    "# directory = \"/Users/janexu/Documents/0. 2024 3rd Year/SCIE30002/simulacrum_v2.1.0/Data\"\n",
    "files = os.listdir(directory)\n",
    "\n",
    "for file_name in files:\n",
    "    file_path = os.path.join(directory, file_name)\n",
    "    \n",
    "    try:\n",
    "        # Read the file with encoding handling\n",
    "        df = read_file_with_encoding(file_path)\n",
    "        \n",
    "        # Convert column names to lowercase\n",
    "        df.columns = [col.lower() for col in df.columns]\n",
    "        \n",
    "        # Save the updated file\n",
    "        df.to_csv(file_path, index=False, encoding = 'utf-8')\n",
    "        \n",
    "        print(f\"Successfully processed and saved: {file_name}\")\n",
    "        \n",
    "    except Exception as e:\n",
    "        print(f\"Error processing {file_name}: {e}\")"
   ]
  },
  {
   "attachments": {},
   "cell_type": "markdown",
   "metadata": {},
   "source": [
    "### 2. Insert underscores in column names for REDCap upload"
   ]
  },
  {
   "attachments": {},
   "cell_type": "markdown",
   "metadata": {},
   "source": [
    "#### AV Files (Patient, Tumour, Gene)"
   ]
  },
  {
   "cell_type": "code",
   "execution_count": 34,
   "metadata": {},
   "outputs": [],
   "source": [
    "sim_av_patient = pd.read_csv(os.path.join(directory, 'sim_av_patient.csv'))\n",
    "\n",
    "new_field_names = {\n",
    "    'patientid': 'patient_id',\n",
    "    'gender': 'gender_patient',\n",
    "    'ethnicity': 'ethnicity_patient',\n",
    "    'deathcausecode_1a': 'death_cause_code_1a',\n",
    "    'deathcausecode_1b': 'death_cause_code_1b',\n",
    "    'deathcausecode_1c': 'death_cause_code_1c',\n",
    "    'deathcausecode_2': 'death_cause_code_2',\n",
    "    'deathcausecode_underlying': 'death_cause_code_underlying',\n",
    "    'deathlocationcode': 'death_location_code',\n",
    "    'vitalstatus': 'vital_status',\n",
    "    'vitalstatusdate': 'vital_status_date',\n",
    "    'linknumber': 'link_number'\n",
    "}\n",
    "\n",
    "sim_av_patient.rename(columns=new_field_names, inplace=True)\n",
    "sim_av_patient.to_csv(os.path.join(directory, 'sim_av_patient.csv'), index=False, encoding = 'utf-8')"
   ]
  },
  {
   "cell_type": "code",
   "execution_count": 52,
   "metadata": {},
   "outputs": [
    {
     "name": "stderr",
     "output_type": "stream",
     "text": [
      "/var/folders/wm/5g809ssj2tbbh5kq8m3h9v5m0000gn/T/ipykernel_18979/475758038.py:1: DtypeWarning: Columns (14,15,16,17,23,24,25,26) have mixed types. Specify dtype option on import or set low_memory=False.\n",
      "  sim_av_tumour = pd.read_csv(os.path.join(directory, 'sim_av_tumour.csv'))\n"
     ]
    }
   ],
   "source": [
    "sim_av_tumour = pd.read_csv(os.path.join(directory, 'sim_av_tumour.csv'))\n",
    "\n",
    "new_field_names = {\n",
    "    'tumourid': 'tumour_id',\n",
    "    'patientid': 'patient_id',\n",
    "    'gender': 'gender_patient', #unsure about this one\n",
    "    'diagnosisdatebest': 'diagonsis_date_best',\n",
    "    'site_icd10r4_o2_3char_from2013': 'site_icd10r4_o2_3char_from_2013',\n",
    "    'site_icd10r4_o2_from2013': 'site_icd10r4_o2_from_2013',\n",
    "    'site_icdo3rev2011': 'site_icdo3rev_2011',\n",
    "    'morph_icdo3rev2011': 'morph_icdo3rev_2011',\n",
    "    'behaviour_icdo3rev2011': 'behaviour_icdo3rev_2011',\n",
    "    'screeningstatusfull_code': 'screening_status_full_code',\n",
    "    'cancercareplanintent': 'cancer_care_plan_intent',\n",
    "    'performancestatus': 'performance_status'\n",
    "}\n",
    "\n",
    "sim_av_tumour.rename(columns=new_field_names, inplace=True)\n",
    "sim_av_tumour.to_csv(os.path.join(directory, 'sim_av_tumour.csv'), index=False, encoding = 'utf-8')"
   ]
  },
  {
   "cell_type": "code",
   "execution_count": 37,
   "metadata": {},
   "outputs": [],
   "source": [
    "sim_av_gene = pd.read_csv(os.path.join(directory, 'sim_av_gene.csv'))\n",
    "\n",
    "new_field_names = {\n",
    "    'geneid': 'gene_id',\n",
    "    'tumourid': 'tumour_id',\n",
    "    'patientid': 'patient_id',\n",
    "    'all_teststatuses': 'all_test_statuses'\n",
    "}\n",
    "\n",
    "sim_av_gene.rename(columns=new_field_names, inplace=True)\n",
    "sim_av_gene.to_csv(os.path.join(directory, 'sim_av_gene.csv'), index=False, encoding = 'utf-8')"
   ]
  },
  {
   "attachments": {},
   "cell_type": "markdown",
   "metadata": {},
   "source": [
    "#### RTDS Files (Episode, Exposure, Prescription, Combined)"
   ]
  },
  {
   "cell_type": "code",
   "execution_count": 38,
   "metadata": {},
   "outputs": [
    {
     "name": "stderr",
     "output_type": "stream",
     "text": [
      "/var/folders/wm/5g809ssj2tbbh5kq8m3h9v5m0000gn/T/ipykernel_88471/4051879955.py:1: DtypeWarning: Columns (2) have mixed types. Specify dtype option on import or set low_memory=False.\n",
      "  sim_rtds_episode = pd.read_csv(os.path.join(directory, 'sim_rtds_episode.csv'))\n"
     ]
    }
   ],
   "source": [
    "sim_rtds_episode = pd.read_csv(os.path.join(directory, 'sim_rtds_episode.csv'))\n",
    "\n",
    "new_field_names = {\n",
    "    'patientid': 'patient_id',\n",
    "    'radiotherapyepisodeid': 'radiotherapy_episode_id',\n",
    "    'attendid': 'attend_id',\n",
    "    'apptdate': 'appt_date',\n",
    "    'linkcode': 'link_code',\n",
    "    'decisiontotreatdate': 'decision_to_treat_date',\n",
    "    'earliestclinappropdate': 'earliest_clin_approp_date',\n",
    "    'radiotherapypriority': 'radiotherapy_priority',\n",
    "    'radiotherapyintent': 'radiotherapy_intent'\n",
    "}\n",
    "\n",
    "sim_rtds_episode.rename(columns=new_field_names, inplace=True)\n",
    "sim_rtds_episode.to_csv(os.path.join(directory, 'sim_rtds_episode.csv'), index=False, encoding = 'utf-8')"
   ]
  },
  {
   "cell_type": "code",
   "execution_count": 39,
   "metadata": {},
   "outputs": [
    {
     "name": "stderr",
     "output_type": "stream",
     "text": [
      "/var/folders/wm/5g809ssj2tbbh5kq8m3h9v5m0000gn/T/ipykernel_88471/3852684677.py:1: DtypeWarning: Columns (11) have mixed types. Specify dtype option on import or set low_memory=False.\n",
      "  sim_rtds_prescription = pd.read_csv(os.path.join(directory, 'sim_rtds_prescription.csv'))\n"
     ]
    }
   ],
   "source": [
    "sim_rtds_prescription = pd.read_csv(os.path.join(directory, 'sim_rtds_prescription.csv'))\n",
    "\n",
    "new_field_names = {\n",
    "    'patientid': 'patient_id',\n",
    "    'prescriptionid': 'prescription_id',\n",
    "    'rttreatmentmodality': 'rt_treatment_modality',\n",
    "    'rtprescribeddose': 'rt_prescribed_dose',\n",
    "    'rtprescribedfractions': 'rt_prescribed_fractions',\n",
    "    'rtactualdose': 'rt_actual_dose',\n",
    "    'rtactualfractions': 'rt_actual_fractions',\n",
    "    'rttreatmentregion': 'rt_treatment_region',\n",
    "    'rttreatmentanatomicalsite': 'rt_treatment_anatomical_site',\n",
    "    'radiotherapyepisodeid': 'radiotherapy_episode_id',\n",
    "    'linkcode': 'link_code',\n",
    "    'attendid': 'attend_id',\n",
    "    'apptdate': 'appt_date',\n",
    "}\n",
    "\n",
    "sim_rtds_prescription.rename(columns=new_field_names, inplace=True)\n",
    "sim_rtds_prescription.to_csv(os.path.join(directory, 'sim_rtds_prescription.csv'), index=False, encoding = 'utf-8')"
   ]
  },
  {
   "cell_type": "code",
   "execution_count": 40,
   "metadata": {},
   "outputs": [
    {
     "name": "stderr",
     "output_type": "stream",
     "text": [
      "/var/folders/wm/5g809ssj2tbbh5kq8m3h9v5m0000gn/T/ipykernel_88471/3258467019.py:1: DtypeWarning: Columns (1,6) have mixed types. Specify dtype option on import or set low_memory=False.\n",
      "  sim_rtds_exposure = pd.read_csv(os.path.join(directory, 'sim_rtds_exposure.csv'))\n"
     ]
    }
   ],
   "source": [
    "sim_rtds_exposure = pd.read_csv(os.path.join(directory, 'sim_rtds_exposure.csv'))\n",
    "\n",
    "new_field_names = {\n",
    "    'prescriptionid': 'prescription_id',\n",
    "    'radioisotope': 'radio_isotope',\n",
    "    'rtprescribeddose': 'rt_prescribed_dose',\n",
    "    'radiotherapybeamtype': 'radiotherapy_beam_type',\n",
    "    'radiotherapybeamenergy': 'radiotherapy_beam_energy',\n",
    "    'timeofexposure': 'time_of_exposure',\n",
    "    'apptdate': 'appt_date',\n",
    "    'attendid': 'attend_id',\n",
    "    'patientid': 'patient_id',\n",
    "    'radiotherapyepisodeid': 'radiotherapy_episode_id',\n",
    "    'linkcode': 'link_code',\n",
    "}\n",
    "\n",
    "sim_rtds_exposure.rename(columns=new_field_names, inplace=True)\n",
    "sim_rtds_exposure.to_csv(os.path.join(directory, 'sim_rtds_exposure.csv'), index=False, encoding = 'utf-8')"
   ]
  },
  {
   "cell_type": "code",
   "execution_count": 41,
   "metadata": {},
   "outputs": [
    {
     "name": "stderr",
     "output_type": "stream",
     "text": [
      "/var/folders/wm/5g809ssj2tbbh5kq8m3h9v5m0000gn/T/ipykernel_88471/2751768707.py:1: DtypeWarning: Columns (15,20) have mixed types. Specify dtype option on import or set low_memory=False.\n",
      "  sim_rtds_combined = pd.read_csv(os.path.join(directory, 'sim_rtds_combined.csv'))\n"
     ]
    }
   ],
   "source": [
    "sim_rtds_combined = pd.read_csv(os.path.join(directory, 'sim_rtds_combined.csv'))\n",
    "# a df combining prescription, episode and exposure (contains all their columns)\n",
    "\n",
    "new_field_names = {\n",
    "    'patientid': 'patient_id',\n",
    "    'prescriptionid': 'prescription_id', # from prescription\n",
    "    'rttreatmentmodality': 'rt_treatment_modality', # prescription\n",
    "    'radiotherapypriority': 'radiotherapy_priority', # episode\n",
    "    'radiotherapyintent': 'radiotherapy_intent', # episode\n",
    "    'rtprescribeddose': 'rt_prescribed_dose', # prescription\n",
    "    'rtprescribedfractions': 'rt_prescribed_fractions', # prescription\n",
    "    'rtactualdose': 'rt_actual_dose', # prescription\n",
    "    'rtactualfractions': 'rt_actual_fractions', # prescription\n",
    "    'rttreatmentregion': 'rt_treatment_region', # prescription\n",
    "    'rttreatmentanatomicalsite': 'rt_treatment_anatomical_site', # prescription\n",
    "    'decisiontotreatdate': 'decision_to_treat_date', # episode\n",
    "    'earliestclinappropdate': 'earliest_clin_approp_date', # episode\n",
    "    'radiotherapyepisodeid': 'radiotherapy_episode_id', # episode\n",
    "    'linkcode': 'link_code',\n",
    "    'radioisotope': 'radio_isotope', # exposure\n",
    "    'radiotherapybeamtype': 'radiotherapy_beam_type', # exposure\n",
    "    'radiotherapybeamenergy': 'radiotherapy_beam_energy', # exposure\n",
    "    'timeofexposure': 'time_of_exposure', # exposure\n",
    "    'apptdate': 'appt_date',\n",
    "    'attendid': 'attend_id',\n",
    "    'patientid': 'patient_id',\n",
    "}\n",
    "\n",
    "sim_rtds_combined.rename(columns=new_field_names, inplace=True)\n",
    "sim_rtds_combined.to_csv(os.path.join(directory, 'sim_rtds_combined.csv'), index=False, encoding = 'utf-8')"
   ]
  },
  {
   "attachments": {},
   "cell_type": "markdown",
   "metadata": {},
   "source": [
    "#### SACT Files (Regimen, Cycle, Drug Details, Outcome)\n",
    "\n",
    "Columns don't need renaming as they all already have proper underscores"
   ]
  },
  {
   "cell_type": "code",
   "execution_count": 4,
   "metadata": {},
   "outputs": [
    {
     "name": "stderr",
     "output_type": "stream",
     "text": [
      "/var/folders/wm/5g809ssj2tbbh5kq8m3h9v5m0000gn/T/ipykernel_18979/370839215.py:2: DtypeWarning: Columns (5) have mixed types. Specify dtype option on import or set low_memory=False.\n",
      "  sim_sact_cycle = pd.read_csv(os.path.join(directory, 'sim_sact_cycle.csv'))\n"
     ]
    }
   ],
   "source": [
    "sim_sact_regimen = pd.read_csv(os.path.join(directory, 'sim_sact_regimen.csv')) # shape: (781,389 x 12)\n",
    "sim_sact_cycle = pd.read_csv(os.path.join(directory, 'sim_sact_cycle.csv')) # shape: (2,741,674 x 6)\n",
    "sim_sact_drug_detail = pd.read_csv(os.path.join(directory, 'sim_sact_drug_detail.csv')) # shape: (7,662,030 x 7)\n",
    "sim_sact_outcome = pd.read_csv(os.path.join(directory, 'sim_sact_outcome.csv')) # shape: (784,135 x 6)"
   ]
  },
  {
   "attachments": {},
   "cell_type": "markdown",
   "metadata": {},
   "source": [
    "### Merging SACT Files into one"
   ]
  },
  {
   "attachments": {},
   "cell_type": "markdown",
   "metadata": {},
   "source": [
    "Unique Regimen ID count:\n",
    "- In sim_sact_outcome: 784,135\n",
    "- In sim_sact_regimen: 781,389\n",
    "- In sim_sact_cycle: 756,595 (24,794 less than regimen)\n",
    "- In final merged df: 751,911 (29,478 less than regimen)\n",
    "\n",
    "Unique Cycle ID count:\n",
    "- In sim_sact_cycle: 2,741,674\n",
    "- In sim_sact_drug_detail: 2,729,567 (12,107 less than cycle)\n",
    "\n",
    "Note: there are some discrepancies between the number of unique regimen ID's in the original regimen file and the final merged dataframe. This may be because some records don't have corresponding records in other tables (e.g. some regimens do not have corresponding cycles, and some cycles do not have drug details)"
   ]
  },
  {
   "cell_type": "code",
   "execution_count": 3,
   "metadata": {},
   "outputs": [],
   "source": [
    "directory = \"../datasets/simulacrum_v2.1.0/Data\""
   ]
  },
  {
   "cell_type": "code",
   "execution_count": 38,
   "metadata": {},
   "outputs": [],
   "source": [
    "# Drug + Cycle\n",
    "drug_cycle = pd.merge(sim_sact_drug_detail, sim_sact_cycle, on='merged_cycle_id', how='left') # shape: (7,662,030 x 12)\n",
    "\n",
    "# Drug + Cycle + Regimen\n",
    "drug_cycle_regimen = pd.merge(drug_cycle, sim_sact_regimen, on='merged_regimen_id', how='left') # shape: (7,662,030 x 23)\n",
    "\n",
    "# All SACT Files\n",
    "sact = pd.merge(drug_cycle_regimen, sim_sact_outcome, on='merged_regimen_id', how='left') # shape: (7,662,030 x 28)"
   ]
  },
  {
   "attachments": {},
   "cell_type": "markdown",
   "metadata": {},
   "source": [
    "### Merging AV Files into one"
   ]
  },
  {
   "cell_type": "code",
   "execution_count": 45,
   "metadata": {},
   "outputs": [
    {
     "name": "stderr",
     "output_type": "stream",
     "text": [
      "/var/folders/wm/5g809ssj2tbbh5kq8m3h9v5m0000gn/T/ipykernel_18979/3806097431.py:2: DtypeWarning: Columns (14,15,16,17,23,24,25,26) have mixed types. Specify dtype option on import or set low_memory=False.\n",
      "  sim_av_tumour = pd.read_csv(os.path.join(directory, 'sim_av_tumour.csv')) # shape: (1,995,570 x 37)\n"
     ]
    }
   ],
   "source": [
    "sim_av_patient = pd.read_csv(os.path.join(directory, 'sim_av_patient.csv')) # shape: (1,871,605 x 12)\n",
    "sim_av_tumour = pd.read_csv(os.path.join(directory, 'sim_av_tumour.csv')) # shape: (1,995,570 x 37)\n",
    "sim_av_gene = pd.read_csv(os.path.join(directory, 'sim_av_gene.csv')) # shape: (255,728 x 29)"
   ]
  },
  {
   "cell_type": "code",
   "execution_count": 55,
   "metadata": {},
   "outputs": [
    {
     "data": {
      "text/plain": [
       "(2154804, 76)"
      ]
     },
     "execution_count": 55,
     "metadata": {},
     "output_type": "execute_result"
    }
   ],
   "source": [
    "tumour_patient = pd.merge(sim_av_tumour, sim_av_patient, on='patient_id', how='left') # shape: (1,995,570 x 48)\n",
    "\n",
    "# Note: not all tumours have corresponding gene records\n",
    "av = pd.merge(tumour_patient, sim_av_gene, on='tumour_id', how='left') # shape: (2,154,804 x 76)"
   ]
  },
  {
   "attachments": {},
   "cell_type": "markdown",
   "metadata": {},
   "source": [
    "### Playground"
   ]
  },
  {
   "cell_type": "code",
   "execution_count": 58,
   "metadata": {},
   "outputs": [
    {
     "data": {
      "text/html": [
       "<div>\n",
       "<style scoped>\n",
       "    .dataframe tbody tr th:only-of-type {\n",
       "        vertical-align: middle;\n",
       "    }\n",
       "\n",
       "    .dataframe tbody tr th {\n",
       "        vertical-align: top;\n",
       "    }\n",
       "\n",
       "    .dataframe thead th {\n",
       "        text-align: right;\n",
       "    }\n",
       "</style>\n",
       "<table border=\"1\" class=\"dataframe\">\n",
       "  <thead>\n",
       "    <tr style=\"text-align: right;\">\n",
       "      <th></th>\n",
       "      <th>encore_patient_id</th>\n",
       "      <th>merged_regimen_id</th>\n",
       "      <th>height_at_start_of_regimen</th>\n",
       "      <th>weight_at_start_of_regimen</th>\n",
       "      <th>intent_of_treatment</th>\n",
       "      <th>date_decision_to_treat</th>\n",
       "      <th>start_date_of_regimen</th>\n",
       "      <th>mapped_regimen</th>\n",
       "      <th>clinical_trial</th>\n",
       "      <th>chemo_radiation</th>\n",
       "      <th>benchmark_group</th>\n",
       "      <th>link_number</th>\n",
       "    </tr>\n",
       "  </thead>\n",
       "  <tbody>\n",
       "    <tr>\n",
       "      <th>72</th>\n",
       "      <td>10405821</td>\n",
       "      <td>10030812</td>\n",
       "      <td>0.0</td>\n",
       "      <td>0.0</td>\n",
       "      <td>P</td>\n",
       "      <td>2019-09-25</td>\n",
       "      <td>2019-10-24</td>\n",
       "      <td>Hydroxycarbamide</td>\n",
       "      <td>02</td>\n",
       "      <td>N</td>\n",
       "      <td>HYDROXYCARBAMIDE</td>\n",
       "      <td>101836626</td>\n",
       "    </tr>\n",
       "    <tr>\n",
       "      <th>135</th>\n",
       "      <td>10407709</td>\n",
       "      <td>10030955</td>\n",
       "      <td>0.0</td>\n",
       "      <td>55.0</td>\n",
       "      <td>NaN</td>\n",
       "      <td>2019-12-09</td>\n",
       "      <td>2019-12-09</td>\n",
       "      <td>Hydroxycarbamide</td>\n",
       "      <td>NaN</td>\n",
       "      <td>NaN</td>\n",
       "      <td>HYDROXYCARBAMIDE</td>\n",
       "      <td>100912531</td>\n",
       "    </tr>\n",
       "    <tr>\n",
       "      <th>179</th>\n",
       "      <td>10409421</td>\n",
       "      <td>10031066</td>\n",
       "      <td>0.0</td>\n",
       "      <td>NaN</td>\n",
       "      <td>P</td>\n",
       "      <td>NaN</td>\n",
       "      <td>2019-12-01</td>\n",
       "      <td>NaN</td>\n",
       "      <td>02</td>\n",
       "      <td>N</td>\n",
       "      <td>ENZALUTAMIDE</td>\n",
       "      <td>100316506</td>\n",
       "    </tr>\n",
       "    <tr>\n",
       "      <th>188</th>\n",
       "      <td>10409813</td>\n",
       "      <td>10031091</td>\n",
       "      <td>0.0</td>\n",
       "      <td>NaN</td>\n",
       "      <td>NaN</td>\n",
       "      <td>NaN</td>\n",
       "      <td>2018-12-28</td>\n",
       "      <td>NaN</td>\n",
       "      <td>02</td>\n",
       "      <td>NaN</td>\n",
       "      <td>ENZALUTAMIDE</td>\n",
       "      <td>101470000</td>\n",
       "    </tr>\n",
       "    <tr>\n",
       "      <th>350</th>\n",
       "      <td>10415146</td>\n",
       "      <td>10031491</td>\n",
       "      <td>0.0</td>\n",
       "      <td>NaN</td>\n",
       "      <td>P</td>\n",
       "      <td>NaN</td>\n",
       "      <td>2021-04-21</td>\n",
       "      <td>NaN</td>\n",
       "      <td>02</td>\n",
       "      <td>NaN</td>\n",
       "      <td>HYDROXYCARBAMIDE</td>\n",
       "      <td>100617606</td>\n",
       "    </tr>\n",
       "  </tbody>\n",
       "</table>\n",
       "</div>"
      ],
      "text/plain": [
       "     encore_patient_id  merged_regimen_id  height_at_start_of_regimen  \\\n",
       "72            10405821           10030812                         0.0   \n",
       "135           10407709           10030955                         0.0   \n",
       "179           10409421           10031066                         0.0   \n",
       "188           10409813           10031091                         0.0   \n",
       "350           10415146           10031491                         0.0   \n",
       "\n",
       "     weight_at_start_of_regimen intent_of_treatment date_decision_to_treat  \\\n",
       "72                          0.0                   P             2019-09-25   \n",
       "135                        55.0                 NaN             2019-12-09   \n",
       "179                         NaN                   P                    NaN   \n",
       "188                         NaN                 NaN                    NaN   \n",
       "350                         NaN                   P                    NaN   \n",
       "\n",
       "    start_date_of_regimen    mapped_regimen clinical_trial chemo_radiation  \\\n",
       "72             2019-10-24  Hydroxycarbamide             02               N   \n",
       "135            2019-12-09  Hydroxycarbamide            NaN             NaN   \n",
       "179            2019-12-01               NaN             02               N   \n",
       "188            2018-12-28               NaN             02             NaN   \n",
       "350            2021-04-21               NaN             02             NaN   \n",
       "\n",
       "      benchmark_group  link_number  \n",
       "72   HYDROXYCARBAMIDE    101836626  \n",
       "135  HYDROXYCARBAMIDE    100912531  \n",
       "179      ENZALUTAMIDE    100316506  \n",
       "188      ENZALUTAMIDE    101470000  \n",
       "350  HYDROXYCARBAMIDE    100617606  "
      ]
     },
     "execution_count": 58,
     "metadata": {},
     "output_type": "execute_result"
    }
   ],
   "source": [
    "sact_regimen_ids = set(sact['merged_regimen_id'].unique())\n",
    "regimen_regimen_ids = set(sim_sact_regimen['merged_regimen_id'].unique())\n",
    "\n",
    "# Find regimen id's that aren't in the final merged df\n",
    "missing_regimen_ids = regimen_regimen_ids - sact_regimen_ids\n",
    "\n",
    "# Filter the sim_sact_regimen df for these missing regimen_id's\n",
    "missing_regimens = sim_sact_regimen[sim_sact_regimen['merged_regimen_id'].isin(missing_regimen_ids)]\n",
    "\n",
    "missing_regimens.head()"
   ]
  }
 ],
 "metadata": {
  "kernelspec": {
   "display_name": "Python 3",
   "language": "python",
   "name": "python3"
  },
  "language_info": {
   "codemirror_mode": {
    "name": "ipython",
    "version": 3
   },
   "file_extension": ".py",
   "mimetype": "text/x-python",
   "name": "python",
   "nbconvert_exporter": "python",
   "pygments_lexer": "ipython3",
   "version": "3.11.7"
  }
 },
 "nbformat": 4,
 "nbformat_minor": 2
}
