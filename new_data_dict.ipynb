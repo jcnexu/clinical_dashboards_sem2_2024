{
 "cells": [
  {
   "cell_type": "code",
   "execution_count": 3,
   "metadata": {},
   "outputs": [],
   "source": [
    "# Using Simulacrum V2 instead\n",
    "import os\n",
    "import pandas as pd\n",
    "import warnings "
   ]
  },
  {
   "attachments": {},
   "cell_type": "markdown",
   "metadata": {},
   "source": [
    "### 1. Read the datasets with utf-8 encoding and make all column names lower case"
   ]
  },
  {
   "cell_type": "code",
   "execution_count": 9,
   "metadata": {},
   "outputs": [],
   "source": [
    "def read_file_with_encoding(file_path):\n",
    "    encodings = ['utf-8', 'latin1', 'ISO-8859-1', 'cp1252']\n",
    "    \n",
    "    for encoding in encodings:\n",
    "        try:\n",
    "            df = pd.read_csv(file_path, encoding=encoding)\n",
    "            return df\n",
    "        except UnicodeDecodeError:\n",
    "            continue\n",
    "    \n",
    "    raise ValueError(f\"Failed to decode {file_path} with available encodings.\")"
   ]
  },
  {
   "cell_type": "code",
   "execution_count": 10,
   "metadata": {},
   "outputs": [],
   "source": [
    "def read_file_utf8(file_path):\n",
    "    try:\n",
    "        with warnings.catch_warnings(record=True) as w:\n",
    "            warnings.simplefilter(\"always\", pd.errors.DtypeWarning)\n",
    "            df = pd.read_csv(file_path, encoding='utf-8', low_memory=False)\n",
    "            \n",
    "            # Check if any warnings were triggered\n",
    "            if any(issubclass(warn.category, pd.errors.DtypeWarning) for warn in w):\n",
    "                print(f\"DtypeWarning encountered in file: {file_path}\")\n",
    "            \n",
    "        return df\n",
    "    \n",
    "    except UnicodeDecodeError:\n",
    "        raise ValueError(f\"Failed to decode {file_path} with UTF-8 encoding.\")"
   ]
  },
  {
   "cell_type": "code",
   "execution_count": 11,
   "metadata": {},
   "outputs": [
    {
     "name": "stderr",
     "output_type": "stream",
     "text": [
      "/var/folders/2y/gptxvrsx6892_93b71lw3qq00000gn/T/ipykernel_4308/3401075425.py:6: DtypeWarning: Columns (1,6) have mixed types. Specify dtype option on import or set low_memory=False.\n",
      "  df = pd.read_csv(file_path, encoding=encoding)\n"
     ]
    },
    {
     "name": "stdout",
     "output_type": "stream",
     "text": [
      "Successfully processed and saved: sim_rtds_exposure.csv\n"
     ]
    },
    {
     "name": "stderr",
     "output_type": "stream",
     "text": [
      "/var/folders/2y/gptxvrsx6892_93b71lw3qq00000gn/T/ipykernel_4308/3401075425.py:6: DtypeWarning: Columns (11) have mixed types. Specify dtype option on import or set low_memory=False.\n",
      "  df = pd.read_csv(file_path, encoding=encoding)\n"
     ]
    },
    {
     "name": "stdout",
     "output_type": "stream",
     "text": [
      "Successfully processed and saved: sim_rtds_prescription.csv\n",
      "Successfully processed and saved: sim_av_patient.csv\n",
      "Successfully processed and saved: sim_sact_outcome.csv\n",
      "Successfully processed and saved: sim_sact_drug_detail.csv\n"
     ]
    },
    {
     "name": "stderr",
     "output_type": "stream",
     "text": [
      "/var/folders/2y/gptxvrsx6892_93b71lw3qq00000gn/T/ipykernel_4308/3401075425.py:6: DtypeWarning: Columns (14,15,16,17,23,24,25,26) have mixed types. Specify dtype option on import or set low_memory=False.\n",
      "  df = pd.read_csv(file_path, encoding=encoding)\n"
     ]
    },
    {
     "name": "stdout",
     "output_type": "stream",
     "text": [
      "Successfully processed and saved: sim_av_tumour.csv\n",
      "Successfully processed and saved: sim_sact_regimen_new.csv\n",
      "Successfully processed and saved: sim_av_gene.csv\n"
     ]
    },
    {
     "name": "stderr",
     "output_type": "stream",
     "text": [
      "/var/folders/2y/gptxvrsx6892_93b71lw3qq00000gn/T/ipykernel_4308/3401075425.py:6: DtypeWarning: Columns (2) have mixed types. Specify dtype option on import or set low_memory=False.\n",
      "  df = pd.read_csv(file_path, encoding=encoding)\n"
     ]
    },
    {
     "name": "stdout",
     "output_type": "stream",
     "text": [
      "Successfully processed and saved: sim_rtds_episode.csv\n"
     ]
    },
    {
     "name": "stderr",
     "output_type": "stream",
     "text": [
      "/var/folders/2y/gptxvrsx6892_93b71lw3qq00000gn/T/ipykernel_4308/3401075425.py:6: DtypeWarning: Columns (5) have mixed types. Specify dtype option on import or set low_memory=False.\n",
      "  df = pd.read_csv(file_path, encoding=encoding)\n"
     ]
    },
    {
     "name": "stdout",
     "output_type": "stream",
     "text": [
      "Successfully processed and saved: sim_sact_cycle.csv\n",
      "Successfully processed and saved: sim_sact_regimen.csv\n"
     ]
    },
    {
     "name": "stderr",
     "output_type": "stream",
     "text": [
      "/var/folders/2y/gptxvrsx6892_93b71lw3qq00000gn/T/ipykernel_4308/3401075425.py:6: DtypeWarning: Columns (20) have mixed types. Specify dtype option on import or set low_memory=False.\n",
      "  df = pd.read_csv(file_path, encoding=encoding)\n"
     ]
    },
    {
     "name": "stdout",
     "output_type": "stream",
     "text": [
      "Successfully processed and saved: sim_rtds_combined.csv\n"
     ]
    }
   ],
   "source": [
    "#directory = \"../datasets/simulacrum_v2.1.0/Data\"\n",
    "directory = \"/Users/janexu/Documents/0. 2024 3rd Year/SCIE30002/simulacrum_v2.1.0/Data\"\n",
    "files = os.listdir(directory)\n",
    "\n",
    "for file_name in files:\n",
    "    file_path = os.path.join(directory, file_name)\n",
    "    \n",
    "    try:\n",
    "        # Read the file with encoding handling\n",
    "        df = read_file_with_encoding(file_path)\n",
    "        \n",
    "        # Convert column names to lowercase\n",
    "        df.columns = [col.lower() for col in df.columns]\n",
    "        \n",
    "        # Save the updated file\n",
    "        df.to_csv(file_path, index=False, encoding = 'utf-8')\n",
    "        \n",
    "        print(f\"Successfully processed and saved: {file_name}\")\n",
    "        \n",
    "    except Exception as e:\n",
    "        print(f\"Error processing {file_name}: {e}\")"
   ]
  },
  {
   "attachments": {},
   "cell_type": "markdown",
   "metadata": {},
   "source": [
    "### 2. Insert underscores in column names for REDCap upload"
   ]
  },
  {
   "attachments": {},
   "cell_type": "markdown",
   "metadata": {},
   "source": [
    "#### AV Files (Patient, Tumour, Gene)"
   ]
  },
  {
   "cell_type": "code",
   "execution_count": 12,
   "metadata": {},
   "outputs": [],
   "source": [
    "sim_av_patient = pd.read_csv(os.path.join(directory, 'sim_av_patient.csv'))\n",
    "\n",
    "new_field_names = {\n",
    "    'patientid': 'patient_id',\n",
    "    'gender': 'gender_patient',\n",
    "    'ethnicity': 'ethnicity_patient',\n",
    "    'deathcausecode_1a': 'death_cause_code_1a',\n",
    "    'deathcausecode_1b': 'death_cause_code_1b',\n",
    "    'deathcausecode_1c': 'death_cause_code_1c',\n",
    "    'deathcausecode_2': 'death_cause_code_2',\n",
    "    'deathcausecode_underlying': 'death_cause_code_underlying',\n",
    "    'deathlocationcode': 'death_location_code',\n",
    "    'vitalstatus': 'vital_status',\n",
    "    'vitalstatusdate': 'vital_status_date',\n",
    "    'linknumber': 'link_number'\n",
    "}\n",
    "\n",
    "sim_av_patient.rename(columns=new_field_names, inplace=True)\n",
    "sim_av_patient.to_csv(os.path.join(directory, 'sim_av_patient.csv'), index=False, encoding = 'utf-8')"
   ]
  },
  {
   "cell_type": "code",
   "execution_count": 13,
   "metadata": {},
   "outputs": [
    {
     "name": "stderr",
     "output_type": "stream",
     "text": [
      "/var/folders/2y/gptxvrsx6892_93b71lw3qq00000gn/T/ipykernel_4308/475758038.py:1: DtypeWarning: Columns (14,15,16,17,23,24,25,26) have mixed types. Specify dtype option on import or set low_memory=False.\n",
      "  sim_av_tumour = pd.read_csv(os.path.join(directory, 'sim_av_tumour.csv'))\n"
     ]
    }
   ],
   "source": [
    "sim_av_tumour = pd.read_csv(os.path.join(directory, 'sim_av_tumour.csv'))\n",
    "\n",
    "new_field_names = {\n",
    "    'tumourid': 'tumour_id',\n",
    "    'patientid': 'patient_id',\n",
    "    'gender': 'gender_patient', #unsure about this one\n",
    "    'diagnosisdatebest': 'diagonsis_date_best',\n",
    "    'site_icd10r4_o2_3char_from2013': 'site_icd10r4_o2_3char_from_2013',\n",
    "    'site_icd10r4_o2_from2013': 'site_icd10r4_o2_from_2013',\n",
    "    'site_icdo3rev2011': 'site_icdo3rev_2011',\n",
    "    'morph_icdo3rev2011': 'morph_icdo3rev_2011',\n",
    "    'behaviour_icdo3rev2011': 'behaviour_icdo3rev_2011',\n",
    "    'screeningstatusfull_code': 'screening_status_full_code',\n",
    "    'cancercareplanintent': 'cancer_care_plan_intent',\n",
    "    'performancestatus': 'performance_status'\n",
    "}\n",
    "\n",
    "sim_av_tumour.rename(columns=new_field_names, inplace=True)\n",
    "sim_av_tumour.to_csv(os.path.join(directory, 'sim_av_tumour.csv'), index=False, encoding = 'utf-8')"
   ]
  },
  {
   "cell_type": "code",
   "execution_count": 14,
   "metadata": {},
   "outputs": [],
   "source": [
    "sim_av_gene = pd.read_csv(os.path.join(directory, 'sim_av_gene.csv'))\n",
    "\n",
    "new_field_names = {\n",
    "    'geneid': 'gene_id',\n",
    "    'tumourid': 'tumour_id',\n",
    "    'patientid': 'patient_id',\n",
    "    'all_teststatuses': 'all_test_statuses'\n",
    "}\n",
    "\n",
    "sim_av_gene.rename(columns=new_field_names, inplace=True)\n",
    "sim_av_gene.to_csv(os.path.join(directory, 'sim_av_gene.csv'), index=False, encoding = 'utf-8')"
   ]
  },
  {
   "attachments": {},
   "cell_type": "markdown",
   "metadata": {},
   "source": [
    "#### RTDS Files (Episode, Exposure, Prescription, Combined)"
   ]
  },
  {
   "cell_type": "code",
   "execution_count": 15,
   "metadata": {},
   "outputs": [
    {
     "name": "stderr",
     "output_type": "stream",
     "text": [
      "/var/folders/2y/gptxvrsx6892_93b71lw3qq00000gn/T/ipykernel_4308/4051879955.py:1: DtypeWarning: Columns (2) have mixed types. Specify dtype option on import or set low_memory=False.\n",
      "  sim_rtds_episode = pd.read_csv(os.path.join(directory, 'sim_rtds_episode.csv'))\n"
     ]
    }
   ],
   "source": [
    "sim_rtds_episode = pd.read_csv(os.path.join(directory, 'sim_rtds_episode.csv'))\n",
    "\n",
    "new_field_names = {\n",
    "    'patientid': 'patient_id',\n",
    "    'radiotherapyepisodeid': 'radiotherapy_episode_id',\n",
    "    'attendid': 'attend_id',\n",
    "    'apptdate': 'appt_date',\n",
    "    'linkcode': 'link_code',\n",
    "    'decisiontotreatdate': 'decision_to_treat_date',\n",
    "    'earliestclinappropdate': 'earliest_clin_approp_date',\n",
    "    'radiotherapypriority': 'radiotherapy_priority',\n",
    "    'radiotherapyintent': 'radiotherapy_intent'\n",
    "}\n",
    "\n",
    "sim_rtds_episode.rename(columns=new_field_names, inplace=True)\n",
    "sim_rtds_episode.to_csv(os.path.join(directory, 'sim_rtds_episode.csv'), index=False, encoding = 'utf-8')"
   ]
  },
  {
   "cell_type": "code",
   "execution_count": 16,
   "metadata": {},
   "outputs": [
    {
     "name": "stderr",
     "output_type": "stream",
     "text": [
      "/var/folders/2y/gptxvrsx6892_93b71lw3qq00000gn/T/ipykernel_4308/3852684677.py:1: DtypeWarning: Columns (11) have mixed types. Specify dtype option on import or set low_memory=False.\n",
      "  sim_rtds_prescription = pd.read_csv(os.path.join(directory, 'sim_rtds_prescription.csv'))\n"
     ]
    }
   ],
   "source": [
    "sim_rtds_prescription = pd.read_csv(os.path.join(directory, 'sim_rtds_prescription.csv'))\n",
    "\n",
    "new_field_names = {\n",
    "    'patientid': 'patient_id',\n",
    "    'prescriptionid': 'prescription_id',\n",
    "    'rttreatmentmodality': 'rt_treatment_modality',\n",
    "    'rtprescribeddose': 'rt_prescribed_dose',\n",
    "    'rtprescribedfractions': 'rt_prescribed_fractions',\n",
    "    'rtactualdose': 'rt_actual_dose',\n",
    "    'rtactualfractions': 'rt_actual_fractions',\n",
    "    'rttreatmentregion': 'rt_treatment_region',\n",
    "    'rttreatmentanatomicalsite': 'rt_treatment_anatomical_site',\n",
    "    'radiotherapyepisodeid': 'radiotherapy_episode_id',\n",
    "    'linkcode': 'link_code',\n",
    "    'attendid': 'attend_id',\n",
    "    'apptdate': 'appt_date',\n",
    "}\n",
    "\n",
    "sim_rtds_prescription.rename(columns=new_field_names, inplace=True)\n",
    "sim_rtds_prescription.to_csv(os.path.join(directory, 'sim_rtds_prescription.csv'), index=False, encoding = 'utf-8')"
   ]
  },
  {
   "cell_type": "code",
   "execution_count": 17,
   "metadata": {},
   "outputs": [
    {
     "name": "stderr",
     "output_type": "stream",
     "text": [
      "/var/folders/2y/gptxvrsx6892_93b71lw3qq00000gn/T/ipykernel_4308/3258467019.py:1: DtypeWarning: Columns (1,6) have mixed types. Specify dtype option on import or set low_memory=False.\n",
      "  sim_rtds_exposure = pd.read_csv(os.path.join(directory, 'sim_rtds_exposure.csv'))\n"
     ]
    }
   ],
   "source": [
    "sim_rtds_exposure = pd.read_csv(os.path.join(directory, 'sim_rtds_exposure.csv'))\n",
    "\n",
    "new_field_names = {\n",
    "    'prescriptionid': 'prescription_id',\n",
    "    'radioisotope': 'radio_isotope',\n",
    "    'rtprescribeddose': 'rt_prescribed_dose',\n",
    "    'radiotherapybeamtype': 'radiotherapy_beam_type',\n",
    "    'radiotherapybeamenergy': 'radiotherapy_beam_energy',\n",
    "    'timeofexposure': 'time_of_exposure',\n",
    "    'apptdate': 'appt_date',\n",
    "    'attendid': 'attend_id',\n",
    "    'patientid': 'patient_id',\n",
    "    'radiotherapyepisodeid': 'radiotherapy_episode_id',\n",
    "    'linkcode': 'link_code',\n",
    "}\n",
    "\n",
    "sim_rtds_exposure.rename(columns=new_field_names, inplace=True)\n",
    "sim_rtds_exposure.to_csv(os.path.join(directory, 'sim_rtds_exposure.csv'), index=False, encoding = 'utf-8')"
   ]
  },
  {
   "cell_type": "code",
   "execution_count": 18,
   "metadata": {},
   "outputs": [
    {
     "name": "stderr",
     "output_type": "stream",
     "text": [
      "/var/folders/2y/gptxvrsx6892_93b71lw3qq00000gn/T/ipykernel_4308/2751768707.py:1: DtypeWarning: Columns (20) have mixed types. Specify dtype option on import or set low_memory=False.\n",
      "  sim_rtds_combined = pd.read_csv(os.path.join(directory, 'sim_rtds_combined.csv'))\n"
     ]
    }
   ],
   "source": [
    "sim_rtds_combined = pd.read_csv(os.path.join(directory, 'sim_rtds_combined.csv'))\n",
    "# a df combining prescription, episode and exposure (contains all their columns)\n",
    "\n",
    "new_field_names = {\n",
    "    'patientid': 'patient_id',\n",
    "    'prescriptionid': 'prescription_id', # from prescription\n",
    "    'rttreatmentmodality': 'rt_treatment_modality', # prescription\n",
    "    'radiotherapypriority': 'radiotherapy_priority', # episode\n",
    "    'radiotherapyintent': 'radiotherapy_intent', # episode\n",
    "    'rtprescribeddose': 'rt_prescribed_dose', # prescription\n",
    "    'rtprescribedfractions': 'rt_prescribed_fractions', # prescription\n",
    "    'rtactualdose': 'rt_actual_dose', # prescription\n",
    "    'rtactualfractions': 'rt_actual_fractions', # prescription\n",
    "    'rttreatmentregion': 'rt_treatment_region', # prescription\n",
    "    'rttreatmentanatomicalsite': 'rt_treatment_anatomical_site', # prescription\n",
    "    'decisiontotreatdate': 'decision_to_treat_date', # episode\n",
    "    'earliestclinappropdate': 'earliest_clin_approp_date', # episode\n",
    "    'radiotherapyepisodeid': 'radiotherapy_episode_id', # episode\n",
    "    'linkcode': 'link_code',\n",
    "    'radioisotope': 'radio_isotope', # exposure\n",
    "    'radiotherapybeamtype': 'radiotherapy_beam_type', # exposure\n",
    "    'radiotherapybeamenergy': 'radiotherapy_beam_energy', # exposure\n",
    "    'timeofexposure': 'time_of_exposure', # exposure\n",
    "    'apptdate': 'appt_date',\n",
    "    'attendid': 'attend_id',\n",
    "    'patientid': 'patient_id',\n",
    "}\n",
    "\n",
    "sim_rtds_combined.rename(columns=new_field_names, inplace=True)\n",
    "sim_rtds_combined.to_csv(os.path.join(directory, 'sim_rtds_combined.csv'), index=False, encoding = 'utf-8')"
   ]
  },
  {
   "attachments": {},
   "cell_type": "markdown",
   "metadata": {},
   "source": [
    "#### SACT Files (Regimen, Cycle, Drug Details, Outcome)\n",
    "\n",
    "Columns don't need renaming as they all already have proper underscores"
   ]
  },
  {
   "cell_type": "code",
   "execution_count": 19,
   "metadata": {},
   "outputs": [
    {
     "name": "stderr",
     "output_type": "stream",
     "text": [
      "/var/folders/2y/gptxvrsx6892_93b71lw3qq00000gn/T/ipykernel_4308/2900529528.py:2: DtypeWarning: Columns (5) have mixed types. Specify dtype option on import or set low_memory=False.\n",
      "  sim_sact_cycle = pd.read_csv(os.path.join(directory, 'sim_sact_cycle.csv')) # shape: (2,741,674 x 6)\n"
     ]
    }
   ],
   "source": [
    "sim_sact_regimen = pd.read_csv(os.path.join(directory, 'sim_sact_regimen.csv')) # shape: (781,389 x 12)\n",
    "sim_sact_cycle = pd.read_csv(os.path.join(directory, 'sim_sact_cycle.csv')) # shape: (2,741,674 x 6)\n",
    "sim_sact_drug_detail = pd.read_csv(os.path.join(directory, 'sim_sact_drug_detail.csv')) # shape: (7,662,030 x 7)\n",
    "sim_sact_outcome = pd.read_csv(os.path.join(directory, 'sim_sact_outcome.csv')) # shape: (784,135 x 6)"
   ]
  },
  {
   "cell_type": "markdown",
   "metadata": {},
   "source": [
    "Dropping Irrelevant Fields"
   ]
  },
  {
   "cell_type": "code",
   "execution_count": 20,
   "metadata": {},
   "outputs": [],
   "source": [
    "# Dropping start_date in sim_sact_regimen and just keeping sact_cycle as a more accurate starting date\n",
    "sim_sact_regimen.drop(['start_date_of_regimen', 'height_at_start_of_regimen', 'weight_at_start_of_regimen'], axis=1, inplace=True)\n",
    "sim_sact_regimen.to_csv(os.path.join(directory, 'sim_sact_regimen_new.csv'), index=False)\n"
   ]
  },
  {
   "cell_type": "markdown",
   "metadata": {},
   "source": [
    "Looking to drop records where males have gynaecological cancer or females have prostrate cancer (assuming a patient's gender is their biological/assigned at birth sex). Can only do this by finding matching cancer tumour genes in av_gene. Unsure of accuracy due to lack of knowledge/background in biology. \n",
    "\n",
    "Gynaecological Cancer Tumour Genes (present in dataset):\n",
    "1. BRCA1 (code 7), BRCA2 (code 8)\n",
    "2. TP53 (code 79)\n",
    "3. CDH1 (code 794)\n",
    "4. STK11 (code 76)\n",
    "\n",
    "Prostrate Cancer Tumour Genes (present in dataset):\n",
    "1. ATM (code 794)\n",
    "2. BRCA1 (code 7), BRCA2 (code 8)\n",
    "\n",
    "BRCA1 and BCRA2 are both associated with F&M reproductive area cancers so may need to exclude this from filtering list.\n",
    "\n",
    "ALTERNATIVE:\n",
    "Use the 'site_icd_x' field variables to find relevant disease. \n",
    "1. Prostrate cancer: C61\n",
    "2. Gynaecological cancers: C51-52 (51: vulva & 52: vagina), C53 (cervix), C54-55 (54: corpus uteri, 55: unspecified part in uterus), C56 (ovary), C57-58 (57: other/unspecified female genital organs, 58: placenta)\n",
    "\n",
    "Gender Codes:\n",
    "M: 1\n",
    "F: 1\n",
    "Indeterminate: 9\n"
   ]
  },
  {
   "attachments": {},
   "cell_type": "markdown",
   "metadata": {},
   "source": [
    "### Merging SACT Files into one"
   ]
  },
  {
   "attachments": {},
   "cell_type": "markdown",
   "metadata": {},
   "source": [
    "Unique Regimen ID count:\n",
    "- In sim_sact_outcome: 784,135\n",
    "- In sim_sact_regimen: 781,389\n",
    "- In sim_sact_cycle: 756,595 (24,794 less than regimen)\n",
    "- In final merged df: 751,911 (29,478 less than regimen)\n",
    "\n",
    "Unique Cycle ID count:\n",
    "- In sim_sact_cycle: 2,741,674\n",
    "- In sim_sact_drug_detail: 2,729,567 (12,107 less than cycle)\n",
    "\n",
    "Note: there are some discrepancies between the number of unique regimen ID's in the original regimen file and the final merged dataframe. This may be because some records don't have corresponding records in other tables (e.g. some regimens do not have corresponding cycles, and some cycles do not have drug details)"
   ]
  },
  {
   "cell_type": "code",
   "execution_count": 5,
   "metadata": {},
   "outputs": [],
   "source": [
    "directory = \"../datasets/simulacrum_v2.1.0/Data\"\n",
    "#directory = \"/Users/janexu/Documents/0. 2024 3rd Year/SCIE30002/simulacrum_v2.1.0/Data\""
   ]
  },
  {
   "cell_type": "code",
   "execution_count": 22,
   "metadata": {},
   "outputs": [],
   "source": [
    "# Drug + Cycle\n",
    "drug_cycle = pd.merge(sim_sact_drug_detail, sim_sact_cycle, on='merged_cycle_id', how='left') # shape: (7,662,030 x 12)\n",
    "\n",
    "# Drug + Cycle + Regimen\n",
    "drug_cycle_regimen = pd.merge(drug_cycle, sim_sact_regimen, on='merged_regimen_id', how='left') # shape: (7,662,030 x 23)\n",
    "\n",
    "# All SACT Files\n",
    "sact = pd.merge(drug_cycle_regimen, sim_sact_outcome, on='merged_regimen_id', how='left') # shape: (7,662,030 x 28)"
   ]
  },
  {
   "attachments": {},
   "cell_type": "markdown",
   "metadata": {},
   "source": [
    "### Merging AV Files into one"
   ]
  },
  {
   "cell_type": "code",
   "execution_count": 6,
   "metadata": {},
   "outputs": [
    {
     "name": "stderr",
     "output_type": "stream",
     "text": [
      "/var/folders/wm/5g809ssj2tbbh5kq8m3h9v5m0000gn/T/ipykernel_87148/3806097431.py:2: DtypeWarning: Columns (14,15,16,17,23,24,25,26) have mixed types. Specify dtype option on import or set low_memory=False.\n",
      "  sim_av_tumour = pd.read_csv(os.path.join(directory, 'sim_av_tumour.csv')) # shape: (1,995,570 x 37)\n"
     ]
    }
   ],
   "source": [
    "sim_av_patient = pd.read_csv(os.path.join(directory, 'sim_av_patient.csv')) # shape: (1,871,605 x 12)\n",
    "sim_av_tumour = pd.read_csv(os.path.join(directory, 'sim_av_tumour.csv')) # shape: (1,995,570 x 37)\n",
    "sim_av_gene = pd.read_csv(os.path.join(directory, 'sim_av_gene.csv')) # shape: (255,728 x 29)"
   ]
  },
  {
   "cell_type": "code",
   "execution_count": 7,
   "metadata": {},
   "outputs": [],
   "source": [
    "# Ensure data type is date time\n",
    "sim_av_tumour['diagonsis_date_best'] = pd.to_datetime(sim_av_tumour['diagonsis_date_best'])\n",
    "\n",
    "pre_2013_tumour = sim_av_tumour[sim_av_tumour['diagonsis_date_best'].dt.year < 2013] # 0 rows\n",
    "post_2013_tumour = sim_av_tumour[sim_av_tumour['diagonsis_date_best'].dt.year >= 2013] # All rows from the tumour dataset\n",
    "\n",
    "# As all of the diagnosis dates are above 2013, we will use site_icd10r4_o2_from_2013 to determine the location of the tumour"
   ]
  },
  {
   "cell_type": "code",
   "execution_count": 8,
   "metadata": {},
   "outputs": [
    {
     "name": "stdout",
     "output_type": "stream",
     "text": [
      "Index(['tumour_id', 'gender_patient_x', 'patient_id_x', 'diagonsis_date_best',\n",
      "       'site_icd10_o2_3char', 'site_icd10_o2',\n",
      "       'site_icd10r4_o2_3char_from_2013', 'site_icd10r4_o2_from_2013',\n",
      "       'site_icdo3rev_2011', 'site_icdo3rev2011_3char', 'morph_icd10_o2',\n",
      "       'morph_icdo3rev_2011', 'behaviour_icd10_o2', 'behaviour_icdo3rev_2011',\n",
      "       't_best', 'n_best', 'm_best', 'stage_best', 'grade', 'age', 'creg_code',\n",
      "       'stage_best_system', 'laterality', 'screening_status_full_code',\n",
      "       'er_status', 'pr_status', 'her2_status', 'quintile_2019',\n",
      "       'date_first_surgery', 'cancer_care_plan_intent', 'performance_status',\n",
      "       'chrl_tot_27_03', 'comorbidities_27_03', 'gleason_primary',\n",
      "       'gleason_secondary', 'gleason_tertiary', 'gleason_combined',\n",
      "       'gender_patient_y', 'ethnicity_patient', 'death_cause_code_1a',\n",
      "       'death_cause_code_1b', 'death_cause_code_1c', 'death_cause_code_2',\n",
      "       'death_cause_code_underlying', 'death_location_code', 'vital_status',\n",
      "       'vital_status_date', 'link_number', 'gene_id', 'patient_id_y',\n",
      "       'gene_desc', 'gene', 'count_tests', 'count_results', 'count_date',\n",
      "       'all_test_statuses', 'overall_ts', 'no_of_ab_gats', 'dnaseq_gat',\n",
      "       'methyl_gat', 'exp_gat', 'copyno_gat', 'fus_trans_gat', 'abnormal_gat',\n",
      "       'no_of_seq_vars', 'all_seq_vars', 'seq_var', 'date_overall_ts',\n",
      "       'best_date_source_overall_ts', 'min_date', 'max_date', 'all_pro_imps',\n",
      "       'no_of_pro_imps', 'pro_imp', 'methods', 'lab_name'],\n",
      "      dtype='object')\n"
     ]
    }
   ],
   "source": [
    "tumour_patient = pd.merge(sim_av_tumour, sim_av_patient, on='patient_id', how='left') # shape: (1,995,570 x 48)\n",
    "\n",
    "# Note: not all tumours have corresponding gene records\n",
    "av = pd.merge(tumour_patient, sim_av_gene, on='tumour_id', how='left') # shape: (2,154,804 x 76)\n",
    "print(av.columns)"
   ]
  },
  {
   "cell_type": "markdown",
   "metadata": {},
   "source": [
    "Looking to drop records where males have gynaecological cancer or females have prostrate cancer (assuming a patient's gender is their biological/assigned at birth sex). Can only do this by finding matching cancer tumour genes in av_gene. Unsure of accuracy due to lack of knowledge/background in biology. \n",
    "\n",
    "Gynaecological Cancer Tumour Genes (present in dataset):\n",
    "1. BRCA1 (code 7), BRCA2 (code 8)\n",
    "2. TP53 (code 79)\n",
    "3. CDH1 (code 794)\n",
    "4. STK11 (code 76)\n",
    "\n",
    "Prostrate Cancer Tumour Genes (present in dataset):\n",
    "1. ATM (code 794)\n",
    "2. BRCA1 (code 7), BRCA2 (code 8)\n",
    "\n",
    "BRCA1 and BCRA2 are both associated with F&M reproductive area cancers so may need to exclude this from filtering list.\n",
    "\n",
    "ALTERNATIVE:\n",
    "Use the 'site_icd_x' field variables to find relevant disease. \n",
    "1. Prostrate cancer: C61\n",
    "2. Gynaecological cancers: C51-52 (51: vulva & 52: vagina), C53 (cervix), C54-55 (54: corpus uteri, 55: unspecified part in uterus), C56 (ovary), C57-58 (57: other/unspecified female genital organs, 58: placenta)\n",
    "\n",
    "Gender Codes:\n",
    "M: 1\n",
    "F: 2\n",
    "Indeterminate: 9\n",
    "\n",
    "Going to use site_icd10_o2_3char_from_2013 since all records are older than 2013"
   ]
  },
  {
   "cell_type": "markdown",
   "metadata": {},
   "source": [
    "Checking Data"
   ]
  },
  {
   "cell_type": "code",
   "execution_count": 9,
   "metadata": {},
   "outputs": [
    {
     "name": "stdout",
     "output_type": "stream",
     "text": [
      "True\n"
     ]
    }
   ],
   "source": [
    "# Querying to see if gender values match across av_patient and av_tumour\n",
    "matching = av['gender_patient_x'] == av['gender_patient_y']\n",
    "all_match = matching.all()\n",
    "\n",
    "print(all_match)"
   ]
  },
  {
   "cell_type": "code",
   "execution_count": 17,
   "metadata": {},
   "outputs": [
    {
     "name": "stdout",
     "output_type": "stream",
     "text": [
      "{'invalid_tumour_ids': [10341168, 11881098, 10817694, 10426873, 11931475, 11751651, 10348016, 10156648, 10588494, 10155732, 10601846, 11245985, 10464715, 10869588, 11500327, 10552884, 11880602, 11932438, 11660978, 10918808, 10219778, 10203154, 11015698, 10084385, 10209486, 11276576, 11046467, 11905385, 11006311, 10704869, 10582817, 10332177, 10005451, 11894108, 10439994, 10027492, 11125952, 11003513, 10296186, 10174291, 10256878, 10247634, 10162363, 10800028, 11976986, 10754390, 11928935, 11537497, 11802535, 10597960, 11542777, 11043782, 10811581, 11255139, 10215454, 10703332, 11632847, 11649481, 11308224, 10501133, 11649967, 11647470, 10583133, 11967769, 11385322, 10505340, 10514248, 10260973, 11650160, 10188764, 11646263, 11826049, 11251631, 11880149, 11788189, 10047551, 11411217, 11108330, 11139636, 10118335, 10975201, 11853791, 11581316, 10507667, 11145448, 11844185, 10753511, 11329126, 10541280, 11834463, 11770146, 10829941, 11651179, 10869876, 11356231, 11343070, 11344375, 10547729, 10890812, 11026514, 10843981, 11146836, 11964224, 11072947, 11207374, 10787049, 11156423, 10506004, 11636818, 11134557, 11121745, 10334406, 10886364, 11258319, 11430363, 10559340, 10520941, 10095723, 11916354, 11095489, 10388088, 10736030, 10522846, 10486945, 11160814, 11058385, 10216376, 10721249, 11758204, 11302074, 11021826, 11760661, 10169970, 10452486, 10806736, 10894438, 10659300, 10118449, 11202235, 11825297, 11361344, 11307221, 11490892, 11134479, 11823524, 11158861, 11932691, 10569466, 10569343, 10164848, 11866642, 10953031, 11113222, 11377332, 10739033, 10447997, 10014250, 10526021, 11699009, 10050872, 10053197, 11017433, 10148927, 10552723, 10851210, 10160920, 10663459, 11500609, 10474346, 10802338, 10180186, 11236795, 11553072, 11482683, 10419214, 10837471, 10257179, 10796326, 10344000, 10987843, 11554222, 10412458, 11335034, 10775793, 11100103, 11823555, 10966324, 11211905, 10183236, 10464569, 10019683, 11996174, 10610978, 11148385, 10194240, 10411655, 11899786, 10722040, 10748305, 10324620, 10811816, 11702599, 11350288, 10495180, 10094037, 10562113, 10994416, 11978805, 11976476, 11993812, 10485530, 10372783, 11873272, 11118064, 10010356, 11117395, 11213545, 11496827, 10015726, 10204617, 10234551, 10527336, 11438280, 11797357, 10601863, 11343362, 10558343, 10330114, 10629846, 11316692, 10500283, 11337579, 11808183, 11786040, 10435802, 10206670, 10016321, 10619886, 10293116, 11114516, 11820577, 11483159, 11412750, 10807716, 10270161, 11173383, 11832564, 10457427, 10590676, 11190136, 11847649, 10249312, 10299832, 10844323, 11600857, 10247707, 11937654, 10475799, 10387327, 11508082, 11378602, 10217295, 11445182, 10644941, 10114462, 11598346, 11487448, 10152046, 11894762, 11902456, 10946781, 10898144, 10241914, 10741978, 10599757, 11463870, 11715941, 10795888, 10167478, 10744286, 11161907, 11932714, 10263514, 10857004, 10373308, 10797327, 11690289, 11949879, 11852124, 10666066, 10934692, 10672695, 11347232, 11577274, 11911688, 11109930, 11222384, 10031168, 10302672, 11588845, 11826566, 10981778, 11568243, 10544589, 11910545, 11411155, 10234571, 11050839, 10216810, 10171909, 10912490, 11474987, 10481753, 10348445, 10641819, 10400678, 11354567, 10329057, 10473895, 11368633, 11748819, 10832934, 10690207, 10936993, 11301009, 11195135, 11018002, 10221971, 10775219, 10727361, 11614915, 11113071, 11089099, 11357342, 10074868, 11147286, 10062147, 10843312, 11155863, 11243410, 11632651, 11529787, 10939639, 11274935, 11446274, 11391722, 10631970, 11500610, 11743327, 10525708, 10154830, 10638627, 11712620, 11435176, 10792986, 11893821, 10879335, 10538839, 10625016, 10874033, 11219208, 11970679, 11976862, 11046252, 10697386, 11947088, 10457815, 11946909, 11085831, 11917765, 10590501, 11900071, 11081621, 11701251, 11668227, 11230724, 11073317, 10576631, 11220392, 11624797, 11836250, 10415924, 11356194, 10203222, 11476189, 10702171, 11816705, 10676550, 11593894, 11948559, 10672619, 11537527, 11958586, 11676373, 11642467, 11581909, 10412817, 10724520, 10545766, 10418682, 10125185, 10667898, 10393257, 10893610, 10167764, 10004385, 11304313, 11086382, 11627041, 10993328, 10255832, 11901926, 11440208, 11168331, 10854309, 11936260, 11301610, 10324363, 11086147, 11653836, 10846193, 10738424, 10355007, 11987137, 11352192, 10182416, 11995496, 10628548, 10852338, 10079802, 11451169, 11075894, 11327804, 10926414, 10195843, 10430421, 11482896, 10216803, 11211487, 11907823, 10859267, 11746276, 11972343, 10752750, 10257149, 11708784, 11640931, 11758863, 11435981, 10804741, 11234734, 11370340, 11050207, 10358967, 11936529, 10300309, 11334366, 10060381, 10630807, 11640665, 11583980, 10111705, 10098660, 11343423, 11780324, 10992955, 10339690, 11780481, 10721293, 11795839, 10398988, 10171578, 11205182, 10222555, 11765693, 11267493, 10451492, 11939341, 11460363, 11495491, 10224908, 10988499, 10328723, 10389056, 11928789, 10967044, 11302827, 11754176, 11160414, 11405595, 10326546, 11223328, 10877627, 10792127, 10357889, 11078096, 11086717, 10445912, 11308318, 10774437, 10571013, 10863195, 11948466, 11479859, 11142709, 11310550, 11442759, 11343304, 11452650, 10621045, 11499889, 11556464, 11619716, 10078160, 10307306, 10456839, 10508832, 10235122, 11045399, 11940143, 10444349, 11175353, 10191472, 11020562, 10106768, 11489238, 11530750, 10776867, 11522544, 10572071, 11636593, 11792197, 11563918, 11531358, 11514817, 11327086, 11395237, 11369893, 10688937, 11020162, 11689536, 10990330, 10408375, 10681221, 10800484, 10253057, 11102719, 11412160, 11532168, 11463126, 11039510, 11954358, 11652724, 10394543, 10407312, 11448989, 10896141, 11759299, 11932308, 11677775, 10620599, 10844081, 10211252, 11988598, 10845866, 11307253, 11620370, 10074362, 11060280, 11522742, 11011601, 11447327, 11717047, 10983081, 11376345, 11065648, 11547736, 10221963, 10079762, 10313871, 10300667, 11706505, 10148934, 10189791, 11641793, 11749314, 11783772, 10376845, 11707539, 10817292, 10500395, 11072938, 11218246, 10861500, 10096493, 11382745, 11996780, 11828935, 10418656, 11429171, 10879715, 11949615, 10699021, 10717200, 10730750, 11279222, 11983460, 11849318, 11106263, 10283520, 10647619, 10740173, 10889897, 11286518, 11636531, 10019174, 10458559, 10511040, 10632480, 10605812, 11793360, 10674565, 10514847, 11181744, 11260293, 11581768, 10383372, 10837307, 10334022, 11498963, 11032783, 11158079, 11797770, 10959426, 10223518, 10973039, 11377582, 10015179, 11386215, 10296782, 10021449, 10279216, 10782523, 11289393, 11313564, 10385473, 10697389, 11171692, 11625958, 10857720, 10189130, 11560543, 10432037, 11511246, 10372995, 10526664, 11120476, 11513134, 10656860, 11225681, 10353652, 11848322, 10656179, 10083374, 11613077, 10718732, 10886257, 10418341, 10680577, 11590400, 11209612, 10844591, 11198196, 11044526, 11014478, 10689419, 11052218, 10029710, 11733022, 10673566, 10135022, 10233110, 11811845, 11699518, 10092714, 10132879, 11907511, 10746174, 10630510, 10426450, 10284482, 10856390, 11266284, 11589394, 11526132, 10448659, 10928667, 11948137, 10969756, 11767398, 10168209, 10021693, 11768035, 10429976, 11381833, 10068388, 11384723, 11449052, 10136292, 10646399, 10161972, 10485140, 11389304, 10373673, 10062715, 11744062, 10044427, 10820737, 11531640, 10951074, 10443971, 10609155, 10244839, 10103475, 11197724, 11837616, 11170865, 10829627, 10332127, 11199001, 10864846, 11246398, 10164161, 10956679, 10778185, 10405338, 10766594, 11889165, 11035585, 10544982, 11350992, 11235665, 10559753, 11666005, 11671290, 11642145, 11662684, 10289405, 10931756, 10651785, 11121509, 11982776, 11244656, 10505992, 11944504, 11867632, 10589757, 10074116, 10323438, 10490900, 10271680, 10933002, 11412885, 11930554, 10725565, 10353424, 11724067, 10544135, 10851094, 10725553, 11979758, 10846335, 11519335, 10486366, 10946613, 11436089, 11669669, 10013132, 11896293, 10348008, 11292895, 10846559, 10955847, 10956685, 10619923, 10656378, 10654524, 10539748, 11837414, 10778711, 10277051, 10809341, 11665203, 11488698, 11537500, 11388548, 10199695, 11267267, 11381752, 10043926, 10888696, 11077930, 10859063, 10061540, 11899978, 10218466, 11883554, 11216264, 11781330, 10821374, 11218414, 11352744, 10837835, 11318528, 11285449, 11345182, 11192174, 10917969, 10609196, 11614818, 10805854, 11836157, 10338911, 11253755, 10722309, 10035101, 11269294, 11348923, 11962175, 11492526, 11676879, 10125179, 11352485, 10626928, 11194926, 10048453, 11111062, 10334826, 11787699, 10260850, 11330350, 11151822, 10622000, 11803198, 10668167, 11869248, 10516923, 11226844, 11256873, 10566699, 11359006, 11594860, 10308624, 10095252, 10347880, 10397764, 10112533, 10215551, 10901568, 11380125, 10017147, 10644626, 10730824, 11964281, 10961189, 11559638, 11556575, 11854812, 11629548, 10057931, 10033866, 10958987, 11437420, 10728181, 11252276, 10863383, 11789399, 11877728, 11466720, 11192278, 10795692, 10200025, 10067845, 11965451, 11376205, 10520173, 11413205, 11629226, 10038358, 10760365, 10322443, 11634841, 11788569, 11722475, 10214200, 10787536, 11840551, 10788340, 11431996, 10555717, 11581204, 10986225, 11138426, 10910310, 11203202, 10148062, 10298111, 10679133, 10442664, 11755261, 10247029, 11106728, 10213621, 10409122, 11562037, 10215319, 10086871, 11396517, 10059529, 10328672, 10436656, 11535380, 11543117, 10194958, 10995631, 11529927, 11570720, 10041943, 11331639, 11695625, 10078199, 10961392, 11905281, 11284474, 10733354, 11389135, 11531430, 11197114, 11495134, 11282829, 10799775, 10644360, 10861032, 11707918, 11661105, 10698318, 10185852, 10205315, 10419097, 10768711, 10204097, 10010088, 10589797, 11099663, 11190628, 10875302, 10490545, 11338812, 11089551, 11442274, 11192240, 11328302, 10527162, 11624534, 10071287, 10131666, 11760514, 10085958, 10604759, 11586888, 10777624, 10140752, 10461059, 11726509, 10445030, 11041060, 10314779, 10008043, 11036379, 10062423, 11711869, 11451422, 11073017, 11307264, 11987271, 10920102, 10561138, 10894720, 11533708, 10112647, 11273277, 11082890, 10590824, 11923798, 10626964, 10823737, 10146327, 10137176, 10348186, 11452831, 11491081, 11582673, 10328123, 10831026, 10508318, 11658980, 10615572, 11892016, 11832304, 10264523, 11496913, 11996318, 11516478, 10115971, 10154878, 11396405, 11515795, 10094079, 10753142, 10295162, 11116327, 10423143, 10256147, 11862141, 11128877, 10338843, 11379543, 10503975, 10797360, 11162897, 10539269, 11730331, 10131343, 10844933, 11821724, 10031240, 11951932, 10131233, 11523164, 11627313, 10660769, 10013487, 10373102, 11039912, 10304873, 10756237, 11830543, 10960399, 11539057, 11101745, 10324071, 10021517, 11717526, 11145656, 10333867, 10464193, 11565482, 10734862, 11254910, 11044637, 10758458, 11798697, 10248890, 10190913, 11987595, 11924088, 11520865, 10819770, 10153121, 11006896, 11966796, 10395024, 10877874, 10515009, 11613986, 11816756, 10147618, 11501554, 10859539, 10435079, 10412716, 11221747, 11695757, 11317555, 10819665, 10809158, 11662439, 11016879, 11791189, 11335474, 11220679, 11094956, 11623716, 11662510, 10760850, 11848338, 10374573, 11657126, 10905316, 11913270, 10310205, 11844531, 10495805, 10768867, 11632226, 10621551, 10050540, 11298390, 11066918, 10909421, 10727896, 10372476, 10771376, 11412757, 10251707, 10039684, 11337943, 11476427, 10039217, 11674015, 10183908, 10763623, 10038222, 11014433, 10347318, 10428454, 11764035, 10583991, 10086757, 11919068, 10597897, 11292419, 11466348, 10241504, 10219004, 10714688, 11869278, 11711138, 11648832, 10583301, 10112911, 10366985, 11355053, 11283837, 11622236, 10990279, 10111238, 11366270, 10733372, 10874099, 10651638, 10806133, 10848276, 10479370, 10631255, 11297102, 11307952, 10158723, 11827534, 11081657, 11702858, 11015188, 10490218, 11957108, 11356243, 10108267, 11866910, 10329415, 11669236, 10044076, 10256143, 10159631, 10381667, 10169539, 11651456, 10058083, 10538978, 11174781, 10806559, 10816443, 10583670, 10454059, 11893457, 11706257, 11882366, 11751282, 11946218, 10917728, 10497369, 10023970, 10209654, 11628731, 11887490, 10530407, 11565792, 11584890, 11760719, 10245586, 10396140, 11030223, 10218454, 11093759, 10392581, 10230010, 11379326, 10057168, 11014632, 10304619, 10201686, 10118247, 11079653, 10501818, 10556597, 11891663, 11619547, 11303971, 10082455, 10839029, 10480272, 10019760, 11797290, 10009083, 11998523, 10840923, 10141268, 10918440, 11396298, 10063681, 11187179, 10457929, 11997650, 11886221, 10301684, 11814125, 10943508, 10233710, 11767574, 11909368, 11377683, 11761039, 11063037, 11618942, 11722429, 10244365, 11384976, 10007788, 11028008, 10136699, 10385080, 10733116, 10376018, 11405373, 11421253, 11452805, 11224012, 11369002, 10902495, 11974671, 11584423, 10441988, 11326192, 10051554, 10279559, 10289992, 11037968, 10661336, 10343058, 11508961, 10680552, 10783995, 11215016, 11511360, 11273833, 10217112, 11562617, 11419547, 10612661, 11736916, 10383674, 11615928, 10933981, 11916627, 11709183, 11434752, 11031048, 10176622, 11532949, 11156284, 11196214, 10474668, 10436263, 10299773, 11162154, 11922232, 10282280, 11380206, 10970285, 10259430, 11484271, 11507001, 10050593, 10318327, 10105603, 10941464, 11790910, 10307901, 10657382, 10782718, 11117913, 10541737, 10813899, 11255997, 11006816, 10236344, 10612926, 11037098, 10618957, 11832603, 10236568, 10517391, 10466850, 10517890, 10997547, 11723428, 11048647, 11533971, 11014026, 10491610, 11850132, 10054983, 11545048, 10841537, 10083223, 11798251, 10915835, 11615354, 11656414, 10232524, 10098634, 10476421, 10724637, 10546096, 10592156, 11977960, 10801241, 10075838, 11217197, 11307877, 10387524, 11727131, 10992171, 11575997, 10767692, 11043832, 11738921, 11764884, 10943939, 11815627, 10902197, 11129698, 10429641, 10461297, 10687453, 11042261, 11249395, 11724910, 11374735, 11837086, 11232072, 11365567, 10484836, 11230739, 11704719, 10296147, 11155662, 10869550, 11688738, 11743771, 10989156, 10971630, 11479896, 10440232, 11611468, 11429873, 11863929, 11027987, 10297960, 11722241, 10558071, 10106877, 11016354, 10745831, 11456726, 10474484, 10539268, 10222192, 11392150, 11753526, 11417733, 11819300, 11321092, 10679087, 11937384, 11186011, 11687176, 11919710, 10871356, 10237561, 11433405, 10902607, 11730314, 11505946, 10114264, 10272042, 10855139, 11487542, 10683155, 10459776, 11958625, 11166551, 11366109, 10265587, 10274247, 10211410, 11383173, 10651994, 11357557, 10677803, 11044012, 11564489, 10713081, 10395935, 11896169, 10023545, 10152749, 11608239, 10789270, 10393147, 11536762, 11372049, 11200067, 10974582, 10248091, 10527251, 11693727, 10294121, 11270468, 11867260, 11759553, 11701805, 11352857, 11352857, 11262736, 10808599, 11659614, 11173054, 11065479, 10621428, 10712664, 10874947, 11274490, 11620816, 11752946, 11509756, 11535937, 11627930, 11607643, 10652563, 10067376, 10311752, 10115435, 10849067, 10130203, 11122675, 10251820, 11531737, 10293240, 11306558, 11781798, 11340225, 10877264, 11646558, 11782756, 10269129, 10148649, 11067728, 10211420, 11567458, 11722774, 10871478, 11769711, 11698870, 11793602, 11048991, 11349507, 11269607, 11901731, 10097845, 11757143, 10756509, 11198127, 11804775, 10736655, 11327608, 10943303, 10587021, 11786298, 10950142, 11816525, 11153804, 11667626, 10789327, 11907249, 10527713, 11099560, 10127158, 11799520, 11922888, 11573610, 11232505, 10374098, 10112689, 10766566, 11122034, 11132434, 11394584, 11641174, 10644517, 11564036, 10562956, 11604670, 11989464, 10910875, 11362223, 11312795, 11740972, 11266840, 10863572, 10040942, 10317826, 11304880, 10062307, 10979291, 11919977, 11431980, 10941486, 10847446, 10689262, 10903401, 10527890, 10727405, 10661226, 10425953, 10188212, 10614794, 11120114, 11912533, 10579517, 11413095, 11201321, 10646801, 10812657, 11027265, 10771124, 11379126, 11120989, 11120989, 11120989, 11272774, 10468690, 10238462, 11875023, 10975236, 10625927, 10695504, 11271691, 10870070, 10074476, 10761784, 11278057, 11307072, 11307072, 11307072, 10622993, 10564899, 10481219, 10244399, 11565136, 10201798, 11370209, 10898698, 11784884, 10848014, 10055912, 10527763, 10830562, 10581144, 11370392, 10766354, 11963372, 10296103, 11705648, 10387148, 11118330, 11095212, 10079104, 10736214, 10243618, 10180053, 11264902, 11867801, 11678123, 11312203, 10131972, 10367015, 11869401, 11815210, 10285417, 10104658, 11976059, 11035440, 11848466, 11216891, 10557032, 10410501, 11954461, 11600430, 11211407, 11256885, 11527772, 11253998, 11080794, 10524422, 10744792, 11848573, 10457089, 11099278, 10685447, 10685447, 10501957, 11570679, 10757215, 11009368, 11439025, 11871292, 10591971, 10798925, 11252895, 10946973, 10070692, 11945431, 10389128, 11966615, 11674432, 11108728, 11267634, 11062379, 11520656, 11001747, 11267805, 10647734, 10001932, 11414458, 11191673, 11033482, 11631915, 11264463, 10904623, 11859208, 11949378, 10574718, 11693121, 10534147, 10529422, 11130807, 11886396, 10185041, 11831929, 11902660, 10419191, 10285350, 11425653, 10584041, 11404858, 10704432, 10812052, 11262166, 10783319, 10599779, 10872337, 11984649, 11519855, 11617974, 10606663, 10029583, 10612037, 11580228, 11222388, 10378991, 10663540, 10555456, 11641608, 10194544, 10246347, 11286071, 10360291, 10852944, 10111285, 10052502, 10867860, 11301872, 11363124, 11110514, 10893855, 10756900, 11171025, 11381793, 10464890, 10905481, 10644557, 10232919, 10367432, 11548781, 10572732, 11915395, 10223665, 11239334, 11909926, 10732772, 10754424, 10387937, 11639831, 10048138, 11825771, 11033101, 10140478, 10244983, 11872885, 10261522, 11071303, 10261469, 11879935, 11256085, 10548174, 11978464, 10833039, 11523337, 10894826, 11630598, 11699143, 10918231, 10572924, 11246373, 10110531, 10667611, 10136728, 11133148, 11172758, 11604465, 10278912, 10273429, 10835023, 11579179, 11489768, 10375060, 11983685, 11248661, 10684229, 10347242, 11797743, 10520688, 10131706, 10280671, 10842222, 11505150, 10307447, 10549992, 10984499, 10169388, 10591926, 10121332, 10835113, 11910879, 10759490, 11614523, 10594003, 11955867, 10523583, 10940432, 11673370, 11670516, 10372022, 10847378, 10960837, 11379325, 11731854, 11579805, 10242992, 10623176, 10285257, 10329426, 10956871, 10425489, 10126885, 10358421, 11026163, 10532548, 10841285, 11201104, 10465031, 11301958, 11614605, 10718579, 10186356, 11024780, 11029704, 11776447, 11434342, 10061829, 10987154, 11714479, 10900223, 11779904, 11529519, 10520385, 10895642, 11911785, 11554909, 10320893, 11915426, 11275507, 11811045, 10199906, 11199623, 11323389, 11437119, 11727297, 10116905, 10136588, 10136008, 10132965, 10460797, 11909397, 11092242, 10709607, 11484044, 10305327, 10193108, 10060289, 11831777, 11437287, 11766567, 10177529, 10109270, 11469558, 10104629, 11149288, 11421481, 11898239, 11003981, 11362964, 10059952, 11590027, 10863509, 10951665, 10398668, 11623838, 10087257, 10205733, 10835976, 10944482, 10301520, 10158725, 10662279, 11240572, 10811300, 10728598, 11134356, 10743371, 11777152, 11999724, 11899476, 11059019, 11204323, 11025073, 10665413, 10368586, 11079511, 10731149, 10001441, 10332535, 10213855, 10610583, 11124986, 10917895, 10765266, 10297649, 11364671, 11799282, 10266177, 11863092, 10790934, 11494442, 11509484, 10675182, 11419988, 11837155, 10559923, 10703507, 11647143, 10027877, 11951727, 11326052, 10282908, 11586592, 10481440, 11625795, 11297874, 10754286, 11837327, 11684628, 10988254, 11302980, 11979545, 11610808, 11758581, 10428476, 10603863, 10356399, 11860719, 11907118, 11922819, 10778179, 10515287, 10352391, 10438981, 11129005, 10507212, 10376001, 10721336, 10976127, 10897852, 10314717, 11989534, 11222065, 11302157, 10559899, 11231358, 11297390, 11719350, 10204582, 10298951, 11298751, 11029819, 10011893, 11901542, 10878279, 11445726, 10661210, 11127601, 11909804, 10333389, 11662368, 11909927, 10711903, 11962949, 11973107, 11776306, 11378275, 11088920, 10788867, 10887214, 11741256, 10992662, 11056623, 10897193, 11862827, 11763353, 10040214, 10156359, 11703157, 11228692, 11228692, 11073611, 11478202, 10098671, 11438894, 10980312, 10812955, 10627766, 10027104, 10879987, 10521076, 10797628, 11780150, 10603161, 11799075, 10560307, 10823282, 11648712, 11090763, 10780952, 10297952, 10767475, 10935685, 10622041, 11369762, 11149543, 11003452, 10458970, 10331414, 11382878, 11256667, 10816017, 10503625, 11822816, 10679792, 11224423, 11397248, 11255371, 10877578, 11974706, 11496566, 11648430, 10458155, 11101534, 10483260, 11207919, 10166116, 10412351, 10861778, 11650071, 11398457, 11891226, 10304217, 11462685, 11250420, 10799328, 11895364, 10090490, 11782390, 11607229, 10019339, 11765431, 10348648, 11801702, 10527759, 10893546, 11576753, 11481843, 11918885, 11539937, 11223607, 11286671, 11025341, 11825017, 10730851, 11074036, 11250477, 10031828, 11453401, 11809202, 10657711, 10357245, 10004370, 10585787, 11115781, 11543322, 10582090, 10975501, 11785375, 10462071, 11331001, 11359229, 11826481, 11328134, 11792302, 10768179, 10823151, 11874704, 10696433, 11403160, 11261199, 11585516, 11053224, 11760938, 10894745, 11091010, 11795468, 10336577, 11725873, 10060908, 10833619, 10559023, 10275492, 11368244, 11962129, 11964754, 11042636, 10993696, 10737105, 10187158, 10099967, 10072032, 10952037, 11794171, 10184821, 10225178, 10767902, 10066508, 10313224, 11544695, 10049432, 10318204, 11285732, 11962191, 11735891, 10306424, 11549977, 10947847, 10997634, 11367532, 10881488, 10214995, 11962721, 10869030, 11980510, 11796379, 11092126, 11894860, 10265980, 10417294, 11444106, 11505427, 11137333, 11840664, 11898038, 11582569, 11210366, 11833565, 10653829, 11634760, 11595767, 10682179, 11064169, 11422103, 11586995, 11155815, 11387628, 11201167, 10551761, 11744886, 11431527, 10484350, 10669635, 11392276, 10698380, 11288354, 11775618, 11117481, 10086793, 11226350, 10219595, 10091809, 11211948, 11714467, 10370088, 11988801, 10328514, 10400026, 11981140, 10863721, 11018381, 10046193, 11182781, 10868533, 10277735, 10890630, 10334362, 10242270, 10256081, 10356891, 11578303, 11578303, 11164034, 11133781, 10861742, 10789009, 11921503, 11229480, 11300423, 10203270, 11279334, 11861300, 11814107, 11024361, 10125809, 11548322, 10047638, 11619476, 10811379, 11180803, 10431702, 11955610, 11955610, 10038945, 11655787, 10645708, 10870608, 11578613, 11012305, 10272055, 11303815, 11815922, 10375737, 11704131, 11211513, 10758680, 10558957, 11800836, 11339539, 10567384, 11391036, 10056332, 11644379, 11045240, 10794564, 11356759, 11029270, 10517127, 10137670, 11187887, 10351188, 11012691, 10747927, 11735821, 10018187, 11245481, 10182669, 10762442, 10962689, 10495363, 11932296, 11162270, 10778192, 10446078, 10042795, 11314986, 11279570, 11528703, 11478987, 10863129, 11862127, 10279192, 10576634, 10171475, 11084766, 11577602, 11369349, 10887514, 10939070, 10114529, 10731583, 11482220, 11633745, 11246410, 11144226, 11017855, 10986533, 10450033, 11859495, 10713060, 11906388, 11384463, 10464810, 11305550, 10857641, 11827933, 11559598, 10952765, 11108055, 11354536, 11644621, 10564990, 11901252, 11729725, 10510738, 11678296, 10200806, 10851661, 11247182, 11253782, 11807671, 11004419, 10971309, 10544015, 11670344, 11674839, 11180881, 11127711, 10114905, 10089569, 10218672, 11847990, 10931535, 10413620, 11274379, 11637803, 11936410, 10420659, 10783243, 10903949, 11135568, 11954154, 10949776, 11655949, 11590566, 11303843, 11469307, 11725362, 10724415, 11110926, 10481299, 10887759, 11432839, 11250435, 10251493, 11098142, 11827233, 10156552, 10446829, 11914398, 11212068, 11597386, 10918822, 11936683, 11906435, 10897542, 11835870, 10964464, 11767332, 10428029, 10817188, 11410242, 10068523, 11852703, 11870263, 11661732, 10166391, 10166391, 10654213, 10030584, 11165379, 10222656, 10290249, 10862679, 11066072, 11858101, 11822267, 11060733, 11669482, 11175056, 10272198, 10307540, 10029584, 10400154, 10410220, 11935608, 10776884, 10759371, 10843093, 11253754, 10998014, 11021262, 11899112, 10720686, 11696351, 10359834, 11955227, 11213735, 10117166, 10988724, 11662098, 11662098, 10837954, 11642048, 11017740, 11176248, 10669142, 11418795, 11517504, 10331173, 11411703, 10485039, 10383236, 11060709, 10579041, 11390486, 10042056, 11941283, 10502406, 10616026, 10562665, 11217784, 11649668, 11016627, 11426055, 10184812, 11213935, 10044822, 11604736, 11915481, 11021624, 11851984, 10783398, 11471459, 10292515, 11099081, 11845562, 11378935, 10494251, 11735573, 11635235, 10636941, 11969004, 11980060, 11981821, 10390997, 11495852, 10530143, 11292304, 10560751, 10016497, 11661242, 10723395, 10950869, 11841461, 10100457, 11916133, 11647511, 10391086, 11546659, 10136640, 10738281, 11623397, 10824421, 11940227, 10147210, 11009401, 11847032, 10877447, 10226732, 10098849, 10827423, 11392164, 10456317, 10826618, 10657288, 11580746, 10519141, 11939212, 10418484, 11821945, 11609465, 11392036, 11342971, 10833590, 10345391, 11558906, 10099134, 10085234, 10961184, 10287082, 11789617, 10908006, 10825270, 10438129, 11060109, 11871257, 10568507, 11273768, 10673072, 11269291, 10458652, 11637585, 10816960, 11019318, 11676500, 11045275, 11007053, 10327867, 11873337, 11858070, 11641459, 10695442, 10614025, 11752472, 11292257, 10214482, 11126127, 11619784, 11060179, 10150201, 10423753, 10980513, 10565383, 10162184, 10794664, 11818267, 11835452, 10840786, 11808714, 10867256, 10119538, 11027213, 10312274, 11101052, 10283740, 10364819, 10083677, 11767474, 11302354, 11046695, 10001247, 10144451, 11815998, 11660708, 10629557, 10818647, 11742313, 11683703, 10066921, 11848782, 10659154, 10659154, 10659154, 10602705, 11440854, 10874403, 10136461, 11578160, 11297181, 11160869, 11535072, 11535072, 11535072, 11427771, 11427771, 11427771, 11427771, 10498442, 10498442, 10705148, 10705148, 10148212, 11495802, 11495802, 10294677, 11542260, 11899147, 10228402, 10558497, 10330812, 11152554, 11279688, 10595710, 10401679, 10154936, 10593459, 10436891, 10226677, 10799123, 10323139, 10751597, 10340922, 10028124, 10038050, 11985683, 11220092, 10583842, 10583842, 11056789, 10567057, 10262124, 10262124, 10642189, 10665842, 11975439, 10414166, 11318145, 10275670, 11636844, 11252148, 11812024, 11812024, 11014136, 11829746, 10010442, 10197986, 11928356, 11692944, 10563213, 10617141, 11415952, 10190394, 10541702, 10055248, 11657018, 11497896, 10912973, 10552710, 10072350, 11561506, 10101987, 11418088, 11335056, 10786485, 10477447, 11385694, 11431840, 10647225, 11126098, 10652184, 11600898, 10013304, 11576133, 11149791, 11114709, 11654381, 10920080, 11818527, 11547026, 10124387, 11489539, 10137064, 11407349, 11631733, 10805583, 10242533, 10945665, 11879024, 11638882, 11118054, 11951692, 10924270, 11803103, 10983712, 11070829, 11093580, 11305549, 10259231, 10411970, 10261823, 11985907, 10139178, 10736242, 11023193, 11866049, 10136885, 10535177, 10370530, 11863389, 10961891, 10573155, 10515798, 10515798, 10501184, 10166890, 11114961, 10487154, 10980932, 10745711, 11840002, 11667081, 10783498, 11277635, 11620893, 11359986, 11359986, 11359986, 11486869, 10203240, 10367101, 11318415, 11025976, 11284316, 11902314, 11073651, 11374169, 10411196, 11199532, 11516264, 11516264, 11516264, 11516264, 11407859, 11407859, 11027144, 11398682, 11398682, 11398682, 10485603, 10485603, 10485603, 11558219, 11558219, 11040692, 10561711, 11191015, 11594432, 11594432, 10325178, 10972184, 10701312, 10365890, 10571823, 10213211, 11647539, 10929195, 10847575, 11520105, 11972858, 11972858, 11972858, 11031770, 11600011, 11980078, 11176467, 11176467, 11176467, 11176467, 11176467, 11176467, 10775314, 10383200, 10793915, 11443144]}\n"
     ]
    }
   ],
   "source": [
    "bad_records = {}\n",
    "\n",
    "bad_records['invalid_tumour_ids'] = list(invalid_prostate['tumour_id'])\n",
    "\n",
    "print(bad_records)"
   ]
  },
  {
   "cell_type": "code",
   "execution_count": 14,
   "metadata": {},
   "outputs": [
    {
     "name": "stdout",
     "output_type": "stream",
     "text": [
      "(190325, 76)\n",
      "(187588, 76)\n",
      "(2737, 76)\n",
      "         tumour_id  gender_patient_x  patient_id_x diagonsis_date_best  \\\n",
      "497865    10341168                 2      10204313          2019-01-05   \n",
      "497866    11881098                 2      10204322          2018-09-21   \n",
      "497870    10817694                 2      10204370          2018-07-19   \n",
      "497875    10426873                 2      10204499          2018-08-27   \n",
      "497876    11931475                 2      10204503          2017-12-21   \n",
      "...            ...               ...           ...                 ...   \n",
      "2154746   11176467                 2     250002275          2019-02-20   \n",
      "2154761   10775314                 2     250002354          2017-02-23   \n",
      "2154762   10383200                 2     250002365          2018-01-17   \n",
      "2154786   10793915                 2     250000591          2017-10-31   \n",
      "2154791   11443144                 2     250001338          2019-03-02   \n",
      "\n",
      "        site_icd10_o2_3char site_icd10_o2 site_icd10r4_o2_3char_from_2013  \\\n",
      "497865                  C61           C61                             C61   \n",
      "497866                  C61           C61                             C61   \n",
      "497870                  C61           C61                             C61   \n",
      "497875                  C61           C61                             C61   \n",
      "497876                  C61           C61                             C61   \n",
      "...                     ...           ...                             ...   \n",
      "2154746                 C61           C61                             C61   \n",
      "2154761                 C61           C61                             C61   \n",
      "2154762                 C61           C61                             C61   \n",
      "2154786                 C61           C61                             C61   \n",
      "2154791                 C61           C61                             C61   \n",
      "\n",
      "        site_icd10r4_o2_from_2013 site_icdo3rev_2011 site_icdo3rev2011_3char  \\\n",
      "497865                        C61               C619                     C61   \n",
      "497866                        C61               C619                     C61   \n",
      "497870                        C61               C619                     C61   \n",
      "497875                        C61               C619                     C61   \n",
      "497876                        C61               C619                     C61   \n",
      "...                           ...                ...                     ...   \n",
      "2154746                       C61               C619                     C61   \n",
      "2154761                       C61               C619                     C61   \n",
      "2154762                       C61               C619                     C61   \n",
      "2154786                       C61               C619                     C61   \n",
      "2154791                       C61               C619                     C61   \n",
      "\n",
      "         ...  seq_var  date_overall_ts  best_date_source_overall_ts  min_date  \\\n",
      "497865   ...      NaN              NaN                          NaN       NaN   \n",
      "497866   ...      NaN              NaN                          NaN       NaN   \n",
      "497870   ...      NaN              NaN                          NaN       NaN   \n",
      "497875   ...      NaN              NaN                          NaN       NaN   \n",
      "497876   ...      NaN              NaN                          NaN       NaN   \n",
      "...      ...      ...              ...                          ...       ...   \n",
      "2154746  ...      NaN       2019-11-15              4)collecteddate       NaN   \n",
      "2154761  ...      NaN              NaN                          NaN       NaN   \n",
      "2154762  ...      NaN              NaN                          NaN       NaN   \n",
      "2154786  ...      NaN              NaN                          NaN       NaN   \n",
      "2154791  ...      NaN              NaN                          NaN       NaN   \n",
      "\n",
      "           max_date all_pro_imps no_of_pro_imps pro_imp methods  \\\n",
      "497865          NaN          NaN            NaN     NaN     NaN   \n",
      "497866          NaN          NaN            NaN     NaN     NaN   \n",
      "497870          NaN          NaN            NaN     NaN     NaN   \n",
      "497875          NaN          NaN            NaN     NaN     NaN   \n",
      "497876          NaN          NaN            NaN     NaN     NaN   \n",
      "...             ...          ...            ...     ...     ...   \n",
      "2154746  2019-11-15          NaN            0.0     NaN    SSCP   \n",
      "2154761         NaN          NaN            NaN     NaN     NaN   \n",
      "2154762         NaN          NaN            NaN     NaN     NaN   \n",
      "2154786         NaN          NaN            NaN     NaN     NaN   \n",
      "2154791         NaN          NaN            NaN     NaN     NaN   \n",
      "\n",
      "                          lab_name  \n",
      "497865                         NaN  \n",
      "497866                         NaN  \n",
      "497870                         NaN  \n",
      "497875                         NaN  \n",
      "497876                         NaN  \n",
      "...                            ...  \n",
      "2154746  Newcastle (molecular lab)  \n",
      "2154761                        NaN  \n",
      "2154762                        NaN  \n",
      "2154786                        NaN  \n",
      "2154791                        NaN  \n",
      "\n",
      "[2737 rows x 76 columns]\n"
     ]
    }
   ],
   "source": [
    "# Trying to delete records where males have gynaecological cancer/females have prostrate cancer\n",
    "prostate_cancer_df = av[av['site_icd10r4_o2_3char_from_2013'].isin(['C60', 'C61', 'C62', 'C63'])]\n",
    "#print(prostrate_cancer_df[['patient_id_x', 'gender_patient_x','tumour_id', 'site_icd10r4_o2_3char_from_2013']])\n",
    "\n",
    "print(prostate_cancer_df.shape)\n",
    "\n",
    "valid_prostate = prostrate_cancer_df[prostrate_cancer_df['gender_patient_x'] == 1]\n",
    "invalid_prostate = prostrate_cancer_df[prostrate_cancer_df['gender_patient_x'] == 2]\n",
    "\n",
    "\n",
    "\n",
    "print(valid_prostate.shape)\n",
    "print(invalid_prostate.shape)\n",
    "print(invalid_prostate)"
   ]
  },
  {
   "attachments": {},
   "cell_type": "markdown",
   "metadata": {},
   "source": [
    "### Playground"
   ]
  },
  {
   "cell_type": "code",
   "execution_count": null,
   "metadata": {},
   "outputs": [
    {
     "data": {
      "text/html": [
       "<div>\n",
       "<style scoped>\n",
       "    .dataframe tbody tr th:only-of-type {\n",
       "        vertical-align: middle;\n",
       "    }\n",
       "\n",
       "    .dataframe tbody tr th {\n",
       "        vertical-align: top;\n",
       "    }\n",
       "\n",
       "    .dataframe thead th {\n",
       "        text-align: right;\n",
       "    }\n",
       "</style>\n",
       "<table border=\"1\" class=\"dataframe\">\n",
       "  <thead>\n",
       "    <tr style=\"text-align: right;\">\n",
       "      <th></th>\n",
       "      <th>encore_patient_id</th>\n",
       "      <th>merged_regimen_id</th>\n",
       "      <th>height_at_start_of_regimen</th>\n",
       "      <th>weight_at_start_of_regimen</th>\n",
       "      <th>intent_of_treatment</th>\n",
       "      <th>date_decision_to_treat</th>\n",
       "      <th>start_date_of_regimen</th>\n",
       "      <th>mapped_regimen</th>\n",
       "      <th>clinical_trial</th>\n",
       "      <th>chemo_radiation</th>\n",
       "      <th>benchmark_group</th>\n",
       "      <th>link_number</th>\n",
       "    </tr>\n",
       "  </thead>\n",
       "  <tbody>\n",
       "    <tr>\n",
       "      <th>72</th>\n",
       "      <td>10405821</td>\n",
       "      <td>10030812</td>\n",
       "      <td>0.0</td>\n",
       "      <td>0.0</td>\n",
       "      <td>P</td>\n",
       "      <td>2019-09-25</td>\n",
       "      <td>2019-10-24</td>\n",
       "      <td>Hydroxycarbamide</td>\n",
       "      <td>02</td>\n",
       "      <td>N</td>\n",
       "      <td>HYDROXYCARBAMIDE</td>\n",
       "      <td>101836626</td>\n",
       "    </tr>\n",
       "    <tr>\n",
       "      <th>135</th>\n",
       "      <td>10407709</td>\n",
       "      <td>10030955</td>\n",
       "      <td>0.0</td>\n",
       "      <td>55.0</td>\n",
       "      <td>NaN</td>\n",
       "      <td>2019-12-09</td>\n",
       "      <td>2019-12-09</td>\n",
       "      <td>Hydroxycarbamide</td>\n",
       "      <td>NaN</td>\n",
       "      <td>NaN</td>\n",
       "      <td>HYDROXYCARBAMIDE</td>\n",
       "      <td>100912531</td>\n",
       "    </tr>\n",
       "    <tr>\n",
       "      <th>179</th>\n",
       "      <td>10409421</td>\n",
       "      <td>10031066</td>\n",
       "      <td>0.0</td>\n",
       "      <td>NaN</td>\n",
       "      <td>P</td>\n",
       "      <td>NaN</td>\n",
       "      <td>2019-12-01</td>\n",
       "      <td>NaN</td>\n",
       "      <td>02</td>\n",
       "      <td>N</td>\n",
       "      <td>ENZALUTAMIDE</td>\n",
       "      <td>100316506</td>\n",
       "    </tr>\n",
       "    <tr>\n",
       "      <th>188</th>\n",
       "      <td>10409813</td>\n",
       "      <td>10031091</td>\n",
       "      <td>0.0</td>\n",
       "      <td>NaN</td>\n",
       "      <td>NaN</td>\n",
       "      <td>NaN</td>\n",
       "      <td>2018-12-28</td>\n",
       "      <td>NaN</td>\n",
       "      <td>02</td>\n",
       "      <td>NaN</td>\n",
       "      <td>ENZALUTAMIDE</td>\n",
       "      <td>101470000</td>\n",
       "    </tr>\n",
       "    <tr>\n",
       "      <th>350</th>\n",
       "      <td>10415146</td>\n",
       "      <td>10031491</td>\n",
       "      <td>0.0</td>\n",
       "      <td>NaN</td>\n",
       "      <td>P</td>\n",
       "      <td>NaN</td>\n",
       "      <td>2021-04-21</td>\n",
       "      <td>NaN</td>\n",
       "      <td>02</td>\n",
       "      <td>NaN</td>\n",
       "      <td>HYDROXYCARBAMIDE</td>\n",
       "      <td>100617606</td>\n",
       "    </tr>\n",
       "  </tbody>\n",
       "</table>\n",
       "</div>"
      ],
      "text/plain": [
       "     encore_patient_id  merged_regimen_id  height_at_start_of_regimen  \\\n",
       "72            10405821           10030812                         0.0   \n",
       "135           10407709           10030955                         0.0   \n",
       "179           10409421           10031066                         0.0   \n",
       "188           10409813           10031091                         0.0   \n",
       "350           10415146           10031491                         0.0   \n",
       "\n",
       "     weight_at_start_of_regimen intent_of_treatment date_decision_to_treat  \\\n",
       "72                          0.0                   P             2019-09-25   \n",
       "135                        55.0                 NaN             2019-12-09   \n",
       "179                         NaN                   P                    NaN   \n",
       "188                         NaN                 NaN                    NaN   \n",
       "350                         NaN                   P                    NaN   \n",
       "\n",
       "    start_date_of_regimen    mapped_regimen clinical_trial chemo_radiation  \\\n",
       "72             2019-10-24  Hydroxycarbamide             02               N   \n",
       "135            2019-12-09  Hydroxycarbamide            NaN             NaN   \n",
       "179            2019-12-01               NaN             02               N   \n",
       "188            2018-12-28               NaN             02             NaN   \n",
       "350            2021-04-21               NaN             02             NaN   \n",
       "\n",
       "      benchmark_group  link_number  \n",
       "72   HYDROXYCARBAMIDE    101836626  \n",
       "135  HYDROXYCARBAMIDE    100912531  \n",
       "179      ENZALUTAMIDE    100316506  \n",
       "188      ENZALUTAMIDE    101470000  \n",
       "350  HYDROXYCARBAMIDE    100617606  "
      ]
     },
     "execution_count": 58,
     "metadata": {},
     "output_type": "execute_result"
    }
   ],
   "source": [
    "sact_regimen_ids = set(sact['merged_regimen_id'].unique())\n",
    "regimen_regimen_ids = set(sim_sact_regimen['merged_regimen_id'].unique())\n",
    "\n",
    "# Find regimen id's that aren't in the final merged df\n",
    "missing_regimen_ids = regimen_regimen_ids - sact_regimen_ids\n",
    "\n",
    "# Filter the sim_sact_regimen df for these missing regimen_id's\n",
    "missing_regimens = sim_sact_regimen[sim_sact_regimen['merged_regimen_id'].isin(missing_regimen_ids)]\n",
    "\n",
    "missing_regimens.head()"
   ]
  }
 ],
 "metadata": {
  "kernelspec": {
   "display_name": "Python 3",
   "language": "python",
   "name": "python3"
  },
  "language_info": {
   "codemirror_mode": {
    "name": "ipython",
    "version": 3
   },
   "file_extension": ".py",
   "mimetype": "text/x-python",
   "name": "python",
   "nbconvert_exporter": "python",
   "pygments_lexer": "ipython3",
   "version": "3.11.7"
  }
 },
 "nbformat": 4,
 "nbformat_minor": 2
}
