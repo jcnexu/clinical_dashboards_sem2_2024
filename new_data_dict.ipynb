{
 "cells": [
  {
   "cell_type": "code",
   "execution_count": 2,
   "metadata": {},
   "outputs": [],
   "source": [
    "# Using Simulacrum V2 instead\n",
    "import os\n",
    "import pandas as pd\n",
    "import warnings "
   ]
  },
  {
   "cell_type": "markdown",
   "metadata": {},
   "source": [
    "1. Process the datasets with utf-8 encoding"
   ]
  },
  {
   "cell_type": "code",
   "execution_count": 3,
   "metadata": {},
   "outputs": [],
   "source": [
    "def read_file_with_encoding(file_path):\n",
    "    encodings = ['utf-8', 'latin1', 'ISO-8859-1', 'cp1252']\n",
    "    \n",
    "    for encoding in encodings:\n",
    "        try:\n",
    "            df = pd.read_csv(file_path, encoding=encoding)\n",
    "            return df\n",
    "        except UnicodeDecodeError:\n",
    "            continue\n",
    "    \n",
    "    raise ValueError(f\"Failed to decode {file_path} with available encodings.\")"
   ]
  },
  {
   "cell_type": "code",
   "execution_count": 4,
   "metadata": {},
   "outputs": [],
   "source": [
    "def read_file_utf8(file_path):\n",
    "    try:\n",
    "        with warnings.catch_warnings(record=True) as w:\n",
    "            warnings.simplefilter(\"always\", pd.errors.DtypeWarning)\n",
    "            df = pd.read_csv(file_path, encoding='utf-8', low_memory=False)\n",
    "            \n",
    "            # Check if any warnings were triggered\n",
    "            if any(issubclass(warn.category, pd.errors.DtypeWarning) for warn in w):\n",
    "                print(f\"DtypeWarning encountered in file: {file_path}\")\n",
    "            \n",
    "        return df\n",
    "    \n",
    "    except UnicodeDecodeError:\n",
    "        raise ValueError(f\"Failed to decode {file_path} with UTF-8 encoding.\")"
   ]
  },
  {
   "cell_type": "code",
   "execution_count": 7,
   "metadata": {},
   "outputs": [
    {
     "name": "stderr",
     "output_type": "stream",
     "text": [
      "/var/folders/2y/gptxvrsx6892_93b71lw3qq00000gn/T/ipykernel_3533/3401075425.py:6: DtypeWarning: Columns (1,6) have mixed types. Specify dtype option on import or set low_memory=False.\n",
      "  df = pd.read_csv(file_path, encoding=encoding)\n"
     ]
    },
    {
     "name": "stdout",
     "output_type": "stream",
     "text": [
      "Successfully processed and saved: sim_rtds_exposure.csv\n"
     ]
    },
    {
     "name": "stderr",
     "output_type": "stream",
     "text": [
      "/var/folders/2y/gptxvrsx6892_93b71lw3qq00000gn/T/ipykernel_3533/3401075425.py:6: DtypeWarning: Columns (11) have mixed types. Specify dtype option on import or set low_memory=False.\n",
      "  df = pd.read_csv(file_path, encoding=encoding)\n"
     ]
    },
    {
     "name": "stdout",
     "output_type": "stream",
     "text": [
      "Successfully processed and saved: sim_rtds_prescription.csv\n",
      "Successfully processed and saved: sim_av_patient.csv\n",
      "Successfully processed and saved: sim_sact_outcome.csv\n",
      "Successfully processed and saved: sim_sact_drug_detail.csv\n"
     ]
    },
    {
     "name": "stderr",
     "output_type": "stream",
     "text": [
      "/var/folders/2y/gptxvrsx6892_93b71lw3qq00000gn/T/ipykernel_3533/3401075425.py:6: DtypeWarning: Columns (14,15,16,17,23,24,25,26) have mixed types. Specify dtype option on import or set low_memory=False.\n",
      "  df = pd.read_csv(file_path, encoding=encoding)\n"
     ]
    },
    {
     "name": "stdout",
     "output_type": "stream",
     "text": [
      "Successfully processed and saved: sim_av_tumour.csv\n",
      "Successfully processed and saved: sim_av_gene.csv\n"
     ]
    },
    {
     "name": "stderr",
     "output_type": "stream",
     "text": [
      "/var/folders/2y/gptxvrsx6892_93b71lw3qq00000gn/T/ipykernel_3533/3401075425.py:6: DtypeWarning: Columns (2) have mixed types. Specify dtype option on import or set low_memory=False.\n",
      "  df = pd.read_csv(file_path, encoding=encoding)\n"
     ]
    },
    {
     "name": "stdout",
     "output_type": "stream",
     "text": [
      "Successfully processed and saved: sim_rtds_episode.csv\n"
     ]
    },
    {
     "name": "stderr",
     "output_type": "stream",
     "text": [
      "/var/folders/2y/gptxvrsx6892_93b71lw3qq00000gn/T/ipykernel_3533/3401075425.py:6: DtypeWarning: Columns (5) have mixed types. Specify dtype option on import or set low_memory=False.\n",
      "  df = pd.read_csv(file_path, encoding=encoding)\n"
     ]
    },
    {
     "name": "stdout",
     "output_type": "stream",
     "text": [
      "Successfully processed and saved: sim_sact_cycle.csv\n",
      "Successfully processed and saved: sim_sact_regimen.csv\n"
     ]
    },
    {
     "name": "stderr",
     "output_type": "stream",
     "text": [
      "/var/folders/2y/gptxvrsx6892_93b71lw3qq00000gn/T/ipykernel_3533/3401075425.py:6: DtypeWarning: Columns (15,20) have mixed types. Specify dtype option on import or set low_memory=False.\n",
      "  df = pd.read_csv(file_path, encoding=encoding)\n"
     ]
    },
    {
     "name": "stdout",
     "output_type": "stream",
     "text": [
      "Successfully processed and saved: sim_rtds_combined.csv\n"
     ]
    }
   ],
   "source": [
    "directory = \"/Users/janexu/Documents/0. 2024 3rd Year/SCIE30002/simulacrum_v2.1.0/Data\"\n",
    "files = os.listdir(directory)\n",
    "\n",
    "for file_name in files:\n",
    "    file_path = os.path.join(directory, file_name)\n",
    "    \n",
    "    try:\n",
    "        # Read the file with encoding handling\n",
    "        df = read_file_with_encoding(file_path)\n",
    "        \n",
    "        # Convert column names to lowercase\n",
    "        df.columns = [col.lower() for col in df.columns]\n",
    "        \n",
    "        # Save the updated file\n",
    "        df.to_csv(file_path, index=False, encoding = 'utf-8')\n",
    "        \n",
    "        print(f\"Successfully processed and saved: {file_name}\")\n",
    "        \n",
    "    except Exception as e:\n",
    "        print(f\"Error processing {file_name}: {e}\")"
   ]
  },
  {
   "cell_type": "markdown",
   "metadata": {},
   "source": [
    "2. Make all field names lowercase and insert needed underscores"
   ]
  },
  {
   "cell_type": "code",
   "execution_count": null,
   "metadata": {},
   "outputs": [],
   "source": [
    "sim_av_patient = pd.read_csv(os.path.join(directory, 'sim_av_patient.csv'))\n",
    "\n",
    "new_field_names = {\n",
    "    'patientid': 'patient_id',\n",
    "    'gender': 'gender_patient',\n",
    "    'ethnicity': 'ethnicity_patient',\n",
    "    'deathcausecode_1a': 'death_cause_code_1a',\n",
    "    'deathcausecode_1b': 'death_cause_code_1b',\n",
    "    'deathcausecode_1c': 'death_cause_code_1c',\n",
    "    'deathcausecode_2': 'death_cause_code_2',\n",
    "    'deathlocationcode': 'death_location_code',\n",
    "    'vitalstatus': 'vital_status',\n",
    "    'linknumber': 'link_number'\n",
    "}\n",
    "\n",
    "sim_av_patient.rename(columns=new_field_names, implace=True)\n",
    "sim_av_patient.to_csv(os.path.join(directory, 'sim_av_patient.csv'), index=False)"
   ]
  },
  {
   "cell_type": "code",
   "execution_count": null,
   "metadata": {},
   "outputs": [],
   "source": [
    "sim_av_tumour = pd.read_csv(os.path.join(directory, 'sim_av_tumour.csv'))\n",
    "\n",
    "new_field_names = {\n",
    "    'tumourid': 'tumour_id',\n",
    "    'gender': 'gender_patient', #unsure about this one\n",
    "    'diagnosisdatebest': 'diagonsis_date_best',\n",
    "    'site_icd10r4_o2_3char_from2013': 'site_icd10r4_o2_3char_from_2013',\n",
    "    'site_icd10r4_o2_from2013': 'site_icd10r4_o2_from_2013',\n",
    "    'morph_icdo3rev2011': 'morph_icdo3rev_2011',\n",
    "    'behaviour_icdo3rev2011': 'behaviour_icdo3rev_2011',\n",
    "    'behaviour_icdorev2011': 'behaviour_icdorev_2011',\n",
    "    'screeningstatusfull_code': 'screening_status_full_code',\n",
    "    'cancercareplanintent': 'cancer_care_plan_intent',\n",
    "    'performancestatus': 'performance_status'\n",
    "}\n",
    "\n",
    "sim_av_tumour.rename(columns=new_field_names, implace=True)\n",
    "sim_av_tumour.to_csv(os.path.join(directory, 'sim_av_tumour'), index=False)"
   ]
  },
  {
   "cell_type": "code",
   "execution_count": null,
   "metadata": {},
   "outputs": [],
   "source": [
    "sim_av_gene = pd.read_csv(os.path.join(directory, 'sim_av_gene.csv'))\n",
    "\n",
    "new_field_names = {\n",
    "    'geneid': 'gene_id',\n",
    "    'tumourid': 'tumour_id',\n",
    "    'patientid': 'patient_id',\n",
    "    'all_teststatuses': 'all_test_statuses'\n",
    "}\n",
    "\n",
    "sim_av_gene.rename(columns=new_field_names, implace=True)\n",
    "sim_av_gene.to_csv(os.path.join(directory, 'sim_av_gene'), index+False)"
   ]
  },
  {
   "cell_type": "code",
   "execution_count": null,
   "metadata": {},
   "outputs": [],
   "source": [
    "\n",
    "sim_rtds_episode = pd.read_csv(os.path.join(directory, 'sim_rtds_episode'))\n",
    "\n",
    "new_field_names = {\n",
    "    'patientid': 'patient_id',\n",
    "    'radiotherapyepisodeid': 'radio_therapy_episode_id',\n",
    "    'attendid': 'attend_id',\n",
    "    'apptdate': 'appt_date',\n",
    "    'linkcode': 'link_code',\n",
    "    'decisiontotreatdate': 'decision_to_treat_date',\n",
    "    'earliestclinappropdate': 'earliest_clin_approp_date',\n",
    "    'radiotherapypriority': 'radiotherapy_priority',\n",
    "    \"radiotherapyintent\": 'radio_therapy_intent'\n",
    "}\n",
    "\n",
    "sim_rtds_episode.rename(columns=new_field_names, implace=True)\n",
    "sim_rtds_episode.to_csv(os.path.join(directory, 'sim_rtds_episode'), index+False)"
   ]
  },
  {
   "cell_type": "code",
   "execution_count": null,
   "metadata": {},
   "outputs": [],
   "source": [
    "sim_rtds_prescription = pd.read_csv(os.path.join(directory, 'sim_rtds_prescription'))\n"
   ]
  }
 ],
 "metadata": {
  "kernelspec": {
   "display_name": "Python 3",
   "language": "python",
   "name": "python3"
  },
  "language_info": {
   "codemirror_mode": {
    "name": "ipython",
    "version": 3
   },
   "file_extension": ".py",
   "mimetype": "text/x-python",
   "name": "python",
   "nbconvert_exporter": "python",
   "pygments_lexer": "ipython3",
   "version": "3.12.5"
  }
 },
 "nbformat": 4,
 "nbformat_minor": 2
}
