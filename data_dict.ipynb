{
 "cells": [
  {
   "attachments": {},
   "cell_type": "markdown",
   "metadata": {},
   "source": [
    "## Redefining Field Variables"
   ]
  },
  {
   "cell_type": "code",
   "execution_count": 20,
   "metadata": {},
   "outputs": [],
   "source": [
    "import os\n",
    "import pandas as pd\n",
    "import warnings "
   ]
  },
  {
   "cell_type": "code",
   "execution_count": 21,
   "metadata": {},
   "outputs": [],
   "source": [
    "def read_file_with_encoding(file_path):\n",
    "    encodings = ['utf-8', 'latin1', 'ISO-8859-1', 'cp1252']\n",
    "    \n",
    "    for encoding in encodings:\n",
    "        try:\n",
    "            df = pd.read_csv(file_path, encoding=encoding)\n",
    "            return df\n",
    "        except UnicodeDecodeError:\n",
    "            continue\n",
    "    \n",
    "    raise ValueError(f\"Failed to decode {file_path} with available encodings.\")"
   ]
  },
  {
   "cell_type": "code",
   "execution_count": 22,
   "metadata": {},
   "outputs": [],
   "source": [
    "def read_file_utf8(file_path):\n",
    "    try:\n",
    "        with warnings.catch_warnings(record=True) as w:\n",
    "            warnings.simplefilter(\"always\", pd.errors.DtypeWarning)\n",
    "            df = pd.read_csv(file_path, encoding='utf-8', low_memory=False)\n",
    "            \n",
    "            # Check if any warnings were triggered\n",
    "            if any(issubclass(warn.category, pd.errors.DtypeWarning) for warn in w):\n",
    "                print(f\"DtypeWarning encountered in file: {file_path}\")\n",
    "            \n",
    "        return df\n",
    "    \n",
    "    except UnicodeDecodeError:\n",
    "        raise ValueError(f\"Failed to decode {file_path} with UTF-8 encoding.\")"
   ]
  },
  {
   "cell_type": "code",
   "execution_count": 23,
   "metadata": {},
   "outputs": [
    {
     "name": "stdout",
     "output_type": "stream",
     "text": [
      "Successfully processed and saved: subset_av_patient.csv\n",
      "Successfully processed and saved: sim_av_patient.csv\n",
      "Successfully processed and saved: matching_av_tumour.csv\n",
      "Successfully processed and saved: sim_sact_outcome.csv\n",
      "Successfully processed and saved: matching_sact_regiment\n",
      "Successfully processed and saved: sim_sact_drug_detail.csv\n",
      "Successfully processed and saved: sim_sact_patient.csv\n"
     ]
    },
    {
     "name": "stderr",
     "output_type": "stream",
     "text": [
      "/var/folders/2y/gptxvrsx6892_93b71lw3qq00000gn/T/ipykernel_12440/3401075425.py:6: DtypeWarning: Columns (8,9,18,20,22,26) have mixed types. Specify dtype option on import or set low_memory=False.\n",
      "  df = pd.read_csv(file_path, encoding=encoding)\n"
     ]
    },
    {
     "name": "stdout",
     "output_type": "stream",
     "text": [
      "Successfully processed and saved: sim_av_tumour.csv\n",
      "Successfully processed and saved: subset_sact_patient.csv\n",
      "Successfully processed and saved: subset_av_tumour.csv\n",
      "Successfully processed and saved: matching_sact_drug_detail\n",
      "Successfully processed and saved: matching_sact_tumour.csv\n",
      "Successfully processed and saved: subset_sact_drug_detail.csv\n",
      "Successfully processed and saved: subset_sact_cycle.csv\n",
      "Successfully processed and saved: matching_sact_cycle\n",
      "Successfully processed and saved: sim_sact_tumour.csv\n"
     ]
    },
    {
     "name": "stderr",
     "output_type": "stream",
     "text": [
      "/var/folders/2y/gptxvrsx6892_93b71lw3qq00000gn/T/ipykernel_12440/3401075425.py:6: DtypeWarning: Columns (5) have mixed types. Specify dtype option on import or set low_memory=False.\n",
      "  df = pd.read_csv(file_path, encoding=encoding)\n"
     ]
    },
    {
     "name": "stdout",
     "output_type": "stream",
     "text": [
      "Successfully processed and saved: sim_sact_cycle.csv\n",
      "Successfully processed and saved: sim_sact_regimen.csv\n"
     ]
    }
   ],
   "source": [
    "# Define the directory of files (you should modify it to match your local directory)\n",
    "# Jane's\n",
    "# directory = \"/Users/janexu/Documents/0. 2024 3rd Year/SCIE30002/simulacrum_release_v1.2.0.2017/data\"\n",
    "\n",
    "# Kathleen's\n",
    "# ../simulacrum_release_v1.2.0.2017/data\"\n",
    "directory = \"/Users/janexu/Documents/0. 2024 3rd Year/SCIE30002/simulacrum_release_v1.2.0.2017/data\"\n",
    "files = os.listdir(directory)\n",
    "\n",
    "for file_name in files:\n",
    "    file_path = os.path.join(directory, file_name)\n",
    "    \n",
    "    try:\n",
    "        # Read the file with encoding handling\n",
    "        df = read_file_with_encoding(file_path)\n",
    "        \n",
    "        # Convert column names to lowercase\n",
    "        df.columns = [col.lower() for col in df.columns]\n",
    "        \n",
    "        # Save the updated file\n",
    "        df.to_csv(file_path, index=False, encoding = 'utf-8')\n",
    "        \n",
    "        print(f\"Successfully processed and saved: {file_name}\")\n",
    "        \n",
    "    except Exception as e:\n",
    "        print(f\"Error processing {file_name}: {e}\")\n"
   ]
  },
  {
   "cell_type": "code",
   "execution_count": 24,
   "metadata": {},
   "outputs": [],
   "source": [
    "av_patient = pd.read_csv(os.path.join(directory, 'sim_av_patient.csv'))\n",
    "\n",
    "new_names = {\n",
    "    'patientid': 'patient_id',\n",
    "    'sex': 'sex',\n",
    "    'linknumber': 'link_number',\n",
    "    'ethnicity': 'ethnicity',\n",
    "    'deathcausecode_1a': 'death_cause_code_1a',\n",
    "    'deathcausecode_1b': 'death_cause_code_1b',\n",
    "    'deathcausecode_1c': 'death_cause_code_1c',\n",
    "    'deathcausecode_2': 'death_cause_code_2',\n",
    "    'deathcausecode_underlying': 'death_cause_code_underlying',\n",
    "    'deathlocationcode': 'death_location_code',\n",
    "    'newvitalstatus': 'new_vital_status',\n",
    "    'vitalstatusdate': 'vital_status_date'\n",
    "}\n",
    "\n",
    "av_patient.rename(columns=new_names, inplace=True)\n",
    "av_patient.to_csv(os.path.join(directory, 'sim_av_patient.csv'), index=False)\n"
   ]
  },
  {
   "cell_type": "code",
   "execution_count": 25,
   "metadata": {},
   "outputs": [
    {
     "name": "stderr",
     "output_type": "stream",
     "text": [
      "/var/folders/2y/gptxvrsx6892_93b71lw3qq00000gn/T/ipykernel_12440/1518687539.py:1: DtypeWarning: Columns (8,9,18,20,22,26) have mixed types. Specify dtype option on import or set low_memory=False.\n",
      "  av_tumour = pd.read_csv(os.path.join(directory, 'sim_av_tumour.csv'))\n"
     ]
    }
   ],
   "source": [
    "av_tumour = pd.read_csv(os.path.join(directory, 'sim_av_tumour.csv'))\n",
    "\n",
    "rename = {\n",
    "    'tumourid': 'tumour_id',\n",
    "    'patientid': 'patient_id',\n",
    "    'diagnosisdatebest': 'diagnosis_date_best',\n",
    "    'site_icd10_o2': 'site_icd10_o2',\n",
    "    'site_icd10_o2_3char': 'site_icd10_o2_3_char',\n",
    "    'morph_icd10_o2': 'morph_icd10_o2',\n",
    "    'behaviour_icd10_o2': 'behaviour_icd10_o2',\n",
    "    't_best': 't_best',\n",
    "    'n_best': 'n_best',\n",
    "    'm_best': 'm_best',\n",
    "    'stage_best': 'stage_best',\n",
    "    'stage_best_system': 'stage_best_system',\n",
    "    'grade': 'grade',\n",
    "    'age': 'age',\n",
    "    'sex': 'sex',\n",
    "    'creg_code': 'creg_code',\n",
    "    'linknumber': 'link_number',\n",
    "    'screeningstatusfull_code': 'screening_status_full_code',\n",
    "    'er_status': 'er_status',\n",
    "    'er_score': 'er_score',\n",
    "    'pr_status': 'pr_status',\n",
    "    'pr_score': 'pr_score',\n",
    "    'her2_status': 'her2_status',\n",
    "    'cancercareplanintent': 'cancer_care_plan_intent',\n",
    "    'performancestatus': 'performance_status',\n",
    "    'cns': 'cns',\n",
    "    'ace27': 'ace27',\n",
    "    'gleason_primary': 'gleason_primary',\n",
    "    'gleason_secondary': 'gleason_secondary',\n",
    "    'gleason_tertiary': 'gleason_tertiary',\n",
    "    'gleason_combined': 'gleason_combined',\n",
    "    'date_first_surgery': 'date_first_surgery',\n",
    "    'laterality': 'laterality',\n",
    "    'quintile_2015': 'quintile_2015'\n",
    "}\n",
    "\n",
    "av_tumour.rename(columns=rename, inplace=True)\n",
    "\n",
    "col_to_move = 'patient_id'\n",
    "av_tumour = av_tumour[[col_to_move] + [col for col in av_tumour.columns if col != col_to_move]]\n",
    "\n",
    "av_tumour.to_csv(os.path.join(directory, 'sim_av_tumour.csv'), index=False, encoding = 'utf-8')"
   ]
  },
  {
   "cell_type": "code",
   "execution_count": 26,
   "metadata": {},
   "outputs": [
    {
     "data": {
      "text/plain": [
       "Index(['merged_patient_id'], dtype='object')"
      ]
     },
     "execution_count": 26,
     "metadata": {},
     "output_type": "execute_result"
    }
   ],
   "source": [
    "sact_col_to_move = 'merged_patient_id'\n",
    "sact_patient = pd.read_csv(os.path.join(directory, 'sim_sact_patient.csv'))\n",
    "sact_patient.columns"
   ]
  },
  {
   "cell_type": "code",
   "execution_count": 27,
   "metadata": {},
   "outputs": [],
   "source": [
    "# Attempt to fix unknown error by dropping a column from the original dataset\n",
    "# Commented out due to removing duplicate column from file\n",
    "\n",
    "#sact_patient = sact_patient.drop(columns = ['link_number'])\n",
    "#sact_patient.to_csv(os.path.join(directory, 'sim_sact_patient.csv'), index=False, encoding = 'utf-8')"
   ]
  },
  {
   "cell_type": "code",
   "execution_count": 28,
   "metadata": {},
   "outputs": [],
   "source": [
    "sact_outcome = pd.read_csv(os.path.join(directory, 'sim_sact_outcome.csv'))\n",
    "\n",
    "# Moving merged patient id to be the first column and renaming it to just patient id\n",
    "sact_outcome = sact_outcome[[sact_col_to_move] + [col for col in sact_outcome .columns if col != sact_col_to_move]]\n",
    "sact_outcome.rename(columns = {\"merged_patient_id\":\"patient_id\"}, inplace=True)\n",
    "#sact_outcome.to_csv(os.path.join(directory, 'sim_sact_outcome.csv'), index=False, encoding = 'utf-8')"
   ]
  },
  {
   "cell_type": "code",
   "execution_count": 29,
   "metadata": {},
   "outputs": [],
   "source": [
    "sact_drug_detail = pd.read_csv(os.path.join(directory, 'sim_sact_drug_detail.csv'))\n",
    "\n",
    "sact_drug_detail = sact_drug_detail[[sact_col_to_move] + [col for col in sact_drug_detail.columns if col != sact_col_to_move]]\n",
    "sact_drug_detail.rename(columns = {\"merged_patient_id\":\"patient_id\"}, inplace=True)\n",
    "\n",
    "subset_sact_drug_detail = sact_drug_detail.sample(n=100, random_state=1)\n",
    "subset_sact_drug_detail.to_csv(os.path.join(directory, 'subset_sact_drug_detail.csv'), index=False,encoding='utf-8')"
   ]
  },
  {
   "cell_type": "code",
   "execution_count": 30,
   "metadata": {},
   "outputs": [],
   "source": [
    "sact_tumour = pd.read_csv(os.path.join(directory, 'sim_sact_tumour.csv'))\n",
    "\n",
    "sact_tumour = sact_tumour[[sact_col_to_move] + [col for col in sact_tumour.columns if col != sact_col_to_move]]\n",
    "sact_tumour.rename(columns = {\"merged_patient_id\":\"patient_id\"}, inplace=True)\n",
    "\n",
    "subset_sact_tumour = sact_tumour.sample(n=100, random_state=1)\n",
    "subset_sact_tumour.to_csv(os.path.join(directory, 'subset_sact_tumour.csv'), index=False, encoding='utf-8')"
   ]
  },
  {
   "cell_type": "code",
   "execution_count": 31,
   "metadata": {},
   "outputs": [
    {
     "name": "stderr",
     "output_type": "stream",
     "text": [
      "/var/folders/2y/gptxvrsx6892_93b71lw3qq00000gn/T/ipykernel_12440/350065326.py:1: DtypeWarning: Columns (5) have mixed types. Specify dtype option on import or set low_memory=False.\n",
      "  sact_cycle = pd.read_csv(os.path.join(directory, 'sim_sact_cycle.csv'))\n"
     ]
    }
   ],
   "source": [
    "sact_cycle = pd.read_csv(os.path.join(directory, 'sim_sact_cycle.csv'))\n",
    "\n",
    "sact_cycle = sact_cycle[[sact_col_to_move] + [col for col in sact_cycle.columns if col != sact_col_to_move]]\n",
    "sact_cycle.rename(columns = {\"merged_patient_id\":\"patient_id\"}, inplace=True)\n",
    "\n",
    "subset_sact_cycle = sact_cycle.sample(n=100, random_state=1)\n",
    "subset_sact_cycle.to_csv(os.path.join(directory, 'subset_sact_cycle.csv'), index=False,encoding='utf-8')"
   ]
  },
  {
   "cell_type": "code",
   "execution_count": 32,
   "metadata": {},
   "outputs": [],
   "source": [
    "sact_regimen = pd.read_csv(os.path.join(directory, 'sim_sact_regimen.csv'))\n",
    "\n",
    "sact_regimen = sact_regimen[[sact_col_to_move] + [col for col in sact_regimen.columns if col != sact_col_to_move]]\n",
    "sact_regimen.rename(columns = {\"merged_patient_id\":\"patient_id\"}, inplace=True)\n",
    "\n",
    "subset_sact_regimen = sact_regimen.sample(n=100, random_state=1)\n",
    "subset_sact_regimen.to_csv(os.path.join(directory, 'subset_sact_regimen.csv'), index=False,encoding='utf-8')"
   ]
  },
  {
   "cell_type": "code",
   "execution_count": 33,
   "metadata": {},
   "outputs": [],
   "source": [
    "# Extracting subsets from sact_cycle, sact_patient & sact_drug_detail\n",
    "# sact_cycle has inconsistent 5 field values, sact_patient produces unknown error \n",
    "# & sact_drug_detail is just too big (with no other known errors for now)\n",
    "\n",
    "# Extract 100 records randomly \n",
    "subset_sact_cycle = sact_cycle.sample(n=100, random_state=1)\n",
    "subset_sact_patient = sact_patient.sample(n=100, random_state=1)\n",
    "subset_sact_drug_detail = sact_drug_detail.sample(n=100, random_state=1)\n",
    "\n",
    "subset_av_patient = av_patient.sample(n=100, random_state=1)\n",
    "subset_av_tumour = av_tumour.sample(n=100, random_state=1)\n",
    "\n",
    "\n",
    "# Save them\n",
    "subset_sact_cycle.to_csv(os.path.join(directory, 'subset_sact_cycle.csv'), index=False)\n",
    "subset_sact_patient.to_csv(os.path.join(directory, 'subset_sact_patient.csv'), index=False)\n",
    "subset_sact_drug_detail.to_csv(os.path.join(directory, 'subset_sact_drug_detail.csv'), index=False)\n",
    "\n",
    "subset_av_patient.to_csv(os.path.join(directory, 'subset_av_patient.csv'), index=False)\n",
    "subset_av_tumour.to_csv(os.path.join(directory, 'subset_av_tumour.csv'), index=False)\n"
   ]
  },
  {
   "cell_type": "code",
   "execution_count": 39,
   "metadata": {},
   "outputs": [
    {
     "name": "stdout",
     "output_type": "stream",
     "text": [
      "14\n",
      "13\n",
      "16\n",
      "43\n",
      "14\n",
      "94\n",
      "         patient_id  merged_drug_detail_id  merged_cycle_id  \\\n",
      "172400     20183618               10173334         20097762   \n",
      "195553     20183618               10196687         20122083   \n",
      "207525     20183618               10208761         20134702   \n",
      "290354     20183618               10292348         20224889   \n",
      "306671     20183618               10308810         20241874   \n",
      "...             ...                    ...              ...   \n",
      "6176575   310006806               16466239        310012863   \n",
      "6176576   310006806               16466240        310012863   \n",
      "6176577   310006806               16466241        310012863   \n",
      "6176578   310006806               16466242        310012863   \n",
      "6176579   310006806               16466243        310012863   \n",
      "\n",
      "        org_code_of_drug_provider  actual_dose_per_administration  \\\n",
      "172400                        EXO                           600.0   \n",
      "195553                  Haqrsvarq                           750.0   \n",
      "207525                      EKD02                          1000.0   \n",
      "290354                        EAF                           750.0   \n",
      "306671                        EWP                           700.0   \n",
      "...                           ...                             ...   \n",
      "6176575                       EON                             8.0   \n",
      "6176576                     eke10                            10.0   \n",
      "6176577                     EX950                           100.0   \n",
      "6176578                       EJL                             8.0   \n",
      "6176579                       EZ1                             6.6   \n",
      "\n",
      "        opcs_delivery_code  administration_route administration_date  \\\n",
      "172400                X721                   1.0          2016-06-24   \n",
      "195553                X723                   1.0          2018-04-08   \n",
      "207525                X723                   1.0          2018-05-13   \n",
      "290354                X723                   1.0          2016-07-16   \n",
      "306671                X723                   1.0          2018-04-29   \n",
      "...                    ...                   ...                 ...   \n",
      "6176575                NaN                   1.0          2015-04-16   \n",
      "6176576               X723                   2.0          2015-04-16   \n",
      "6176577                NaN                   1.0          2015-04-16   \n",
      "6176578                NaN                   1.0          2015-04-16   \n",
      "6176579               x722                   1.0          2015-04-16   \n",
      "\n",
      "               drug_group  merged_tumour_id  merged_regimen_id  \n",
      "172400        TRASTUZUMAB          20100597           20097795  \n",
      "195553   CYCLOPHOSPHAMIDE          20100597           20122130  \n",
      "207525   CYCLOPHOSPHAMIDE          20056782           20134753  \n",
      "290354       FLUOROURACIL          20100597           20097795  \n",
      "306671   CYCLOPHOSPHAMIDE          20100597           20122130  \n",
      "...                   ...               ...                ...  \n",
      "6176575         NOT CHEMO         310000471          310001138  \n",
      "6176576         NOT CHEMO         310000471          310001138  \n",
      "6176577         NOT CHEMO         310000471          310001138  \n",
      "6176578         NOT CHEMO         310000471          310001138  \n",
      "6176579           STEROID         310000471          310001138  \n",
      "\n",
      "[94 rows x 11 columns]\n"
     ]
    }
   ],
   "source": [
    "# Finding matching patient_id in other datasets from subset_av_patient\n",
    "\n",
    "# Using av_patient as the central field that connects everything since we\n",
    "# deleted sact_patient\n",
    "\n",
    "av_patient_ids = subset_av_patient['patient_id'].tolist()\n",
    "\n",
    "# Get matching records in av_tumour (COSD section)\n",
    "matching_av_tumour = av_tumour.loc[av_tumour['patient_id'].isin(av_patient_ids)]\n",
    "print(len(matching_av_tumour))\n",
    "\n",
    "# Now SACT Section\n",
    "matching_sact_tumour = sact_tumour.loc[sact_tumour['patient_id'].isin(av_patient_ids)]\n",
    "print(len(matching_sact_tumour))\n",
    "\n",
    "merged_tumour_ids = matching_sact_tumour['merged_tumour_id'].tolist()\n",
    "matching_sact_regimen = sact_regimen.loc[sact_regimen['merged_tumour_id'].isin(merged_tumour_ids)]\n",
    "print(len(matching_sact_regimen))\n",
    "\n",
    "merged_regimen_ids = matching_sact_regimen['merged_regimen_id'].tolist()\n",
    "matching_sact_cycle = sact_cycle.loc[sact_cycle['merged_regimen_id'].isin(merged_regimen_ids)]\n",
    "print(len(matching_sact_cycle))\n",
    "\n",
    "matching_sact_outcome = sact_outcome.loc[sact_outcome['merged_regimen_id'].isin(merged_regimen_ids)]\n",
    "print(len(matching_sact_outcome))\n",
    "\n",
    "merged_cycle_ids = matching_sact_cycle['merged_cycle_id'].tolist()\n",
    "matching_sact_drug_detail = sact_drug_detail.loc[sact_drug_detail['merged_cycle_id'].isin(merged_cycle_ids)]\n",
    "print(len(matching_sact_drug_detail))\n",
    "\n",
    "print(matching_sact_drug_detail)\n",
    "\n",
    "\n",
    "\n",
    "\n",
    "# Save all of them to trial upload\n",
    "matching_av_tumour.to_csv(os.path.join(directory, 'matching_av_tumour.csv'), index=False)\n",
    "matching_sact_tumour.to_csv(os.path.join(directory, 'matching_sact_tumour.csv'), index=False)\n",
    "matching_sact_regimen.to_csv(os.path.join(directory, 'matching_sact_regiment.csv'), index=False)\n",
    "matching_sact_outcome.to_csv(os.path.join(directory, 'matching_sact_outcome.csv'), index=False)\n",
    "matching_sact_cycle.to_csv(os.path.join(directory, 'matching_sact_cycle.csv'), index=False)\n",
    "matching_sact_drug_detail.to_csv(os.path.join(directory, 'matching_sact_drug_detail.csv'), index=False)\n"
   ]
  }
 ],
 "metadata": {
  "kernelspec": {
   "display_name": "base",
   "language": "python",
   "name": "python3"
  },
  "language_info": {
   "codemirror_mode": {
    "name": "ipython",
    "version": 3
   },
   "file_extension": ".py",
   "mimetype": "text/x-python",
   "name": "python",
   "nbconvert_exporter": "python",
   "pygments_lexer": "ipython3",
   "version": "3.12.5"
  },
  "orig_nbformat": 4
 },
 "nbformat": 4,
 "nbformat_minor": 2
}
