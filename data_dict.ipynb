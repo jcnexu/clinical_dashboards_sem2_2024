{
 "cells": [
  {
   "attachments": {},
   "cell_type": "markdown",
   "metadata": {},
   "source": [
    "## Redefining Field Variables"
   ]
  },
  {
   "cell_type": "code",
   "execution_count": 2,
   "metadata": {},
   "outputs": [],
   "source": [
    "import os\n",
    "import pandas as pd"
   ]
  },
  {
   "cell_type": "code",
   "execution_count": 10,
   "metadata": {},
   "outputs": [],
   "source": [
    "def read_file_with_encoding(file_path):\n",
    "    encodings = ['utf-8', 'latin1', 'ISO-8859-1', 'cp1252']\n",
    "    \n",
    "    for encoding in encodings:\n",
    "        try:\n",
    "            df = pd.read_csv(file_path, encoding=encoding)\n",
    "            return df\n",
    "        except UnicodeDecodeError:\n",
    "            continue\n",
    "    \n",
    "    raise ValueError(f\"Failed to decode {file_path} with available encodings.\")"
   ]
  },
  {
   "cell_type": "code",
   "execution_count": 11,
   "metadata": {},
   "outputs": [
    {
     "name": "stdout",
     "output_type": "stream",
     "text": [
      "Successfully processed and saved: .DS_Store\n",
      "Successfully processed and saved: sim_av_patient.csv\n",
      "Successfully processed and saved: sim_sact_outcome.csv\n",
      "Successfully processed and saved: sim_sact_drug_detail.csv\n",
      "Successfully processed and saved: sim_sact_patient.csv\n"
     ]
    },
    {
     "name": "stderr",
     "output_type": "stream",
     "text": [
      "/var/folders/wm/5g809ssj2tbbh5kq8m3h9v5m0000gn/T/ipykernel_32140/3401075425.py:6: DtypeWarning: Columns (5,6,8,9,17,18,20,22,24,26) have mixed types. Specify dtype option on import or set low_memory=False.\n",
      "  df = pd.read_csv(file_path, encoding=encoding)\n"
     ]
    },
    {
     "name": "stdout",
     "output_type": "stream",
     "text": [
      "Successfully processed and saved: sim_av_tumour.csv\n",
      "Successfully processed and saved: sim_sact_tumour.csv\n"
     ]
    },
    {
     "name": "stderr",
     "output_type": "stream",
     "text": [
      "/var/folders/wm/5g809ssj2tbbh5kq8m3h9v5m0000gn/T/ipykernel_32140/3401075425.py:6: DtypeWarning: Columns (5) have mixed types. Specify dtype option on import or set low_memory=False.\n",
      "  df = pd.read_csv(file_path, encoding=encoding)\n"
     ]
    },
    {
     "name": "stdout",
     "output_type": "stream",
     "text": [
      "Successfully processed and saved: sim_sact_cycle.csv\n",
      "Successfully processed and saved: sim_sact_regimen.csv\n"
     ]
    }
   ],
   "source": [
    "# Define the directory of files (you should modify it to match your local directory)\n",
    "directory = \"../simulacrum_release_v1.2.0.2017/data/\"\n",
    "files = os.listdir(directory)\n",
    "\n",
    "for file_name in files:\n",
    "    file_path = os.path.join(directory, file_name)\n",
    "    \n",
    "    try:\n",
    "        # Read the file with encoding handling\n",
    "        df = read_file_with_encoding(file_path)\n",
    "        \n",
    "        # Convert column names to lowercase\n",
    "        df.columns = [col.lower() for col in df.columns]\n",
    "        \n",
    "        # Save the updated file\n",
    "        df.to_csv(file_path, index=False)\n",
    "        \n",
    "        print(f\"Successfully processed and saved: {file_name}\")\n",
    "        \n",
    "    except Exception as e:\n",
    "        print(f\"Error processing {file_name}: {e}\")\n"
   ]
  },
  {
   "cell_type": "code",
   "execution_count": 15,
   "metadata": {},
   "outputs": [
    {
     "data": {
      "text/plain": [
       "Index(['patientid', 'sex', 'linknumber', 'ethnicity', 'deathcausecode_1a',\n",
       "       'deathcausecode_1b', 'deathcausecode_1c', 'deathcausecode_2',\n",
       "       'deathcausecode_underlying', 'deathlocationcode', 'newvitalstatus',\n",
       "       'vitalstatusdate'],\n",
       "      dtype='object')"
      ]
     },
     "execution_count": 15,
     "metadata": {},
     "output_type": "execute_result"
    }
   ],
   "source": [
    "av_patient = pd.read_csv(os.path.join(directory, 'sim_av_patient.csv'))\n",
    "av_patient.columns"
   ]
  },
  {
   "cell_type": "code",
   "execution_count": 16,
   "metadata": {},
   "outputs": [
    {
     "name": "stderr",
     "output_type": "stream",
     "text": [
      "/var/folders/wm/5g809ssj2tbbh5kq8m3h9v5m0000gn/T/ipykernel_32140/4121979853.py:1: DtypeWarning: Columns (5,6,8,9,17,18,20,22,24,26) have mixed types. Specify dtype option on import or set low_memory=False.\n",
      "  av_tumour = pd.read_csv(os.path.join(directory, 'sim_av_tumour.csv'))\n"
     ]
    },
    {
     "data": {
      "text/plain": [
       "Index(['tumourid', 'patientid', 'diagnosisdatebest', 'site_icd10_o2',\n",
       "       'site_icd10_o2_3char', 'morph_icd10_o2', 'behaviour_icd10_o2', 't_best',\n",
       "       'n_best', 'm_best', 'stage_best', 'stage_best_system', 'grade', 'age',\n",
       "       'sex', 'creg_code', 'linknumber', 'screeningstatusfull_code',\n",
       "       'er_status', 'er_score', 'pr_status', 'pr_score', 'her2_status',\n",
       "       'cancercareplanintent', 'performancestatus', 'cns', 'ace27',\n",
       "       'gleason_primary', 'gleason_secondary', 'gleason_tertiary',\n",
       "       'gleason_combined', 'date_first_surgery', 'laterality',\n",
       "       'quintile_2015'],\n",
       "      dtype='object')"
      ]
     },
     "execution_count": 16,
     "metadata": {},
     "output_type": "execute_result"
    }
   ],
   "source": [
    "av_tumour = pd.read_csv(os.path.join(directory, 'sim_av_tumour.csv'))\n",
    "av_tumour.columns"
   ]
  },
  {
   "cell_type": "code",
   "execution_count": 17,
   "metadata": {},
   "outputs": [
    {
     "data": {
      "text/plain": [
       "Index(['merged_patient_id', 'link_number'], dtype='object')"
      ]
     },
     "execution_count": 17,
     "metadata": {},
     "output_type": "execute_result"
    }
   ],
   "source": [
    "sact_patient = pd.read_csv(os.path.join(directory, 'sim_sact_patient.csv'))\n",
    "sact_patient.columns"
   ]
  },
  {
   "cell_type": "code",
   "execution_count": 18,
   "metadata": {},
   "outputs": [
    {
     "data": {
      "text/plain": [
       "Index(['merged_outcome_id', 'merged_regimen_id', 'date_of_final_treatment',\n",
       "       'regimen_mod_dose_reduction', 'regimen_mod_time_delay',\n",
       "       'regimen_mod_stopped_early', 'regimen_outcome_summary',\n",
       "       'merged_patient_id', 'merged_tumour_id'],\n",
       "      dtype='object')"
      ]
     },
     "execution_count": 18,
     "metadata": {},
     "output_type": "execute_result"
    }
   ],
   "source": [
    "sact_outcome = pd.read_csv(os.path.join(directory, 'sim_sact_outcome.csv'))\n",
    "sact_outcome.columns"
   ]
  },
  {
   "cell_type": "code",
   "execution_count": 19,
   "metadata": {},
   "outputs": [
    {
     "data": {
      "text/plain": [
       "Index(['merged_drug_detail_id', 'merged_cycle_id', 'org_code_of_drug_provider',\n",
       "       'actual_dose_per_administration', 'opcs_delivery_code',\n",
       "       'administration_route', 'administration_date', 'drug_group',\n",
       "       'merged_patient_id', 'merged_tumour_id', 'merged_regimen_id'],\n",
       "      dtype='object')"
      ]
     },
     "execution_count": 19,
     "metadata": {},
     "output_type": "execute_result"
    }
   ],
   "source": [
    "sact_drug_detail = pd.read_csv(os.path.join(directory, 'sim_sact_drug_detail.csv'))\n",
    "sact_drug_detail.columns"
   ]
  },
  {
   "cell_type": "code",
   "execution_count": 20,
   "metadata": {},
   "outputs": [
    {
     "data": {
      "text/plain": [
       "Index(['merged_tumour_id', 'merged_patient_id', 'consultant_speciality_code',\n",
       "       'primary_diagnosis', 'morphology_clean'],\n",
       "      dtype='object')"
      ]
     },
     "execution_count": 20,
     "metadata": {},
     "output_type": "execute_result"
    }
   ],
   "source": [
    "sact_tumour = pd.read_csv(os.path.join(directory, 'sim_sact_tumour.csv'))\n",
    "sact_tumour.columns"
   ]
  },
  {
   "cell_type": "code",
   "execution_count": 21,
   "metadata": {},
   "outputs": [
    {
     "name": "stderr",
     "output_type": "stream",
     "text": [
      "/var/folders/wm/5g809ssj2tbbh5kq8m3h9v5m0000gn/T/ipykernel_32140/590474220.py:1: DtypeWarning: Columns (5) have mixed types. Specify dtype option on import or set low_memory=False.\n",
      "  sact_cycle = pd.read_csv(os.path.join(directory, 'sim_sact_cycle.csv'))\n"
     ]
    },
    {
     "data": {
      "text/plain": [
       "Index(['merged_cycle_id', 'merged_regimen_id', 'cycle_number',\n",
       "       'start_date_of_cycle', 'opcs_procurement_code',\n",
       "       'perf_status_start_of_cycle', 'merged_patient_id', 'merged_tumour_id'],\n",
       "      dtype='object')"
      ]
     },
     "execution_count": 21,
     "metadata": {},
     "output_type": "execute_result"
    }
   ],
   "source": [
    "sact_cycle = pd.read_csv(os.path.join(directory, 'sim_sact_cycle.csv'))\n",
    "sact_cycle.columns"
   ]
  },
  {
   "cell_type": "code",
   "execution_count": null,
   "metadata": {},
   "outputs": [],
   "source": [
    "sact_regimen = pd.read_csv(os.path.join(directory, 'sim_sact_regimen.csv'))\n",
    "sact_regimen.columns"
   ]
  }
 ],
 "metadata": {
  "kernelspec": {
   "display_name": "base",
   "language": "python",
   "name": "python3"
  },
  "language_info": {
   "codemirror_mode": {
    "name": "ipython",
    "version": 3
   },
   "file_extension": ".py",
   "mimetype": "text/x-python",
   "name": "python",
   "nbconvert_exporter": "python",
   "pygments_lexer": "ipython3",
   "version": "3.11.7"
  },
  "orig_nbformat": 4
 },
 "nbformat": 4,
 "nbformat_minor": 2
}
