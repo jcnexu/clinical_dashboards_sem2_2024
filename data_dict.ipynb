{
 "cells": [
  {
   "attachments": {},
   "cell_type": "markdown",
   "metadata": {},
   "source": [
    "# Simulacrum 2017: Redefining Field Variables for REDCap Import"
   ]
  },
  {
   "attachments": {},
   "cell_type": "markdown",
   "metadata": {},
   "source": [
    "## Importing Libraries & Defining Functions"
   ]
  },
  {
   "cell_type": "code",
   "execution_count": 1,
   "metadata": {},
   "outputs": [],
   "source": [
    "import os\n",
    "import pandas as pd\n",
    "import warnings "
   ]
  },
  {
   "cell_type": "code",
   "execution_count": 2,
   "metadata": {},
   "outputs": [],
   "source": [
    "def read_file_with_encoding(file_path):\n",
    "    encodings = ['utf-8', 'latin1', 'ISO-8859-1', 'cp1252']\n",
    "    \n",
    "    for encoding in encodings:\n",
    "        try:\n",
    "            df = pd.read_csv(file_path, encoding=encoding)\n",
    "            return df\n",
    "        except UnicodeDecodeError:\n",
    "            continue\n",
    "    \n",
    "    raise ValueError(f\"Failed to decode {file_path} with available encodings.\")"
   ]
  },
  {
   "cell_type": "code",
   "execution_count": 3,
   "metadata": {},
   "outputs": [],
   "source": [
    "def read_file_utf8(file_path):\n",
    "    try:\n",
    "        with warnings.catch_warnings(record=True) as w:\n",
    "            warnings.simplefilter(\"always\", pd.errors.DtypeWarning)\n",
    "            df = pd.read_csv(file_path, encoding='utf-8', low_memory=False)\n",
    "            \n",
    "            # Check if any warnings were triggered\n",
    "            if any(issubclass(warn.category, pd.errors.DtypeWarning) for warn in w):\n",
    "                print(f\"DtypeWarning encountered in file: {file_path}\")\n",
    "            \n",
    "        return df\n",
    "    \n",
    "    except UnicodeDecodeError:\n",
    "        raise ValueError(f\"Failed to decode {file_path} with UTF-8 encoding.\")"
   ]
  },
  {
   "attachments": {},
   "cell_type": "markdown",
   "metadata": {},
   "source": [
    "## Reading in Data and Converting Columns to Lower Case"
   ]
  },
  {
   "cell_type": "code",
   "execution_count": 4,
   "metadata": {},
   "outputs": [
    {
     "name": "stdout",
     "output_type": "stream",
     "text": [
      "Successfully processed and saved: .DS_Store\n",
      "Successfully processed and saved: sim_av_patient.csv\n",
      "Successfully processed and saved: sim_sact_outcome.csv\n",
      "Successfully processed and saved: sim_sact_drug_detail.csv\n"
     ]
    },
    {
     "name": "stderr",
     "output_type": "stream",
     "text": [
      "/var/folders/wm/5g809ssj2tbbh5kq8m3h9v5m0000gn/T/ipykernel_75431/3401075425.py:6: DtypeWarning: Columns (5,6,8,9,17,18,20,22,24,26) have mixed types. Specify dtype option on import or set low_memory=False.\n",
      "  df = pd.read_csv(file_path, encoding=encoding)\n"
     ]
    },
    {
     "name": "stdout",
     "output_type": "stream",
     "text": [
      "Successfully processed and saved: sim_av_tumour.csv\n",
      "Successfully processed and saved: sact_patient.csv\n",
      "Successfully processed and saved: sim_sact_tumour.csv\n"
     ]
    },
    {
     "name": "stderr",
     "output_type": "stream",
     "text": [
      "/var/folders/wm/5g809ssj2tbbh5kq8m3h9v5m0000gn/T/ipykernel_75431/3401075425.py:6: DtypeWarning: Columns (5) have mixed types. Specify dtype option on import or set low_memory=False.\n",
      "  df = pd.read_csv(file_path, encoding=encoding)\n"
     ]
    },
    {
     "name": "stdout",
     "output_type": "stream",
     "text": [
      "Successfully processed and saved: sim_sact_cycle.csv\n",
      "Successfully processed and saved: sim_sact_regimen.csv\n"
     ]
    }
   ],
   "source": [
    "# Define the directory of files (you should modify it to match your local directory)\n",
    "# Jane's\n",
    "# directory = \"/Users/janexu/Documents/0. 2024 3rd Year/SCIE30002/simulacrum_release_v1.2.0.2017/data\"\n",
    "\n",
    "# Kathleen's\n",
    "directory = \"../simulacrum_release_v1.2.0.2017/data\"\n",
    "\n",
    "# directory = \"/Users/janexu/Documents/0. 2024 3rd Year/SCIE30002/simulacrum_release_v1.2.0.2017/data\"\n",
    "\n",
    "files = os.listdir(directory)\n",
    "\n",
    "for file_name in files:\n",
    "    file_path = os.path.join(directory, file_name)\n",
    "    \n",
    "    try:\n",
    "        # Read the file with encoding handling\n",
    "        df = read_file_with_encoding(file_path)\n",
    "        \n",
    "        # Convert column names to lowercase\n",
    "        df.columns = [col.lower() for col in df.columns]\n",
    "        \n",
    "        # Save the updated file\n",
    "        df.to_csv(file_path, index=False, encoding = 'utf-8')\n",
    "        \n",
    "        print(f\"Successfully processed and saved: {file_name}\")\n",
    "        \n",
    "    except Exception as e:\n",
    "        print(f\"Error processing {file_name}: {e}\")\n"
   ]
  },
  {
   "attachments": {},
   "cell_type": "markdown",
   "metadata": {},
   "source": [
    "## AV Files"
   ]
  },
  {
   "cell_type": "code",
   "execution_count": 8,
   "metadata": {},
   "outputs": [],
   "source": [
    "av_patient = pd.read_csv(os.path.join(directory, 'sim_av_patient.csv'))\n",
    "\n",
    "new_names = {\n",
    "    'patientid': 'patient_id',\n",
    "    'sex': 'sex',\n",
    "    'linknumber': 'link_number',\n",
    "    'ethnicity': 'ethnicity',\n",
    "    'deathcausecode_1a': 'death_cause_code_1a',\n",
    "    'deathcausecode_1b': 'death_cause_code_1b',\n",
    "    'deathcausecode_1c': 'death_cause_code_1c',\n",
    "    'deathcausecode_2': 'death_cause_code_2',\n",
    "    'deathcausecode_underlying': 'death_cause_code_underlying',\n",
    "    'deathlocationcode': 'death_location_code',\n",
    "    'newvitalstatus': 'new_vital_status',\n",
    "    'vitalstatusdate': 'vital_status_date'\n",
    "}\n",
    "\n",
    "av_patient.rename(columns=new_names, inplace=True)\n",
    "av_patient.to_csv(os.path.join(directory, 'sim_av_patient.csv'), index=False, encoding = 'utf-8')\n"
   ]
  },
  {
   "cell_type": "code",
   "execution_count": 10,
   "metadata": {},
   "outputs": [
    {
     "name": "stderr",
     "output_type": "stream",
     "text": [
      "/var/folders/wm/5g809ssj2tbbh5kq8m3h9v5m0000gn/T/ipykernel_75431/1046365648.py:1: DtypeWarning: Columns (5,6,8,9,17,18,20,22,24,26) have mixed types. Specify dtype option on import or set low_memory=False.\n",
      "  av_tumour = pd.read_csv(os.path.join(directory, 'sim_av_tumour.csv'))\n"
     ]
    }
   ],
   "source": [
    "av_tumour = pd.read_csv(os.path.join(directory, 'sim_av_tumour.csv'))\n",
    "\n",
    "rename = {\n",
    "    'tumourid': 'tumour_id',\n",
    "    'patientid': 'patient_id',\n",
    "    'diagnosisdatebest': 'diagnosis_date_best',\n",
    "    'site_icd10_o2': 'site_icd10_o2',\n",
    "    'site_icd10_o2_3char': 'site_icd10_o2_3_char',\n",
    "    'morph_icd10_o2': 'morph_icd10_o2',\n",
    "    'behaviour_icd10_o2': 'behaviour_icd10_o2',\n",
    "    't_best': 't_best',\n",
    "    'n_best': 'n_best',\n",
    "    'm_best': 'm_best',\n",
    "    'stage_best': 'stage_best',\n",
    "    'stage_best_system': 'stage_best_system',\n",
    "    'grade': 'grade',\n",
    "    'age': 'age',\n",
    "    'sex': 'sex',\n",
    "    'creg_code': 'creg_code',\n",
    "    'linknumber': 'link_number',\n",
    "    'screeningstatusfull_code': 'screening_status_full_code',\n",
    "    'er_status': 'er_status',\n",
    "    'er_score': 'er_score',\n",
    "    'pr_status': 'pr_status',\n",
    "    'pr_score': 'pr_score',\n",
    "    'her2_status': 'her2_status',\n",
    "    'cancercareplanintent': 'cancer_care_plan_intent',\n",
    "    'performancestatus': 'performance_status',\n",
    "    'cns': 'cns',\n",
    "    'ace27': 'ace27',\n",
    "    'gleason_primary': 'gleason_primary',\n",
    "    'gleason_secondary': 'gleason_secondary',\n",
    "    'gleason_tertiary': 'gleason_tertiary',\n",
    "    'gleason_combined': 'gleason_combined',\n",
    "    'date_first_surgery': 'date_first_surgery',\n",
    "    'laterality': 'laterality',\n",
    "    'quintile_2015': 'quintile_2015'\n",
    "}\n",
    "\n",
    "av_tumour.rename(columns=rename, inplace=True)\n",
    "\n",
    "col_to_move = 'patient_id'\n",
    "av_tumour = av_tumour[[col_to_move] + [col for col in av_tumour.columns if col != col_to_move]]\n",
    "\n",
    "av_tumour.to_csv(os.path.join(directory, 'sim_av_tumour.csv'), index=False, encoding = 'utf-8')"
   ]
  },
  {
   "attachments": {},
   "cell_type": "markdown",
   "metadata": {},
   "source": [
    "## Sact Files"
   ]
  },
  {
   "cell_type": "code",
   "execution_count": 42,
   "metadata": {},
   "outputs": [],
   "source": [
    "sact_col_to_move = 'merged_patient_id'"
   ]
  },
  {
   "cell_type": "code",
   "execution_count": null,
   "metadata": {},
   "outputs": [],
   "source": [
    "# Sact patient found to be redundant but keeping it here for archival purposes\n",
    "sact_patient = pd.read_csv(os.path.join(directory, 'sact_patient.csv'))\n",
    "sact_patient.rename(columns = {\"merged_patient_id\":\"patient_id\"}, inplace=True)"
   ]
  },
  {
   "attachments": {},
   "cell_type": "markdown",
   "metadata": {},
   "source": [
    "### Sact Outcome"
   ]
  },
  {
   "cell_type": "code",
   "execution_count": null,
   "metadata": {},
   "outputs": [],
   "source": [
    "sact_outcome = pd.read_csv(os.path.join(directory, 'sim_sact_outcome.csv'))\n",
    "\n",
    "# Moving merged patient id to be the first column and renaming it to just patient id\n",
    "sact_outcome = sact_outcome[[sact_col_to_move] + [col for col in sact_outcome .columns if col != sact_col_to_move]]\n",
    "sact_outcome.rename(columns = {\"merged_patient_id\":\"patient_id\"}, inplace=True)\n",
    "\n",
    "# Randomly sampling 100 records and saving it to a csv file\n",
    "subset_sact_outcome = sact_tumour.sample(n=100, random_state=1)\n",
    "subset_sact_outcome.to_csv(os.path.join(directory, 'subset_sact_outcome.csv'), index=False, encoding = 'utf-8')"
   ]
  },
  {
   "attachments": {},
   "cell_type": "markdown",
   "metadata": {},
   "source": [
    "### Sact Tumour"
   ]
  },
  {
   "cell_type": "code",
   "execution_count": 41,
   "metadata": {},
   "outputs": [],
   "source": [
    "sact_tumour = pd.read_csv(os.path.join(directory, 'sim_sact_tumour.csv'))\n",
    "\n",
    "sact_tumour = sact_tumour[[sact_col_to_move] + [col for col in sact_tumour.columns if col != sact_col_to_move]]\n",
    "sact_tumour.rename(columns = {\"merged_patient_id\":\"patient_id\"}, inplace=True)\n",
    "\n",
    "subset_sact_tumour = sact_tumour.sample(n=100, random_state=1)\n",
    "subset_sact_tumour.to_csv(os.path.join(directory, 'subset_sact_tumour.csv'), index=False, encoding='utf-8')"
   ]
  },
  {
   "attachments": {},
   "cell_type": "markdown",
   "metadata": {},
   "source": [
    "### Sact Regimen"
   ]
  },
  {
   "cell_type": "code",
   "execution_count": 44,
   "metadata": {},
   "outputs": [],
   "source": [
    "sact_regimen = pd.read_csv(os.path.join(directory, 'sim_sact_regimen.csv'))\n",
    "\n",
    "sact_regimen = sact_regimen[[sact_col_to_move] + [col for col in sact_regimen.columns if col != sact_col_to_move]]\n",
    "sact_regimen.rename(columns = {\"merged_patient_id\":\"patient_id\"}, inplace=True)\n",
    "\n",
    "subset_sact_regimen = sact_regimen.sample(n=100, random_state=1)\n",
    "subset_sact_regimen.to_csv(os.path.join(directory, 'subset_sact_regimen.csv'), index=False,encoding='utf-8')"
   ]
  },
  {
   "attachments": {},
   "cell_type": "markdown",
   "metadata": {},
   "source": [
    "### Sact Cycle"
   ]
  },
  {
   "cell_type": "code",
   "execution_count": 62,
   "metadata": {},
   "outputs": [
    {
     "name": "stderr",
     "output_type": "stream",
     "text": [
      "/var/folders/wm/5g809ssj2tbbh5kq8m3h9v5m0000gn/T/ipykernel_75431/3087725477.py:2: DtypeWarning: Columns (5) have mixed types. Specify dtype option on import or set low_memory=False.\n",
      "  sact_cycle = pd.read_csv(os.path.join(directory, 'sim_sact_cycle.csv'))\n"
     ]
    }
   ],
   "source": [
    "sact_cycle = pd.read_csv(os.path.join(directory, 'sim_sact_cycle.csv'))\n",
    "\n",
    "sact_cycle = sact_cycle[[sact_col_to_move] + [col for col in sact_cycle.columns if col != sact_col_to_move]]\n",
    "sact_cycle.rename(columns = {\"merged_patient_id\":\"patient_id\"}, inplace=True)\n",
    "\n",
    "subset_sact_cycle = sact_cycle.sample(n=100, random_state=1)\n",
    "subset_sact_cycle.to_csv(os.path.join(directory, 'subset_sact_cycle.csv'), index=False,encoding='utf-8')"
   ]
  },
  {
   "attachments": {},
   "cell_type": "markdown",
   "metadata": {},
   "source": [
    "### Sact Drug Detail"
   ]
  },
  {
   "cell_type": "code",
   "execution_count": 64,
   "metadata": {},
   "outputs": [],
   "source": [
    "sact_drug_detail = pd.read_csv(os.path.join(directory, 'sim_sact_drug_detail.csv'))\n",
    "\n",
    "sact_drug_detail = sact_drug_detail[[sact_col_to_move] + [col for col in sact_drug_detail.columns if col != sact_col_to_move]]\n",
    "sact_drug_detail.rename(columns = {\"merged_patient_id\":\"patient_id\"}, inplace=True)\n",
    "\n",
    "subset_sact_drug_detail = sact_drug_detail.sample(n=100, random_state=1)\n",
    "subset_sact_drug_detail.to_csv(os.path.join(directory, 'subset_sact_drug_detail.csv'), index=False,encoding='utf-8')\n"
   ]
  },
  {
   "attachments": {},
   "cell_type": "markdown",
   "metadata": {},
   "source": [
    "## Past Code (Playground)"
   ]
  },
  {
   "cell_type": "code",
   "execution_count": null,
   "metadata": {},
   "outputs": [],
   "source": [
    "# Attempt to fix unknown error by dropping a column from the original dataset\n",
    "# Commented out due to removing duplicate column from file\n",
    "\n",
    "#sact_patient = sact_patient.drop(columns = ['link_number'])\n",
    "#sact_patient.to_csv(os.path.join(directory, 'sim_sact_patient.csv'), index=False, encoding = 'utf-8')"
   ]
  },
  {
   "cell_type": "code",
   "execution_count": 37,
   "metadata": {},
   "outputs": [
    {
     "data": {
      "text/plain": [
       "Index(['merged_outcome_id', 'merged_regimen_id', 'date_of_final_treatment',\n",
       "       'regimen_mod_dose_reduction', 'regimen_mod_time_delay',\n",
       "       'regimen_mod_stopped_early', 'regimen_outcome_summary',\n",
       "       'merged_patient_id', 'merged_tumour_id'],\n",
       "      dtype='object')"
      ]
     },
     "execution_count": 37,
     "metadata": {},
     "output_type": "execute_result"
    }
   ],
   "source": [
    "#sact_outcome.to_csv(os.path.join(directory, 'sim_sact_outcome.csv'), index=False, encoding = 'utf-8')"
   ]
  },
  {
   "cell_type": "code",
   "execution_count": 46,
   "metadata": {},
   "outputs": [],
   "source": [
    "# Extracting subsets from sact_cycle, sact_patient & sact_drug_detail\n",
    "# sact_cycle has inconsistent 5 field values, sact_patient produces unknown error \n",
    "# & sact_drug_detail is just too big (with no other known errors for now)\n",
    "\n",
    "# Extract 100 records randomly \n",
    "subset_sact_cycle = sact_cycle.sample(n=100, random_state=1)\n",
    "subset_sact_patient = sact_patient.sample(n=100, random_state=1)\n",
    "subset_sact_drug_detail = sact_drug_detail.sample(n=100, random_state=1)\n",
    "subset_av_patient = av_patient.sample(n=100, random_state=1)\n",
    "subset_av_tumour = av_tumour.sample(n=100, random_state=1)\n",
    "\n",
    "# Save them\n",
    "subset_sact_cycle.to_csv(os.path.join(directory, 'subset_sact_cycle.csv'), index=False)\n",
    "subset_sact_patient.to_csv(os.path.join(directory, 'subset_sact_patient.csv'), index=False)\n",
    "subset_sact_drug_detail.to_csv(os.path.join(directory, 'subset_sact_drug_detail.csv'), index=False)\n",
    "subset_av_patient.to_csv(os.path.join(directory, 'subset_av_patient.csv'), index=False)\n",
    "subset_av_tumour.to_csv(os.path.join(directory, 'subset_av_tumour.csv'), index=False)\n"
   ]
  }
 ],
 "metadata": {
  "kernelspec": {
   "display_name": "base",
   "language": "python",
   "name": "python3"
  },
  "language_info": {
   "codemirror_mode": {
    "name": "ipython",
    "version": 3
   },
   "file_extension": ".py",
   "mimetype": "text/x-python",
   "name": "python",
   "nbconvert_exporter": "python",
   "pygments_lexer": "ipython3",
   "version": "3.11.7"
  },
  "orig_nbformat": 4
 },
 "nbformat": 4,
 "nbformat_minor": 2
}
