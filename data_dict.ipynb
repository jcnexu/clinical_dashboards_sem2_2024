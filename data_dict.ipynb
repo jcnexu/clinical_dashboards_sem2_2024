{
 "cells": [
  {
   "attachments": {},
   "cell_type": "markdown",
   "metadata": {},
   "source": [
    "## Redefining Field Variables"
   ]
  },
  {
   "cell_type": "code",
   "execution_count": 31,
   "metadata": {},
   "outputs": [],
   "source": [
    "import os\n",
    "import pandas as pd\n",
    "import warnings "
   ]
  },
  {
   "cell_type": "code",
   "execution_count": 32,
   "metadata": {},
   "outputs": [],
   "source": [
    "def read_file_with_encoding(file_path):\n",
    "    encodings = ['utf-8', 'latin1', 'ISO-8859-1', 'cp1252']\n",
    "    \n",
    "    for encoding in encodings:\n",
    "        try:\n",
    "            df = pd.read_csv(file_path, encoding=encoding)\n",
    "            return df\n",
    "        except UnicodeDecodeError:\n",
    "            continue\n",
    "    \n",
    "    raise ValueError(f\"Failed to decode {file_path} with available encodings.\")"
   ]
  },
  {
   "cell_type": "code",
   "execution_count": 33,
   "metadata": {},
   "outputs": [],
   "source": [
    "def read_file_utf8(file_path):\n",
    "    try:\n",
    "        with warnings.catch_warnings(record=True) as w:\n",
    "            warnings.simplefilter(\"always\", pd.errors.DtypeWarning)\n",
    "            df = pd.read_csv(file_path, encoding='utf-8', low_memory=False)\n",
    "            \n",
    "            # Check if any warnings were triggered\n",
    "            if any(issubclass(warn.category, pd.errors.DtypeWarning) for warn in w):\n",
    "                print(f\"DtypeWarning encountered in file: {file_path}\")\n",
    "            \n",
    "        return df\n",
    "    \n",
    "    except UnicodeDecodeError:\n",
    "        raise ValueError(f\"Failed to decode {file_path} with UTF-8 encoding.\")"
   ]
  },
  {
   "cell_type": "code",
   "execution_count": 34,
   "metadata": {},
   "outputs": [
    {
     "name": "stdout",
     "output_type": "stream",
     "text": [
      "Successfully processed and saved: subset_av_patient.csv\n",
      "Successfully processed and saved: sim_av_patient.csv\n",
      "Successfully processed and saved: sim_sact_outcome.csv\n",
      "Successfully processed and saved: sim_sact_drug_detail.csv\n",
      "Successfully processed and saved: sim_sact_patient.csv\n"
     ]
    },
    {
     "name": "stderr",
     "output_type": "stream",
     "text": [
      "/var/folders/2y/gptxvrsx6892_93b71lw3qq00000gn/T/ipykernel_1408/3401075425.py:6: DtypeWarning: Columns (8,9,18,20,22,26) have mixed types. Specify dtype option on import or set low_memory=False.\n",
      "  df = pd.read_csv(file_path, encoding=encoding)\n"
     ]
    },
    {
     "name": "stdout",
     "output_type": "stream",
     "text": [
      "Successfully processed and saved: sim_av_tumour.csv\n",
      "Successfully processed and saved: subset_sact_patient.csv\n",
      "Successfully processed and saved: subset_av_tumour.csv\n",
      "Successfully processed and saved: subset_sact_drug_detail.csv\n",
      "Successfully processed and saved: subset_sact_cycle.csv\n",
      "Successfully processed and saved: sim_sact_tumour.csv\n"
     ]
    },
    {
     "name": "stderr",
     "output_type": "stream",
     "text": [
      "/var/folders/2y/gptxvrsx6892_93b71lw3qq00000gn/T/ipykernel_1408/3401075425.py:6: DtypeWarning: Columns (5) have mixed types. Specify dtype option on import or set low_memory=False.\n",
      "  df = pd.read_csv(file_path, encoding=encoding)\n"
     ]
    },
    {
     "name": "stdout",
     "output_type": "stream",
     "text": [
      "Successfully processed and saved: sim_sact_cycle.csv\n",
      "Successfully processed and saved: sim_sact_regimen.csv\n"
     ]
    }
   ],
   "source": [
    "# Define the directory of files (you should modify it to match your local directory)\n",
    "# Jane's\n",
    "# directory = \"/Users/janexu/Documents/0. 2024 3rd Year/SCIE30002/simulacrum_release_v1.2.0.2017/data\"\n",
    "\n",
    "# Kathleen's\n",
    "# ../simulacrum_release_v1.2.0.2017/data\"\n",
    "directory = \"/Users/janexu/Documents/0. 2024 3rd Year/SCIE30002/simulacrum_release_v1.2.0.2017/data\"\n",
    "files = os.listdir(directory)\n",
    "\n",
    "for file_name in files:\n",
    "    file_path = os.path.join(directory, file_name)\n",
    "    \n",
    "    try:\n",
    "        # Read the file with encoding handling\n",
    "        df = read_file_with_encoding(file_path)\n",
    "        \n",
    "        # Convert column names to lowercase\n",
    "        df.columns = [col.lower() for col in df.columns]\n",
    "        \n",
    "        # Save the updated file\n",
    "        df.to_csv(file_path, index=False, encoding = 'utf-8')\n",
    "        \n",
    "        print(f\"Successfully processed and saved: {file_name}\")\n",
    "        \n",
    "    except Exception as e:\n",
    "        print(f\"Error processing {file_name}: {e}\")\n"
   ]
  },
  {
   "cell_type": "code",
   "execution_count": 35,
   "metadata": {},
   "outputs": [],
   "source": [
    "av_patient = pd.read_csv(os.path.join(directory, 'sim_av_patient.csv'))\n",
    "\n",
    "new_names = {\n",
    "    'patientid': 'patient_id',\n",
    "    'sex': 'sex',\n",
    "    'linknumber': 'link_number',\n",
    "    'ethnicity': 'ethnicity',\n",
    "    'deathcausecode_1a': 'death_cause_code_1a',\n",
    "    'deathcausecode_1b': 'death_cause_code_1b',\n",
    "    'deathcausecode_1c': 'death_cause_code_1c',\n",
    "    'deathcausecode_2': 'death_cause_code_2',\n",
    "    'deathcausecode_underlying': 'death_cause_code_underlying',\n",
    "    'deathlocationcode': 'death_location_code',\n",
    "    'newvitalstatus': 'new_vital_status',\n",
    "    'vitalstatusdate': 'vital_status_date'\n",
    "}\n",
    "\n",
    "av_patient.rename(columns=new_names, inplace=True)\n",
    "av_patient.to_csv(os.path.join(directory, 'sim_av_patient.csv'), index=False)\n"
   ]
  },
  {
   "cell_type": "code",
   "execution_count": 36,
   "metadata": {},
   "outputs": [
    {
     "name": "stderr",
     "output_type": "stream",
     "text": [
      "/var/folders/2y/gptxvrsx6892_93b71lw3qq00000gn/T/ipykernel_1408/1046365648.py:1: DtypeWarning: Columns (8,9,18,20,22,26) have mixed types. Specify dtype option on import or set low_memory=False.\n",
      "  av_tumour = pd.read_csv(os.path.join(directory, 'sim_av_tumour.csv'))\n"
     ]
    }
   ],
   "source": [
    "av_tumour = pd.read_csv(os.path.join(directory, 'sim_av_tumour.csv'))\n",
    "\n",
    "rename = {\n",
    "    'tumourid': 'tumour_id',\n",
    "    'patientid': 'patient_id',\n",
    "    'diagnosisdatebest': 'diagnosis_date_best',\n",
    "    'site_icd10_o2': 'site_icd10_o2',\n",
    "    'site_icd10_o2_3char': 'site_icd10_o2_3_char',\n",
    "    'morph_icd10_o2': 'morph_icd10_o2',\n",
    "    'behaviour_icd10_o2': 'behaviour_icd10_o2',\n",
    "    't_best': 't_best',\n",
    "    'n_best': 'n_best',\n",
    "    'm_best': 'm_best',\n",
    "    'stage_best': 'stage_best',\n",
    "    'stage_best_system': 'stage_best_system',\n",
    "    'grade': 'grade',\n",
    "    'age': 'age',\n",
    "    'sex': 'sex',\n",
    "    'creg_code': 'creg_code',\n",
    "    'linknumber': 'link_number',\n",
    "    'screeningstatusfull_code': 'screening_status_full_code',\n",
    "    'er_status': 'er_status',\n",
    "    'er_score': 'er_score',\n",
    "    'pr_status': 'pr_status',\n",
    "    'pr_score': 'pr_score',\n",
    "    'her2_status': 'her2_status',\n",
    "    'cancercareplanintent': 'cancer_care_plan_intent',\n",
    "    'performancestatus': 'performance_status',\n",
    "    'cns': 'cns',\n",
    "    'ace27': 'ace27',\n",
    "    'gleason_primary': 'gleason_primary',\n",
    "    'gleason_secondary': 'gleason_secondary',\n",
    "    'gleason_tertiary': 'gleason_tertiary',\n",
    "    'gleason_combined': 'gleason_combined',\n",
    "    'date_first_surgery': 'date_first_surgery',\n",
    "    'laterality': 'laterality',\n",
    "    'quintile_2015': 'quintile_2015'\n",
    "}\n",
    "\n",
    "av_tumour.rename(columns=rename, inplace=True)\n",
    "av_tumour.to_csv(os.path.join(directory, 'sim_av_tumour.csv'), index=False)"
   ]
  },
  {
   "cell_type": "markdown",
   "metadata": {},
   "source": []
  },
  {
   "cell_type": "code",
   "execution_count": 37,
   "metadata": {},
   "outputs": [
    {
     "data": {
      "text/plain": [
       "Index(['merged_patient_id'], dtype='object')"
      ]
     },
     "execution_count": 37,
     "metadata": {},
     "output_type": "execute_result"
    }
   ],
   "source": [
    "sact_patient = pd.read_csv(os.path.join(directory, 'sim_sact_patient.csv'))\n",
    "sact_patient.columns"
   ]
  },
  {
   "cell_type": "code",
   "execution_count": 38,
   "metadata": {},
   "outputs": [],
   "source": [
    "# Attempt to fix unknown error by dropping a column from the original dataset\n",
    "# Commented out due to removing duplicate column from file\n",
    "\n",
    "#sact_patient = sact_patient.drop(columns = ['link_number'])\n",
    "#sact_patient.to_csv(os.path.join(directory, 'sim_sact_patient.csv'), index=False, encoding = 'utf-8')"
   ]
  },
  {
   "cell_type": "code",
   "execution_count": 39,
   "metadata": {},
   "outputs": [
    {
     "data": {
      "text/plain": [
       "Index(['merged_outcome_id', 'merged_regimen_id', 'date_of_final_treatment',\n",
       "       'regimen_mod_dose_reduction', 'regimen_mod_time_delay',\n",
       "       'regimen_mod_stopped_early', 'regimen_outcome_summary',\n",
       "       'merged_patient_id', 'merged_tumour_id'],\n",
       "      dtype='object')"
      ]
     },
     "execution_count": 39,
     "metadata": {},
     "output_type": "execute_result"
    }
   ],
   "source": [
    "sact_outcome = pd.read_csv(os.path.join(directory, 'sim_sact_outcome.csv'))\n",
    "sact_outcome.columns\n",
    "#sact_outcome.to_csv(os.path.join(directory, 'sim_sact_outcome.csv'), index=False, encoding = 'utf-8')"
   ]
  },
  {
   "cell_type": "code",
   "execution_count": 40,
   "metadata": {},
   "outputs": [
    {
     "data": {
      "text/plain": [
       "Index(['merged_drug_detail_id', 'merged_cycle_id', 'org_code_of_drug_provider',\n",
       "       'actual_dose_per_administration', 'opcs_delivery_code',\n",
       "       'administration_route', 'administration_date', 'drug_group',\n",
       "       'merged_patient_id', 'merged_tumour_id', 'merged_regimen_id'],\n",
       "      dtype='object')"
      ]
     },
     "execution_count": 40,
     "metadata": {},
     "output_type": "execute_result"
    }
   ],
   "source": [
    "sact_drug_detail = pd.read_csv(os.path.join(directory, 'sim_sact_drug_detail.csv'))\n",
    "sact_drug_detail.columns"
   ]
  },
  {
   "cell_type": "code",
   "execution_count": 41,
   "metadata": {},
   "outputs": [
    {
     "data": {
      "text/plain": [
       "Index(['merged_tumour_id', 'merged_patient_id', 'consultant_speciality_code',\n",
       "       'primary_diagnosis', 'morphology_clean'],\n",
       "      dtype='object')"
      ]
     },
     "execution_count": 41,
     "metadata": {},
     "output_type": "execute_result"
    }
   ],
   "source": [
    "sact_tumour = pd.read_csv(os.path.join(directory, 'sim_sact_tumour.csv'))\n",
    "sact_tumour.columns"
   ]
  },
  {
   "cell_type": "code",
   "execution_count": 42,
   "metadata": {},
   "outputs": [
    {
     "name": "stderr",
     "output_type": "stream",
     "text": [
      "/var/folders/2y/gptxvrsx6892_93b71lw3qq00000gn/T/ipykernel_1408/590474220.py:1: DtypeWarning: Columns (5) have mixed types. Specify dtype option on import or set low_memory=False.\n",
      "  sact_cycle = pd.read_csv(os.path.join(directory, 'sim_sact_cycle.csv'))\n"
     ]
    },
    {
     "data": {
      "text/plain": [
       "Index(['merged_cycle_id', 'merged_regimen_id', 'cycle_number',\n",
       "       'start_date_of_cycle', 'opcs_procurement_code',\n",
       "       'perf_status_start_of_cycle', 'merged_patient_id', 'merged_tumour_id'],\n",
       "      dtype='object')"
      ]
     },
     "execution_count": 42,
     "metadata": {},
     "output_type": "execute_result"
    }
   ],
   "source": [
    "sact_cycle = pd.read_csv(os.path.join(directory, 'sim_sact_cycle.csv'))\n",
    "sact_cycle.columns"
   ]
  },
  {
   "cell_type": "code",
   "execution_count": 43,
   "metadata": {},
   "outputs": [
    {
     "data": {
      "text/plain": [
       "Index(['merged_regimen_id', 'merged_tumour_id', 'height_at_start_of_regimen',\n",
       "       'weight_at_start_of_regimen', 'intent_of_treatment',\n",
       "       'date_decision_to_treat', 'start_date_of_regimen', 'mapped_regimen',\n",
       "       'clinical_trial', 'chemo_radiation', 'merged_patient_id',\n",
       "       'benchmark_group'],\n",
       "      dtype='object')"
      ]
     },
     "execution_count": 43,
     "metadata": {},
     "output_type": "execute_result"
    }
   ],
   "source": [
    "sact_regimen = pd.read_csv(os.path.join(directory, 'sim_sact_regimen.csv'))\n",
    "sact_regimen.columns"
   ]
  },
  {
   "cell_type": "code",
   "execution_count": 44,
   "metadata": {},
   "outputs": [],
   "source": [
    "# Extracting subsets from sact_cycle, sact_patient & sact_drug_detail\n",
    "# sact_cycle has inconsistent 5 field values, sact_patient produces unknown error \n",
    "# & sact_drug_detail is just too big (with no other known errors for now)\n",
    "\n",
    "# Extract 100 records randomly \n",
    "subset_sact_cycle = sact_cycle.sample(n=100, random_state=1)\n",
    "subset_sact_patient = sact_patient.sample(n=100, random_state=1)\n",
    "subset_sact_drug_detail = sact_drug_detail.sample(n=100, random_state=1)\n",
    "\n",
    "subset_av_patient = av_patient.sample(n=100, random_state=1)\n",
    "subset_av_tumour = av_tumour.sample(n=100, random_state=1)\n",
    "\n",
    "\n",
    "# Save them\n",
    "subset_sact_cycle.to_csv(os.path.join(directory, 'subset_sact_cycle.csv'), index=False)\n",
    "subset_sact_patient.to_csv(os.path.join(directory, 'subset_sact_patient.csv'), index=False)\n",
    "subset_sact_drug_detail.to_csv(os.path.join(directory, 'subset_sact_drug_detail.csv'), index=False)\n",
    "\n",
    "subset_av_patient.to_csv(os.path.join(directory, 'subset_av_patient.csv'), index=False)\n",
    "subset_av_tumour.to_csv(os.path.join(directory, 'subset_av_tumour.csv'), index=False)\n"
   ]
  },
  {
   "cell_type": "code",
   "execution_count": 46,
   "metadata": {},
   "outputs": [
    {
     "name": "stdout",
     "output_type": "stream",
     "text": [
      "14\n",
      "13\n",
      "16\n",
      "43\n",
      "94\n",
      "         merged_drug_detail_id  merged_cycle_id org_code_of_drug_provider  \\\n",
      "172400                10173334         20097762                       EXO   \n",
      "195553                10196687         20122083                 Haqrsvarq   \n",
      "207525                10208761         20134702                     EKD02   \n",
      "290354                10292348         20224889                       EAF   \n",
      "306671                10308810         20241874                       EWP   \n",
      "...                        ...              ...                       ...   \n",
      "6176575               16466239        310012863                       EON   \n",
      "6176576               16466240        310012863                     eke10   \n",
      "6176577               16466241        310012863                     EX950   \n",
      "6176578               16466242        310012863                       EJL   \n",
      "6176579               16466243        310012863                       EZ1   \n",
      "\n",
      "         actual_dose_per_administration opcs_delivery_code  \\\n",
      "172400                            600.0               X721   \n",
      "195553                            750.0               X723   \n",
      "207525                           1000.0               X723   \n",
      "290354                            750.0               X723   \n",
      "306671                            700.0               X723   \n",
      "...                                 ...                ...   \n",
      "6176575                             8.0                NaN   \n",
      "6176576                            10.0               X723   \n",
      "6176577                           100.0                NaN   \n",
      "6176578                             8.0                NaN   \n",
      "6176579                             6.6               x722   \n",
      "\n",
      "         administration_route administration_date        drug_group  \\\n",
      "172400                    1.0          2016-06-24       TRASTUZUMAB   \n",
      "195553                    1.0          2018-04-08  CYCLOPHOSPHAMIDE   \n",
      "207525                    1.0          2018-05-13  CYCLOPHOSPHAMIDE   \n",
      "290354                    1.0          2016-07-16      FLUOROURACIL   \n",
      "306671                    1.0          2018-04-29  CYCLOPHOSPHAMIDE   \n",
      "...                       ...                 ...               ...   \n",
      "6176575                   1.0          2015-04-16         NOT CHEMO   \n",
      "6176576                   2.0          2015-04-16         NOT CHEMO   \n",
      "6176577                   1.0          2015-04-16         NOT CHEMO   \n",
      "6176578                   1.0          2015-04-16         NOT CHEMO   \n",
      "6176579                   1.0          2015-04-16           STEROID   \n",
      "\n",
      "         merged_patient_id  merged_tumour_id  merged_regimen_id  \n",
      "172400            20183618          20100597           20097795  \n",
      "195553            20183618          20100597           20122130  \n",
      "207525            20183618          20056782           20134753  \n",
      "290354            20183618          20100597           20097795  \n",
      "306671            20183618          20100597           20122130  \n",
      "...                    ...               ...                ...  \n",
      "6176575          310006806         310000471          310001138  \n",
      "6176576          310006806         310000471          310001138  \n",
      "6176577          310006806         310000471          310001138  \n",
      "6176578          310006806         310000471          310001138  \n",
      "6176579          310006806         310000471          310001138  \n",
      "\n",
      "[94 rows x 11 columns]\n"
     ]
    }
   ],
   "source": [
    "# Finding matching patient_id in other datasets from subset_av_patient\n",
    "\n",
    "# Using av_patient as the central field that connects everything since we\n",
    "# deleted sact_patient\n",
    "\n",
    "av_patient_ids = subset_av_patient['patient_id'].tolist()\n",
    "\n",
    "# Get matching records in av_tumour (COSD section)\n",
    "matching_av_tumour = av_tumour.loc[av_tumour['patient_id'].isin(av_patient_ids)]\n",
    "print(len(matching_av_tumour))\n",
    "\n",
    "# Now SACT Section\n",
    "matching_sact_tumour = sact_tumour.loc[sact_tumour['merged_patient_id'].isin(av_patient_ids)]\n",
    "print(len(matching_sact_tumour))\n",
    "\n",
    "merged_tumour_ids = matching_sact_tumour['merged_tumour_id'].tolist()\n",
    "matching_sact_regimen = sact_regimen.loc[sact_regimen['merged_tumour_id'].isin(merged_tumour_ids)]\n",
    "print(len(matching_sact_regimen))\n",
    "\n",
    "merged_regimen_ids = matching_sact_regimen['merged_regimen_id'].tolist()\n",
    "matching_sact_cycle = sact_cycle.loc[sact_cycle['merged_regimen_id'].isin(merged_regimen_ids)]\n",
    "print(len(matching_sact_cycle))\n",
    "\n",
    "merged_cycle_ids = matching_sact_cycle['merged_cycle_id'].tolist()\n",
    "matching_sact_drug_detail = sact_drug_detail.loc[sact_drug_detail['merged_cycle_id'].isin(merged_cycle_ids)]\n",
    "print(len(matching_sact_drug_detail))\n",
    "\n",
    "print(matching_sact_drug_detail)\n",
    "\n",
    "# Save all of them to trial upload\n",
    "matching_av_tumour.to_csv(os.path.join(directory, 'matching_av_tumour.csv'), index=False)\n",
    "matching_sact_tumour.to_csv(os.path.join(directory, 'matching_sact_tumour.csv'), index=False)\n",
    "matching_sact_regimen.to_csv(os.path.join(directory, 'matching_sact_regiment'), index=False)\n",
    "matching_sact_cycle.to_csv(os.path.join(directory, 'matching_sact_cycle'), index=False)\n",
    "matching_sact_drug_detail.to_csv(os.path.join(directory, 'matching_sact_drug_detail'), index=False)\n",
    "\n",
    "\n"
   ]
  },
  {
   "cell_type": "code",
   "execution_count": null,
   "metadata": {},
   "outputs": [],
   "source": []
  }
 ],
 "metadata": {
  "kernelspec": {
   "display_name": "base",
   "language": "python",
   "name": "python3"
  },
  "language_info": {
   "codemirror_mode": {
    "name": "ipython",
    "version": 3
   },
   "file_extension": ".py",
   "mimetype": "text/x-python",
   "name": "python",
   "nbconvert_exporter": "python",
   "pygments_lexer": "ipython3",
   "version": "3.12.5"
  },
  "orig_nbformat": 4
 },
 "nbformat": 4,
 "nbformat_minor": 2
}
