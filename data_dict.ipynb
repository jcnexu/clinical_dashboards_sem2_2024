{
 "cells": [
  {
   "attachments": {},
   "cell_type": "markdown",
   "metadata": {},
   "source": [
    "## Redefining Field Variables"
   ]
  },
  {
   "cell_type": "code",
   "execution_count": 1,
   "metadata": {},
   "outputs": [],
   "source": [
    "import os\n",
    "import pandas as pd"
   ]
  },
  {
   "cell_type": "code",
   "execution_count": 2,
   "metadata": {},
   "outputs": [],
   "source": [
    "def read_file_with_encoding(file_path):\n",
    "    encodings = ['utf-8', 'latin1', 'ISO-8859-1', 'cp1252']\n",
    "    \n",
    "    for encoding in encodings:\n",
    "        try:\n",
    "            df = pd.read_csv(file_path, encoding=encoding)\n",
    "            return df\n",
    "        except UnicodeDecodeError:\n",
    "            continue\n",
    "    \n",
    "    raise ValueError(f\"Failed to decode {file_path} with available encodings.\")"
   ]
  },
  {
   "cell_type": "code",
   "execution_count": 3,
   "metadata": {},
   "outputs": [],
   "source": [
    "def read_file_utf8(file_path):\n",
    "    try:\n",
    "        df = pd.read_csv(file_path, encoding='utf-8')\n",
    "        return df\n",
    "    except UnicodeDecodeError:\n",
    "        raise ValueError(f\"Error to decode {file_path} with UTF-8 encoding :(\")"
   ]
  },
  {
   "cell_type": "code",
   "execution_count": 4,
   "metadata": {},
   "outputs": [
    {
     "name": "stdout",
     "output_type": "stream",
     "text": [
      "Successfully processed and saved: .DS_Store\n",
      "Successfully processed and saved: sim_av_patient.csv\n",
      "Successfully processed and saved: sim_sact_outcome.csv\n",
      "Successfully processed and saved: sim_sact_drug_detail.csv\n",
      "Successfully processed and saved: sim_sact_patient.csv\n"
     ]
    },
    {
     "name": "stderr",
     "output_type": "stream",
     "text": [
      "/var/folders/wm/5g809ssj2tbbh5kq8m3h9v5m0000gn/T/ipykernel_68059/3401075425.py:6: DtypeWarning: Columns (5,6,8,9,17,18,20,22,24,26) have mixed types. Specify dtype option on import or set low_memory=False.\n",
      "  df = pd.read_csv(file_path, encoding=encoding)\n"
     ]
    },
    {
     "name": "stdout",
     "output_type": "stream",
     "text": [
      "Successfully processed and saved: sim_av_tumour.csv\n",
      "Successfully processed and saved: sim_sact_tumour.csv\n"
     ]
    },
    {
     "name": "stderr",
     "output_type": "stream",
     "text": [
      "/var/folders/wm/5g809ssj2tbbh5kq8m3h9v5m0000gn/T/ipykernel_68059/3401075425.py:6: DtypeWarning: Columns (5) have mixed types. Specify dtype option on import or set low_memory=False.\n",
      "  df = pd.read_csv(file_path, encoding=encoding)\n"
     ]
    },
    {
     "name": "stdout",
     "output_type": "stream",
     "text": [
      "Successfully processed and saved: sim_sact_cycle.csv\n",
      "Successfully processed and saved: sim_sact_regimen.csv\n"
     ]
    }
   ],
   "source": [
    "# Define the directory of files (you should modify it to match your local directory)\n",
    "# Jane's\n",
    "# directory = \"/Users/janexu/Documents/0. 2024 3rd Year/SCIE30002/simulacrum_release_v1.2.0.2017/data\"\n",
    "\n",
    "# Kathleen's\n",
    "directory = \"../simulacrum_release_v1.2.0.2017/data\"\n",
    "files = os.listdir(directory)\n",
    "\n",
    "for file_name in files:\n",
    "    file_path = os.path.join(directory, file_name)\n",
    "    \n",
    "    try:\n",
    "        # Read the file with encoding handling\n",
    "        df = read_file_with_encoding(file_path)\n",
    "        \n",
    "        # Convert column names to lowercase\n",
    "        df.columns = [col.lower() for col in df.columns]\n",
    "        \n",
    "        # Save the updated file\n",
    "        df.to_csv(file_path, index=False, encoding = 'utf-8')\n",
    "        \n",
    "        print(f\"Successfully processed and saved: {file_name}\")\n",
    "        \n",
    "    except Exception as e:\n",
    "        print(f\"Error processing {file_name}: {e}\")\n"
   ]
  },
  {
   "cell_type": "code",
   "execution_count": 7,
   "metadata": {},
   "outputs": [],
   "source": [
    "av_patient = pd.read_csv(os.path.join(directory, 'sim_av_patient.csv'))\n",
    "\n",
    "new_names = {\n",
    "    'patientid': 'patient_id',\n",
    "    'sex': 'sex',\n",
    "    'linknumber': 'link_number',\n",
    "    'ethnicity': 'ethnicity',\n",
    "    'deathcausecode_1a': 'death_cause_code_1a',\n",
    "    'deathcausecode_1b': 'death_cause_code_1b',\n",
    "    'deathcausecode_1c': 'death_cause_code_1c',\n",
    "    'deathcausecode_2': 'death_cause_code_2',\n",
    "    'deathcausecode_underlying': 'death_cause_code_underlying',\n",
    "    'deathlocationcode': 'death_location_code',\n",
    "    'newvitalstatus': 'new_vital_status',\n",
    "    'vitalstatusdate': 'vital_status_date'\n",
    "}\n",
    "\n",
    "av_patient.rename(columns=new_names, inplace=True)\n",
    "av_patient.to_csv(os.path.join(directory, 'sim_av_patient.csv'), index=False)\n"
   ]
  },
  {
   "cell_type": "code",
   "execution_count": 8,
   "metadata": {},
   "outputs": [
    {
     "name": "stderr",
     "output_type": "stream",
     "text": [
      "/var/folders/wm/5g809ssj2tbbh5kq8m3h9v5m0000gn/T/ipykernel_68059/1046365648.py:1: DtypeWarning: Columns (5,6,8,9,17,18,20,22,24,26) have mixed types. Specify dtype option on import or set low_memory=False.\n",
      "  av_tumour = pd.read_csv(os.path.join(directory, 'sim_av_tumour.csv'))\n"
     ]
    }
   ],
   "source": [
    "av_tumour = pd.read_csv(os.path.join(directory, 'sim_av_tumour.csv'))\n",
    "\n",
    "rename = {\n",
    "    'tumourid': 'tumour_id',\n",
    "    'patientid': 'patient_id',\n",
    "    'diagnosisdatebest': 'diagnosis_date_best',\n",
    "    'site_icd10_o2': 'site_icd10_o2',\n",
    "    'site_icd10_o2_3char': 'site_icd10_o2_3_char',\n",
    "    'morph_icd10_o2': 'morph_icd10_o2',\n",
    "    'behaviour_icd10_o2': 'behaviour_icd10_o2',\n",
    "    't_best': 't_best',\n",
    "    'n_best': 'n_best',\n",
    "    'm_best': 'm_best',\n",
    "    'stage_best': 'stage_best',\n",
    "    'stage_best_system': 'stage_best_system',\n",
    "    'grade': 'grade',\n",
    "    'age': 'age',\n",
    "    'sex': 'sex',\n",
    "    'creg_code': 'creg_code',\n",
    "    'linknumber': 'link_number',\n",
    "    'screeningstatusfull_code': 'screening_status_full_code',\n",
    "    'er_status': 'er_status',\n",
    "    'er_score': 'er_score',\n",
    "    'pr_status': 'pr_status',\n",
    "    'pr_score': 'pr_score',\n",
    "    'her2_status': 'her2_status',\n",
    "    'cancercareplanintent': 'cancer_care_plan_intent',\n",
    "    'performancestatus': 'performance_status',\n",
    "    'cns': 'cns',\n",
    "    'ace27': 'ace27',\n",
    "    'gleason_primary': 'gleason_primary',\n",
    "    'gleason_secondary': 'gleason_secondary',\n",
    "    'gleason_tertiary': 'gleason_tertiary',\n",
    "    'gleason_combined': 'gleason_combined',\n",
    "    'date_first_surgery': 'date_first_surgery',\n",
    "    'laterality': 'laterality',\n",
    "    'quintile_2015': 'quintile_2015'\n",
    "}\n",
    "\n",
    "av_tumour.rename(columns=rename, inplace=True)\n",
    "av_tumour.to_csv(os.path.join(directory, 'sim_av_tumour.csv'), index=False)"
   ]
  },
  {
   "cell_type": "code",
   "execution_count": 9,
   "metadata": {},
   "outputs": [
    {
     "data": {
      "text/plain": [
       "Index(['merged_patient_id', 'link_number'], dtype='object')"
      ]
     },
     "execution_count": 9,
     "metadata": {},
     "output_type": "execute_result"
    }
   ],
   "source": [
    "sact_patient = pd.read_csv(os.path.join(directory, 'sim_sact_patient.csv'))\n",
    "sact_patient.columns"
   ]
  },
  {
   "cell_type": "code",
   "execution_count": 11,
   "metadata": {},
   "outputs": [
    {
     "data": {
      "text/plain": [
       "Index(['merged_patient_id'], dtype='object')"
      ]
     },
     "execution_count": 11,
     "metadata": {},
     "output_type": "execute_result"
    }
   ],
   "source": [
    "# Attempt to fix unknown error by dropping a column from the original dataset\n",
    "sact_patient = sact_patient.drop(columns = ['link_number'])\n",
    "sact_patient.to_csv(os.path.join(directory, 'sim_sact_patient.csv'), index=False, encoding = 'utf-8')"
   ]
  },
  {
   "cell_type": "code",
   "execution_count": 8,
   "metadata": {},
   "outputs": [
    {
     "data": {
      "text/plain": [
       "Index(['merged_outcome_id', 'merged_regimen_id', 'date_of_final_treatment',\n",
       "       'regimen_mod_dose_reduction', 'regimen_mod_time_delay',\n",
       "       'regimen_mod_stopped_early', 'regimen_outcome_summary',\n",
       "       'merged_patient_id', 'merged_tumour_id'],\n",
       "      dtype='object')"
      ]
     },
     "execution_count": 8,
     "metadata": {},
     "output_type": "execute_result"
    }
   ],
   "source": [
    "sact_outcome = pd.read_csv(os.path.join(directory, 'sim_sact_outcome.csv'))\n",
    "sact_outcome.columns"
   ]
  },
  {
   "cell_type": "code",
   "execution_count": 9,
   "metadata": {},
   "outputs": [
    {
     "data": {
      "text/plain": [
       "Index(['merged_drug_detail_id', 'merged_cycle_id', 'org_code_of_drug_provider',\n",
       "       'actual_dose_per_administration', 'opcs_delivery_code',\n",
       "       'administration_route', 'administration_date', 'drug_group',\n",
       "       'merged_patient_id', 'merged_tumour_id', 'merged_regimen_id'],\n",
       "      dtype='object')"
      ]
     },
     "execution_count": 9,
     "metadata": {},
     "output_type": "execute_result"
    }
   ],
   "source": [
    "sact_drug_detail = pd.read_csv(os.path.join(directory, 'sim_sact_drug_detail.csv'))\n",
    "sact_drug_detail.columns"
   ]
  },
  {
   "cell_type": "code",
   "execution_count": 10,
   "metadata": {},
   "outputs": [
    {
     "data": {
      "text/plain": [
       "Index(['merged_tumour_id', 'merged_patient_id', 'consultant_speciality_code',\n",
       "       'primary_diagnosis', 'morphology_clean'],\n",
       "      dtype='object')"
      ]
     },
     "execution_count": 10,
     "metadata": {},
     "output_type": "execute_result"
    }
   ],
   "source": [
    "sact_tumour = pd.read_csv(os.path.join(directory, 'sim_sact_tumour.csv'))\n",
    "sact_tumour.columns"
   ]
  },
  {
   "cell_type": "code",
   "execution_count": 11,
   "metadata": {},
   "outputs": [
    {
     "name": "stderr",
     "output_type": "stream",
     "text": [
      "/var/folders/2y/gptxvrsx6892_93b71lw3qq00000gn/T/ipykernel_2012/590474220.py:1: DtypeWarning: Columns (5) have mixed types. Specify dtype option on import or set low_memory=False.\n",
      "  sact_cycle = pd.read_csv(os.path.join(directory, 'sim_sact_cycle.csv'))\n"
     ]
    },
    {
     "data": {
      "text/plain": [
       "Index(['merged_cycle_id', 'merged_regimen_id', 'cycle_number',\n",
       "       'start_date_of_cycle', 'opcs_procurement_code',\n",
       "       'perf_status_start_of_cycle', 'merged_patient_id', 'merged_tumour_id'],\n",
       "      dtype='object')"
      ]
     },
     "execution_count": 11,
     "metadata": {},
     "output_type": "execute_result"
    }
   ],
   "source": [
    "sact_cycle = pd.read_csv(os.path.join(directory, 'sim_sact_cycle.csv'))\n",
    "sact_cycle.columns"
   ]
  },
  {
   "cell_type": "code",
   "execution_count": 12,
   "metadata": {},
   "outputs": [
    {
     "data": {
      "text/plain": [
       "Index(['merged_regimen_id', 'merged_tumour_id', 'height_at_start_of_regimen',\n",
       "       'weight_at_start_of_regimen', 'intent_of_treatment',\n",
       "       'date_decision_to_treat', 'start_date_of_regimen', 'mapped_regimen',\n",
       "       'clinical_trial', 'chemo_radiation', 'merged_patient_id',\n",
       "       'benchmark_group'],\n",
       "      dtype='object')"
      ]
     },
     "execution_count": 12,
     "metadata": {},
     "output_type": "execute_result"
    }
   ],
   "source": [
    "sact_regimen = pd.read_csv(os.path.join(directory, 'sim_sact_regimen.csv'))\n",
    "sact_regimen.columns"
   ]
  },
  {
   "cell_type": "code",
   "execution_count": null,
   "metadata": {},
   "outputs": [],
   "source": []
  }
 ],
 "metadata": {
  "kernelspec": {
   "display_name": "base",
   "language": "python",
   "name": "python3"
  },
  "language_info": {
   "codemirror_mode": {
    "name": "ipython",
    "version": 3
   },
   "file_extension": ".py",
   "mimetype": "text/x-python",
   "name": "python",
   "nbconvert_exporter": "python",
   "pygments_lexer": "ipython3",
   "version": "3.11.7"
  },
  "orig_nbformat": 4
 },
 "nbformat": 4,
 "nbformat_minor": 2
}
